{
 "cells": [
  {
   "cell_type": "code",
   "execution_count": 1,
   "metadata": {
    "collapsed": true
   },
   "outputs": [],
   "source": [
    "import numpy as np\n",
    "import matplotlib.pyplot as plt\n",
    "%matplotlib inline\n",
    "%config InlineBackend.figure_format='retina'"
   ]
  },
  {
   "cell_type": "code",
   "execution_count": 2,
   "metadata": {
    "collapsed": true
   },
   "outputs": [],
   "source": [
    "from astropy.stats import bootstrap"
   ]
  },
  {
   "cell_type": "markdown",
   "metadata": {},
   "source": [
    "## Load data"
   ]
  },
  {
   "cell_type": "code",
   "execution_count": 3,
   "metadata": {
    "collapsed": true
   },
   "outputs": [],
   "source": [
    "zeropoint = np.load('Run_040118/bolp_21p0_0.npz')\n",
    "pert1 = np.load('Run_040118/bolp_21p0_um_0.npz')\n",
    "pert2 = np.load('Run_040118/bolp_21p0_um_0_1.npz')"
   ]
  },
  {
   "cell_type": "code",
   "execution_count": 4,
   "metadata": {
    "collapsed": false
   },
   "outputs": [
    {
     "name": "stdout",
     "output_type": "stream",
     "text": [
      "[  1.33738  13.98811   0.5595   11.95797  12.82356   0.        0.     ]\n"
     ]
    }
   ],
   "source": [
    "p_0 = zeropoint['param'][0]\n",
    "print p_0"
   ]
  },
  {
   "cell_type": "code",
   "execution_count": 5,
   "metadata": {
    "collapsed": false
   },
   "outputs": [],
   "source": [
    "func_0 = np.mean(zeropoint['func_all'],axis=0)"
   ]
  },
  {
   "cell_type": "code",
   "execution_count": 6,
   "metadata": {
    "collapsed": false
   },
   "outputs": [],
   "source": [
    "d_pert_func = np.concatenate((pert1['func_all'][:5000],pert2['func_all'][:15000],\\\n",
    "                            pert1['func_all'][5000:10000],pert2['func_all'][15000:30000],\\\n",
    "                            pert1['func_all'][10000:15000],pert2['func_all'][30000:45000],\\\n",
    "                            pert1['func_all'][15000:20000],pert2['func_all'][45000:60000],\\\n",
    "                            pert1['func_all'][20000:25000],pert2['func_all'][60000:75000],\\\n",
    "                            pert1['func_all'][25000:30000],pert2['func_all'][75000:90000],\\\n",
    "                            pert1['func_all'][30000:35000],pert2['func_all'][90000:105000],\\\n",
    "                            pert1['func_all'][35000:40000],pert2['func_all'][105000:120000],\\\n",
    "                            pert1['func_all'][40000:45000],pert2['func_all'][120000:135000],\\\n",
    "                            pert1['func_all'][45000:50000],pert2['func_all'][135000:150000],\\\n",
    "                            pert1['func_all'][50000:55000],pert2['func_all'][150000:165000],\\\n",
    "                            pert1['func_all'][55000:60000],pert2['func_all'][165000:180000],\\\n",
    "                            pert1['func_all'][60000:65000],pert2['func_all'][180000:195000],\n",
    "                            pert1['func_all'][65000:],pert2['func_all'][195000:]))-func_0"
   ]
  },
  {
   "cell_type": "code",
   "execution_count": 51,
   "metadata": {
    "collapsed": true
   },
   "outputs": [],
   "source": [
    "N_pert = 40000\n",
    "hN_pert = N_pert/2\n",
    "N_real = 1000\n",
    "len_obs = 120"
   ]
  },
  {
   "cell_type": "code",
   "execution_count": 8,
   "metadata": {
    "collapsed": true
   },
   "outputs": [],
   "source": [
    "d_p_pert = np.concatenate((pert1['param'][:5000],pert2['param'][:15000],\\\n",
    "                            pert1['param'][5000:10000],pert2['param'][15000:30000],\\\n",
    "                            pert1['param'][10000:15000],pert2['param'][30000:45000],\\\n",
    "                            pert1['param'][15000:20000],pert2['param'][45000:60000],\\\n",
    "                            pert1['param'][20000:25000],pert2['param'][60000:75000],\\\n",
    "                            pert1['param'][25000:30000],pert2['param'][75000:90000],\\\n",
    "                            pert1['param'][30000:35000],pert2['param'][90000:105000],\\\n",
    "                            pert1['param'][35000:40000],pert2['param'][105000:120000],\\\n",
    "                            pert1['param'][40000:45000],pert2['param'][120000:135000],\\\n",
    "                            pert1['param'][45000:50000],pert2['param'][135000:150000],\\\n",
    "                            pert1['param'][50000:55000],pert2['param'][150000:165000],\\\n",
    "                            pert1['param'][55000:60000],pert2['param'][165000:180000],\\\n",
    "                            pert1['param'][60000:65000],pert2['param'][180000:195000],\n",
    "                            pert1['param'][65000:],pert2['param'][195000:]))-p_0"
   ]
  },
  {
   "cell_type": "code",
   "execution_count": 9,
   "metadata": {
    "collapsed": false
   },
   "outputs": [
    {
     "data": {
      "text/plain": [
       "array([[-0.025,  0.   ,  0.   ,  0.   ,  0.   ,  0.   ,  0.   ],\n",
       "       [ 0.025,  0.   ,  0.   ,  0.   ,  0.   ,  0.   ,  0.   ],\n",
       "       [ 0.   , -0.05 ,  0.   ,  0.   ,  0.   ,  0.   ,  0.   ],\n",
       "       [ 0.   ,  0.05 ,  0.   ,  0.   ,  0.   ,  0.   ,  0.   ],\n",
       "       [ 0.   ,  0.   , -0.02 ,  0.   ,  0.   ,  0.   ,  0.   ],\n",
       "       [ 0.   ,  0.   ,  0.02 ,  0.   ,  0.   ,  0.   ,  0.   ],\n",
       "       [ 0.   ,  0.   ,  0.   , -0.1  ,  0.   ,  0.   ,  0.   ],\n",
       "       [ 0.   ,  0.   ,  0.   ,  0.1  ,  0.   ,  0.   ,  0.   ],\n",
       "       [ 0.   ,  0.   ,  0.   ,  0.   , -0.02 ,  0.   ,  0.   ],\n",
       "       [ 0.   ,  0.   ,  0.   ,  0.   ,  0.02 ,  0.   ,  0.   ],\n",
       "       [ 0.   ,  0.   ,  0.   ,  0.   ,  0.   , -0.05 ,  0.   ],\n",
       "       [ 0.   ,  0.   ,  0.   ,  0.   ,  0.   ,  0.05 ,  0.   ],\n",
       "       [ 0.   ,  0.   ,  0.   ,  0.   ,  0.   ,  0.   , -0.05 ],\n",
       "       [ 0.   ,  0.   ,  0.   ,  0.   ,  0.   ,  0.   ,  0.05 ]])"
      ]
     },
     "execution_count": 9,
     "metadata": {},
     "output_type": "execute_result"
    }
   ],
   "source": [
    "d_p_pert[::20000]"
   ]
  },
  {
   "cell_type": "markdown",
   "metadata": {},
   "source": [
    "## Bootstrap for df/dp"
   ]
  },
  {
   "cell_type": "code",
   "execution_count": 12,
   "metadata": {
    "collapsed": false
   },
   "outputs": [],
   "source": [
    "def bootstrap_mean(sample,nboot=1):\n",
    "    return bootstrap(sample, nboot, bootfunc=np.mean)"
   ]
  },
  {
   "cell_type": "code",
   "execution_count": 73,
   "metadata": {
    "collapsed": true
   },
   "outputs": [],
   "source": [
    "bootstrap_means = bootstrap_mean(d_pert_func[:20000,0],10000)"
   ]
  },
  {
   "cell_type": "code",
   "execution_count": 80,
   "metadata": {
    "collapsed": false
   },
   "outputs": [
    {
     "name": "stdout",
     "output_type": "stream",
     "text": [
      "2.0602112e-06 2.06039391936e-06 4.5420681336e-08\n"
     ]
    },
    {
     "data": {
      "image/png": "[encoded data removed]",
      "text/plain": [
       "<matplotlib.figure.Figure at 0x7f155278e0d0>"
      ]
     },
     "metadata": {
      "image/png": {
       "height": 250,
       "width": 383
      }
     },
     "output_type": "display_data"
    }
   ],
   "source": [
    "plt.hist(bootstrap_means)\n",
    "plt.xticks((0.0000019,0.000002,0.0000021,0.0000022))\n",
    "print np.mean(d_pert_func[:20000,0]),np.mean(bootstrap_means),np.std(bootstrap_means)"
   ]
  },
  {
   "cell_type": "code",
   "execution_count": 82,
   "metadata": {
    "collapsed": true
   },
   "outputs": [],
   "source": [
    "subsample_10000 = d_pert_func[np.random.randint(20000,size=10000),0]\n",
    "bootstrap_means_10000 = bootstrap_mean(subsample_10000,10000)"
   ]
  },
  {
   "cell_type": "code",
   "execution_count": 83,
   "metadata": {
    "collapsed": false
   },
   "outputs": [
    {
     "name": "stdout",
     "output_type": "stream",
     "text": [
      "2.0601216e-06 2.06050628352e-06 6.43992330954e-08\n"
     ]
    },
    {
     "data": {
      "image/png": "[encoded data removed]",
      "text/plain": [
       "<matplotlib.figure.Figure at 0x7f15525b6dd0>"
      ]
     },
     "metadata": {
      "image/png": {
       "height": 251,
       "width": 385
      }
     },
     "output_type": "display_data"
    }
   ],
   "source": [
    "plt.hist(bootstrap_means_10000)\n",
    "print np.mean(subsample_10000),np.mean(bootstrap_means_10000),np.std(bootstrap_means_10000)"
   ]
  },
  {
   "cell_type": "code",
   "execution_count": 84,
   "metadata": {
    "collapsed": true
   },
   "outputs": [],
   "source": [
    "subsample_5000 = d_pert_func[np.random.randint(20000,size=5000),0]\n",
    "bootstrap_means_5000 = bootstrap_mean(subsample_5000,10000)"
   ]
  },
  {
   "cell_type": "code",
   "execution_count": 85,
   "metadata": {
    "collapsed": false
   },
   "outputs": [
    {
     "name": "stdout",
     "output_type": "stream",
     "text": [
      "1.9990912e-06 1.99926837888e-06 9.01496239428e-08\n"
     ]
    },
    {
     "data": {
      "image/png": "[encoded data removed]",
      "text/plain": [
       "<matplotlib.figure.Figure at 0x7f155240c750>"
      ]
     },
     "metadata": {
      "image/png": {
       "height": 250,
       "width": 397
      }
     },
     "output_type": "display_data"
    }
   ],
   "source": [
    "plt.hist(bootstrap_means_5000)\n",
    "print np.mean(subsample_5000),np.mean(bootstrap_means_5000),np.std(bootstrap_means_5000)"
   ]
  },
  {
   "cell_type": "code",
   "execution_count": 141,
   "metadata": {
    "collapsed": false,
    "scrolled": true
   },
   "outputs": [
    {
     "name": "stdout",
     "output_type": "stream",
     "text": [
      "0\n",
      "1\n",
      "2\n",
      "3\n",
      "4\n",
      "5\n",
      "6\n",
      "7\n",
      "8\n",
      "9\n",
      "10\n",
      "11\n",
      "12\n",
      "13\n",
      "14\n",
      "15\n",
      "16\n",
      "17\n",
      "18\n",
      "19\n",
      "20\n",
      "21\n",
      "22\n",
      "23\n",
      "24\n",
      "25\n",
      "26\n",
      "27\n",
      "28\n",
      "29\n",
      "30\n",
      "31\n",
      "32\n",
      "33\n",
      "34\n",
      "35\n",
      "36\n",
      "37\n",
      "38\n",
      "39\n",
      "40\n",
      "41\n",
      "42\n",
      "43\n",
      "44\n",
      "45\n",
      "46\n",
      "47\n",
      "48\n",
      "49\n",
      "50\n",
      "51\n",
      "52\n",
      "53\n",
      "54\n",
      "55\n",
      "56\n",
      "57\n",
      "58\n",
      "59\n",
      "60\n",
      "61\n",
      "62\n",
      "63\n",
      "64\n",
      "65\n",
      "66\n",
      "67\n",
      "68\n",
      "69\n",
      "70\n",
      "71\n",
      "72\n",
      "73\n",
      "74\n",
      "75\n",
      "76\n",
      "77\n",
      "78\n",
      "79\n",
      "80\n",
      "81\n",
      "82\n",
      "83\n",
      "84\n",
      "85\n",
      "86\n",
      "87\n",
      "88\n",
      "89\n",
      "90\n",
      "91\n",
      "92\n",
      "93\n",
      "94\n",
      "95\n",
      "96\n",
      "97\n",
      "98\n",
      "99\n"
     ]
    }
   ],
   "source": [
    "mean_bootstrap_means = []\n",
    "std_bootstrap_means = []\n",
    "mean_subsample = []\n",
    "for i in range(100):\n",
    "    subsample_i = d_pert_func[np.random.randint(20000,size=i*200+200),0]\n",
    "    bootstrap_means_i = bootstrap_mean(subsample_i,10000)\n",
    "    mean_bootstrap_means.append(np.mean(bootstrap_means_i))\n",
    "    std_bootstrap_means.append(np.std(bootstrap_means_i))\n",
    "    mean_subsample.append(np.mean(subsample_i))\n",
    "    print i"
   ]
  },
  {
   "cell_type": "code",
   "execution_count": 153,
   "metadata": {
    "collapsed": false
   },
   "outputs": [
    {
     "data": {
      "text/plain": [
       "[<matplotlib.lines.Line2D at 0x7f1538487890>]"
      ]
     },
     "execution_count": 153,
     "metadata": {},
     "output_type": "execute_result"
    },
    {
     "data": {
      "image/png": "[encoded data removed]",
      "text/plain": [
       "<matplotlib.figure.Figure at 0x7f1535157cd0>"
      ]
     },
     "metadata": {
      "image/png": {
       "height": 250,
       "width": 412
      }
     },
     "output_type": "display_data"
    }
   ],
   "source": [
    "plt.errorbar(np.arange(1,101)*200,mean_bootstrap_means,std_bootstrap_means,linestyle=':')\n",
    "plt.plot(np.arange(1,101)*200,mean_subsample,'r-')"
   ]
  },
  {
   "cell_type": "code",
   "execution_count": 52,
   "metadata": {
    "collapsed": true
   },
   "outputs": [],
   "source": [
    "dfdp = np.zeros((7,len_obs))"
   ]
  },
  {
   "cell_type": "code",
   "execution_count": 63,
   "metadata": {
    "collapsed": true
   },
   "outputs": [],
   "source": [
    "def absmin(array):\n",
    "    absarray = np.abs(array)\n",
    "    arg = np.argmin(absarray)\n",
    "    return array[arg]"
   ]
  },
  {
   "cell_type": "markdown",
   "metadata": {},
   "source": [
    "Instead of using mean of (df+)/(dp+) and (df-)/(dp-), use the smaller value?"
   ]
  },
  {
   "cell_type": "code",
   "execution_count": 66,
   "metadata": {
    "collapsed": true
   },
   "outputs": [
    {
     "name": "stdout",
     "output_type": "stream",
     "text": [
      "0 0\n",
      "0 1\n",
      "0 2\n",
      "0 3\n",
      "0 4\n",
      "0 5\n",
      "0 6\n",
      "0 7\n",
      "0 8\n",
      "0 9\n",
      "0 10\n",
      "0 11\n",
      "0 12\n",
      "0 13\n",
      "0 14\n",
      "0 15\n",
      "0 16\n",
      "0 17\n",
      "0 18\n",
      "0 19\n",
      "0 20\n",
      "0 21\n",
      "0 22\n",
      "0 23\n",
      "0 24\n",
      "0 25\n",
      "0 26\n",
      "0 27\n",
      "0 28\n",
      "0 29\n",
      "0 30\n",
      "0 31\n",
      "0 32\n",
      "0 33\n",
      "0 34\n",
      "0 35\n",
      "0 36\n",
      "0 37\n",
      "0 38\n",
      "0 39\n",
      "0 40\n",
      "0 41\n",
      "0 42\n",
      "0 43\n",
      "0 44\n",
      "0 45\n",
      "0 46\n",
      "0 47\n",
      "0 48\n",
      "0 49\n",
      "0 50\n",
      "0 51\n",
      "0 52\n",
      "0 53\n",
      "0 54\n",
      "0 55\n",
      "0 56\n",
      "0 57\n",
      "0 58\n",
      "0 59\n",
      "0 60\n",
      "0 61\n",
      "0 62\n",
      "0 63\n",
      "0 64\n",
      "0 65\n",
      "0 66\n",
      "0 67\n",
      "0 68\n",
      "0 69\n",
      "0 70\n",
      "0 71\n",
      "0 72\n",
      "0 73\n",
      "0 74\n",
      "0 75\n",
      "0 76\n",
      "0 77\n",
      "0 78\n",
      "0 79\n",
      "0 80\n",
      "0 81\n",
      "0 82\n",
      "0 83\n",
      "0 84\n",
      "0 85\n",
      "0 86\n",
      "0 87\n",
      "0 88\n",
      "0 89\n",
      "0 90\n",
      "0 91\n",
      "0 92\n",
      "0 93\n",
      "0 94\n",
      "0 95\n",
      "0 96\n",
      "0 97\n",
      "0 98\n",
      "0 99\n",
      "0 100\n",
      "0 101\n",
      "0 102\n",
      "0 103\n",
      "0 104\n",
      "0 105\n",
      "0 106\n",
      "0 107\n",
      "0 108\n",
      "0 109\n",
      "0 110\n",
      "0 111\n",
      "0 112\n",
      "0 113\n",
      "0 114\n",
      "0 115\n",
      "0 116\n",
      "0 117\n",
      "0 118\n",
      "0 119\n",
      "1 0\n",
      "1 1\n",
      "1 2\n",
      "1 3\n",
      "1 4\n",
      "1 5\n",
      "1 6\n",
      "1 7\n",
      "1 8\n",
      "1 9\n",
      "1 10\n",
      "1 11\n",
      "1 12\n",
      "1 13\n",
      "1 14\n",
      "1 15\n",
      "1 16\n",
      "1 17\n",
      "1 18\n",
      "1 19\n",
      "1 20\n",
      "1 21\n",
      "1 22\n",
      "1 23\n",
      "1 24\n",
      "1 25\n",
      "1 26\n",
      "1 27\n",
      "1 28\n",
      "1 29\n",
      "1 30\n",
      "1 31\n",
      "1 32\n",
      "1 33\n",
      "1 34\n",
      "1 35\n",
      "1 36\n",
      "1 37\n",
      "1 38\n",
      "1 39\n",
      "1 40\n",
      "1 41\n",
      "1 42\n",
      "1 43\n",
      "1 44\n",
      "1 45\n",
      "1 46\n",
      "1 47\n",
      "1 48\n",
      "1 49\n",
      "1 50\n",
      "1 51\n",
      "1 52\n",
      "1 53\n",
      "1 54\n",
      "1 55\n",
      "1 56\n",
      "1 57\n",
      "1 58\n",
      "1 59\n",
      "1 60\n",
      "1 61\n",
      "1 62\n",
      "1 63\n",
      "1 64\n",
      "1 65\n",
      "1 66\n",
      "1 67\n",
      "1 68\n",
      "1 69\n",
      "1 70\n",
      "1 71\n",
      "1 72\n",
      "1 73\n",
      "1 74\n",
      "1 75\n",
      "1 76\n",
      "1 77\n",
      "1 78\n",
      "1 79\n",
      "1 80\n",
      "1 81\n",
      "1 82\n",
      "1 83\n",
      "1 84\n",
      "1 85\n",
      "1 86\n",
      "1 87\n",
      "1 88\n",
      "1 89\n",
      "1 90\n",
      "1 91\n",
      "1 92\n",
      "1 93\n",
      "1 94\n",
      "1 95\n",
      "1 96\n",
      "1 97\n",
      "1 98\n",
      "1 99\n",
      "1 100\n",
      "1 101\n",
      "1 102\n",
      "1 103\n",
      "1 104\n",
      "1 105\n",
      "1 106\n",
      "1 107\n",
      "1 108\n",
      "1 109\n",
      "1 110\n",
      "1 111\n",
      "1 112\n",
      "1 113\n",
      "1 114\n",
      "1 115\n",
      "1 116\n",
      "1 117\n",
      "1 118\n",
      "1 119\n",
      "2 0\n",
      "2 1\n",
      "2 2\n",
      "2 3\n",
      "2 4\n",
      "2 5\n",
      "2 6\n",
      "2 7\n",
      "2 8\n",
      "2 9\n",
      "2 10\n",
      "2 11\n",
      "2 12\n",
      "2 13\n",
      "2 14\n",
      "2 15\n",
      "2 16\n",
      "2 17\n",
      "2 18\n",
      "2 19\n",
      "2 20\n",
      "2 21\n",
      "2 22\n",
      "2 23\n",
      "2 24\n",
      "2 25\n",
      "2 26\n",
      "2 27\n",
      "2 28\n",
      "2 29\n",
      "2 30\n",
      "2 31\n",
      "2 32\n",
      "2 33\n",
      "2 34\n",
      "2 35\n",
      "2 36\n",
      "2 37\n",
      "2 38\n",
      "2 39\n",
      "2 40\n",
      "2 41\n",
      "2 42\n",
      "2 43\n",
      "2 44\n",
      "2 45\n",
      "2 46\n",
      "2 47\n",
      "2 48\n",
      "2 49\n",
      "2 50\n",
      "2 51\n",
      "2 52\n",
      "2 53\n",
      "2 54\n",
      "2 55\n",
      "2 56\n",
      "2 57\n",
      "2 58\n",
      "2 59\n",
      "2 60\n",
      "2 61\n",
      "2 62\n",
      "2 63\n",
      "2 64\n",
      "2 65\n",
      "2 66\n",
      "2 67\n",
      "2 68\n",
      "2 69\n",
      "2 70\n",
      "2 71\n",
      "2 72\n",
      "2 73\n",
      "2 74\n",
      "2 75\n",
      "2 76\n",
      "2 77\n",
      "2 78\n",
      "2 79\n",
      "2 80\n",
      "2 81\n",
      "2 82\n",
      "2 83\n",
      "2 84\n",
      "2 85\n",
      "2 86\n",
      "2 87\n",
      "2 88\n",
      "2 89\n",
      "2 90\n",
      "2 91\n",
      "2 92\n",
      "2 93\n",
      "2 94\n",
      "2 95\n",
      "2 96\n",
      "2 97\n",
      "2 98\n",
      "2 99\n",
      "2 100\n",
      "2 101\n",
      "2 102\n",
      "2 103\n",
      "2 104\n",
      "2 105\n",
      "2 106\n",
      "2 107\n",
      "2 108\n",
      "2 109\n",
      "2 110\n",
      "2 111\n",
      "2 112\n",
      "2 113\n",
      "2 114\n",
      "2 115\n",
      "2 116\n",
      "2 117\n",
      "2 118\n",
      "2 119\n",
      "3 0\n",
      "3 1\n",
      "3 2\n",
      "3 3\n",
      "3 4\n",
      "3 5\n",
      "3 6\n",
      "3 7\n",
      "3 8\n",
      "3 9\n",
      "3 10\n",
      "3 11\n",
      "3 12\n",
      "3 13\n",
      "3 14\n",
      "3 15\n",
      "3 16\n",
      "3 17\n",
      "3 18\n",
      "3 19\n",
      "3 20\n",
      "3 21\n",
      "3 22\n",
      "3 23\n",
      "3 24\n",
      "3 25\n",
      "3 26\n",
      "3 27\n",
      "3 28\n",
      "3 29\n",
      "3 30\n",
      "3 31\n",
      "3 32\n",
      "3 33\n",
      "3 34\n",
      "3 35\n",
      "3 36\n",
      "3 37\n",
      "3 38\n",
      "3 39\n",
      "3 40\n",
      "3 41\n",
      "3 42\n",
      "3 43\n",
      "3 44\n",
      "3 45\n",
      "3 46\n",
      "3 47\n",
      "3 48\n",
      "3 49\n",
      "3 50\n",
      "3 51\n",
      "3 52\n",
      "3 53\n",
      "3 54\n",
      "3 55\n",
      "3 56\n",
      "3 57\n",
      "3 58\n",
      "3 59\n",
      "3 60\n",
      "3 61\n",
      "3 62\n",
      "3 63\n",
      "3 64\n",
      "3 65\n",
      "3 66\n",
      "3 67\n",
      "3 68\n",
      "3 69\n",
      "3 70\n",
      "3 71\n",
      "3 72\n",
      "3 73\n",
      "3 74\n",
      "3 75\n",
      "3 76\n",
      "3 77\n",
      "3 78\n",
      "3 79\n",
      "3 80\n",
      "3 81\n",
      "3 82\n",
      "3 83\n",
      "3 84\n",
      "3 85\n",
      "3 86\n",
      "3 87\n",
      "3 88\n",
      "3 89\n",
      "3 90\n",
      "3 91\n",
      "3 92\n",
      "3 93\n",
      "3 94\n",
      "3 95\n",
      "3 96\n",
      "3 97\n",
      "3 98\n",
      "3 99\n",
      "3 100\n",
      "3 101\n",
      "3 102\n",
      "3 103\n",
      "3 104\n",
      "3 105\n",
      "3 106\n",
      "3 107\n",
      "3 108\n",
      "3 109\n",
      "3 110\n",
      "3 111\n",
      "3 112\n",
      "3 113\n",
      "3 114\n",
      "3 115\n",
      "3 116\n",
      "3 117\n",
      "3 118\n",
      "3 119\n",
      "4 0\n",
      "4 1\n",
      "4 2\n",
      "4 3\n",
      "4 4\n",
      "4 5\n",
      "4 6\n",
      "4 7\n",
      "4 8\n",
      "4 9\n",
      "4 10\n",
      "4 11\n",
      "4 12\n",
      "4 13\n",
      "4 14\n",
      "4 15\n",
      "4 16\n",
      "4 17\n",
      "4 18\n",
      "4 19\n",
      "4 20\n",
      "4 21\n",
      "4 22\n",
      "4 23\n",
      "4 24\n",
      "4 25\n",
      "4 26\n",
      "4 27\n",
      "4 28\n",
      "4 29\n",
      "4 30\n",
      "4 31\n",
      "4 32\n",
      "4 33\n",
      "4 34\n",
      "4 35\n",
      "4 36\n",
      "4 37\n",
      "4 38\n",
      "4 39\n",
      "4 40\n",
      "4 41\n",
      "4 42\n",
      "4 43\n",
      "4 44\n",
      "4 45\n",
      "4 46\n",
      "4 47\n",
      "4 48\n",
      "4 49\n",
      "4 50\n",
      "4 51\n",
      "4 52\n",
      "4 53\n",
      "4 54\n",
      "4 55\n",
      "4 56\n",
      "4 57\n",
      "4 58\n",
      "4 59\n",
      "4 60\n",
      "4 61\n",
      "4 62\n",
      "4 63\n",
      "4 64\n",
      "4 65\n",
      "4 66\n",
      "4 67\n",
      "4 68\n",
      "4 69\n",
      "4 70\n",
      "4 71\n",
      "4 72\n",
      "4 73\n",
      "4 74\n",
      "4 75\n",
      "4 76\n",
      "4 77\n",
      "4 78\n",
      "4 79\n",
      "4 80\n",
      "4 81\n",
      "4 82\n",
      "4 83\n",
      "4 84\n",
      "4 85\n",
      "4 86\n",
      "4 87\n",
      "4 88\n",
      "4 89\n",
      "4 90\n",
      "4 91\n",
      "4 92\n",
      "4 93\n",
      "4 94\n",
      "4 95\n",
      "4 96\n",
      "4 97\n",
      "4 98\n",
      "4 99\n",
      "4 100\n",
      "4 101\n",
      "4 102\n",
      "4 103\n",
      "4 104\n",
      "4 105\n",
      "4 106\n",
      "4 107\n",
      "4 108\n",
      "4 109\n",
      "4 110\n",
      "4 111\n",
      "4 112\n",
      "4 113\n",
      "4 114\n",
      "4 115\n",
      "4 116\n",
      "4 117\n",
      "4 118\n",
      "4 119\n",
      "5 0\n",
      "5 1\n",
      "5 2\n",
      "5 3\n",
      "5 4\n",
      "5 5\n",
      "5 6\n",
      "5 7\n",
      "5 8\n",
      "5 9\n",
      "5 10\n",
      "5 11\n",
      "5 12\n",
      "5 13\n",
      "5 14\n",
      "5 15\n",
      "5 16\n",
      "5 17\n",
      "5 18\n",
      "5 19\n",
      "5 20\n",
      "5 21\n",
      "5 22\n",
      "5 23\n",
      "5 24\n",
      "5 25\n",
      "5 26\n",
      "5 27\n",
      "5 28\n",
      "5 29\n",
      "5 30\n",
      "5 31\n",
      "5 32\n",
      "5 33\n",
      "5 34\n",
      "5 35\n",
      "5 36\n",
      "5 37\n",
      "5 38\n",
      "5 39\n",
      "5 40\n",
      "5 41\n",
      "5 42\n",
      "5 43\n",
      "5 44\n",
      "5 45\n",
      "5 46\n",
      "5 47\n",
      "5 48\n",
      "5 49\n",
      "5 50\n",
      "5 51\n",
      "5 52\n",
      "5 53\n",
      "5 54\n",
      "5 55\n",
      "5 56\n",
      "5 57\n",
      "5 58\n",
      "5 59\n",
      "5 60\n",
      "5 61\n",
      "5 62\n",
      "5 63\n",
      "5 64\n",
      "5 65\n",
      "5 66\n",
      "5 67\n",
      "5 68\n",
      "5 69\n",
      "5 70\n",
      "5 71\n",
      "5 72\n",
      "5 73\n",
      "5 74\n",
      "5 75\n",
      "5 76\n",
      "5 77\n",
      "5 78\n",
      "5 79\n",
      "5 80\n",
      "5 81\n",
      "5 82\n",
      "5 83\n",
      "5 84\n",
      "5 85\n",
      "5 86\n",
      "5 87\n",
      "5 88\n",
      "5 89\n",
      "5 90\n",
      "5 91\n",
      "5 92\n",
      "5 93\n",
      "5 94\n",
      "5 95\n",
      "5 96\n",
      "5 97\n",
      "5 98\n",
      "5 99\n",
      "5 100\n",
      "5 101\n",
      "5 102\n",
      "5 103\n",
      "5 104\n",
      "5 105\n",
      "5 106\n",
      "5 107\n",
      "5 108\n",
      "5 109\n",
      "5 110\n",
      "5 111\n",
      "5 112\n",
      "5 113\n",
      "5 114\n",
      "5 115\n",
      "5 116\n",
      "5 117\n",
      "5 118\n",
      "5 119\n",
      "6 0\n",
      "6 1\n",
      "6 2\n",
      "6 3\n",
      "6 4\n",
      "6 5\n",
      "6 6\n",
      "6 7\n",
      "6 8\n",
      "6 9\n",
      "6 10\n",
      "6 11\n",
      "6 12\n",
      "6 13\n",
      "6 14\n",
      "6 15\n",
      "6 16\n",
      "6 17\n",
      "6 18\n",
      "6 19\n",
      "6 20\n",
      "6 21\n",
      "6 22\n",
      "6 23\n",
      "6 24\n",
      "6 25\n",
      "6 26\n",
      "6 27\n",
      "6 28\n",
      "6 29\n",
      "6 30\n",
      "6 31\n",
      "6 32\n",
      "6 33\n",
      "6 34\n",
      "6 35\n",
      "6 36\n",
      "6 37\n",
      "6 38\n",
      "6 39\n",
      "6 40\n",
      "6 41\n",
      "6 42\n",
      "6 43\n",
      "6 44\n",
      "6 45\n",
      "6 46\n",
      "6 47\n",
      "6 48\n",
      "6 49\n",
      "6 50\n",
      "6 51\n",
      "6 52\n",
      "6 53\n",
      "6 54\n",
      "6 55\n",
      "6 56\n",
      "6 57\n",
      "6 58\n",
      "6 59\n",
      "6 60\n",
      "6 61\n",
      "6 62\n",
      "6 63\n",
      "6 64\n",
      "6 65\n",
      "6 66\n",
      "6 67\n",
      "6 68\n",
      "6 69\n",
      "6 70\n",
      "6 71\n",
      "6 72\n",
      "6 73\n",
      "6 74\n",
      "6 75\n",
      "6 76\n",
      "6 77\n",
      "6 78\n",
      "6 79\n",
      "6 80\n",
      "6 81\n",
      "6 82\n",
      "6 83\n",
      "6 84\n",
      "6 85\n",
      "6 86\n",
      "6 87\n",
      "6 88\n",
      "6 89\n",
      "6 90\n",
      "6 91\n",
      "6 92\n",
      "6 93\n",
      "6 94\n",
      "6 95\n",
      "6 96\n",
      "6 97\n",
      "6 98\n",
      "6 99\n",
      "6 100\n",
      "6 101\n",
      "6 102\n",
      "6 103\n",
      "6 104\n",
      "6 105\n",
      "6 106\n",
      "6 107\n",
      "6 108\n",
      "6 109\n",
      "6 110\n",
      "6 111\n",
      "6 112\n",
      "6 113\n",
      "6 114\n",
      "6 115\n",
      "6 116\n",
      "6 117\n",
      "6 118\n",
      "6 119\n"
     ]
    }
   ],
   "source": [
    "for i in range(7):\n",
    "    for j in range(len_obs):\n",
    "        print i,j\n",
    "        dfdp[i,j] = absmin(np.concatenate((bootstrap_mean(d_pert_func[i*N_pert:i*N_pert+hN_pert,j],100),\\\n",
    "                                       -bootstrap_mean(d_pert_func[i*N_pert+hN_pert:i*N_pert+N_pert,j],100))))\\\n",
    "                                       /d_p_pert[i*N_pert,i]"
   ]
  },
  {
   "cell_type": "code",
   "execution_count": 59,
   "metadata": {
    "collapsed": true
   },
   "outputs": [],
   "source": [
    "def calc_cov(covjk,func_real):\n",
    "    return np.mean(covjk,axis=0)+np.cov(func_real.T)"
   ]
  },
  {
   "cell_type": "code",
   "execution_count": 60,
   "metadata": {
    "collapsed": true
   },
   "outputs": [],
   "source": [
    "def calc_fisher(dfdp, covtot):\n",
    "    fmatrix = np.zeros((7,7))\n",
    "    for i in range(7):\n",
    "        for j in range(7):\n",
    "            fmatrix[i,j] = np.dot(dfdp[i],np.dot(np.linalg.inv(covtot),dfdp[j]))\n",
    "    return fmatrix"
   ]
  },
  {
   "cell_type": "code",
   "execution_count": 61,
   "metadata": {
    "collapsed": true
   },
   "outputs": [],
   "source": [
    "def calc_1sigma(fisher):\n",
    "    return np.sqrt(np.linalg.inv(fisher).diagonal())"
   ]
  },
  {
   "cell_type": "code",
   "execution_count": 69,
   "metadata": {
    "collapsed": false
   },
   "outputs": [
    {
     "data": {
      "text/plain": [
       "array([ 0.05717491,  0.01695421,  0.03475023,  0.1341977 ,  0.02298365,\n",
       "        0.2158275 ,  0.28054175])"
      ]
     },
     "execution_count": 69,
     "metadata": {},
     "output_type": "execute_result"
    }
   ],
   "source": [
    "calc_1sigma(calc_fisher(dfdp,calc_cov(zeropoint['func_all_cov'][:,:len_obs,:len_obs],zeropoint['func_all'][:,:len_obs])))"
   ]
  },
  {
   "cell_type": "code",
   "execution_count": 70,
   "metadata": {
    "collapsed": false
   },
   "outputs": [
    {
     "data": {
      "text/plain": [
       "(array([  1.00000000e+00,   1.00000000e+00,   1.00000000e+00,\n",
       "          2.00000000e+00,   9.00000000e+00,   1.00000000e+01,\n",
       "          1.40000000e+01,   1.90000000e+01,   3.00000000e+01,\n",
       "          5.90000000e+01,   8.30000000e+01,   1.22000000e+02,\n",
       "          1.57000000e+02,   2.22000000e+02,   2.74000000e+02,\n",
       "          3.64000000e+02,   4.22000000e+02,   5.37000000e+02,\n",
       "          6.56000000e+02,   7.02000000e+02,   7.61000000e+02,\n",
       "          9.59000000e+02,   1.04000000e+03,   1.09700000e+03,\n",
       "          1.10200000e+03,   1.17500000e+03,   1.15400000e+03,\n",
       "          1.15300000e+03,   1.12100000e+03,   9.35000000e+02,\n",
       "          9.56000000e+02,   9.23000000e+02,   7.96000000e+02,\n",
       "          6.48000000e+02,   5.57000000e+02,   4.25000000e+02,\n",
       "          3.85000000e+02,   2.68000000e+02,   2.42000000e+02,\n",
       "          1.94000000e+02,   1.49000000e+02,   7.20000000e+01,\n",
       "          6.80000000e+01,   4.50000000e+01,   3.20000000e+01,\n",
       "          2.70000000e+01,   1.00000000e+01,   9.00000000e+00,\n",
       "          9.00000000e+00,   3.00000000e+00]),\n",
       " array([ -2.26663040e-05,  -2.17216640e-05,  -2.07770240e-05,\n",
       "         -1.98323840e-05,  -1.88877440e-05,  -1.79431040e-05,\n",
       "         -1.69984640e-05,  -1.60538240e-05,  -1.51091840e-05,\n",
       "         -1.41645440e-05,  -1.32199040e-05,  -1.22752640e-05,\n",
       "         -1.13306240e-05,  -1.03859840e-05,  -9.44134400e-06,\n",
       "         -8.49670400e-06,  -7.55206400e-06,  -6.60742400e-06,\n",
       "         -5.66278400e-06,  -4.71814400e-06,  -3.77350400e-06,\n",
       "         -2.82886400e-06,  -1.88422400e-06,  -9.39584000e-07,\n",
       "          5.05600000e-09,   9.49696000e-07,   1.89433600e-06,\n",
       "          2.83897600e-06,   3.78361600e-06,   4.72825600e-06,\n",
       "          5.67289600e-06,   6.61753600e-06,   7.56217600e-06,\n",
       "          8.50681600e-06,   9.45145600e-06,   1.03960960e-05,\n",
       "          1.13407360e-05,   1.22853760e-05,   1.32300160e-05,\n",
       "          1.41746560e-05,   1.51192960e-05,   1.60639360e-05,\n",
       "          1.70085760e-05,   1.79532160e-05,   1.88978560e-05,\n",
       "          1.98424960e-05,   2.07871360e-05,   2.17317760e-05,\n",
       "          2.26764160e-05,   2.36210560e-05,   2.45656960e-05]),\n",
       " <a list of 50 Patch objects>)"
      ]
     },
     "execution_count": 70,
     "metadata": {},
     "output_type": "execute_result"
    },
    {
     "data": {
      "image/png": "[encoded data removed]",
      "text/plain": [
       "<matplotlib.figure.Figure at 0x7f155a9160d0>"
      ]
     },
     "metadata": {
      "image/png": {
       "height": 250,
       "width": 383
      }
     },
     "output_type": "display_data"
    }
   ],
   "source": [
    "plt.hist(d_pert_func[0:20000,0],50)"
   ]
  },
  {
   "cell_type": "code",
   "execution_count": 71,
   "metadata": {
    "collapsed": true
   },
   "outputs": [],
   "source": [
    "from scipy.stats import normaltest"
   ]
  },
  {
   "cell_type": "code",
   "execution_count": 72,
   "metadata": {
    "collapsed": false
   },
   "outputs": [
    {
     "data": {
      "text/plain": [
       "NormaltestResult(statistic=8.7209389663771653, pvalue=0.012772389819407487)"
      ]
     },
     "execution_count": 72,
     "metadata": {},
     "output_type": "execute_result"
    }
   ],
   "source": [
    "normaltest(d_pert_func[0:20000,0])"
   ]
  },
  {
   "cell_type": "code",
   "execution_count": null,
   "metadata": {
    "collapsed": true
   },
   "outputs": [],
   "source": []
  }
 ],
 "metadata": {
  "kernelspec": {
   "display_name": "Python 2",
   "language": "python",
   "name": "python2"
  },
  "language_info": {
   "codemirror_mode": {
    "name": "ipython",
    "version": 2
   },
   "file_extension": ".py",
   "mimetype": "text/x-python",
   "name": "python",
   "nbconvert_exporter": "python",
   "pygments_lexer": "ipython2",
   "version": "2.7.12"
  }
 },
 "nbformat": 4,
 "nbformat_minor": 0
}
