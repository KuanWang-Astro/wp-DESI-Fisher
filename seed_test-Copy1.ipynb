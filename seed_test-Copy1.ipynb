{
 "cells": [
  {
   "cell_type": "code",
   "execution_count": 1,
   "metadata": {
    "collapsed": false
   },
   "outputs": [
    {
     "name": "stdout",
     "output_type": "stream",
     "text": [
      "Populating the interactive namespace from numpy and matplotlib\n"
     ]
    }
   ],
   "source": [
    "%pylab notebook"
   ]
  },
  {
   "cell_type": "code",
   "execution_count": 2,
   "metadata": {
    "collapsed": true
   },
   "outputs": [],
   "source": [
    "from halotools.sim_manager import CachedHaloCatalog\n",
    "\n",
    "from HOD_models_fix import decorated_hod_model\n",
    "\n",
    "from halotools.empirical_models import MockFactory\n",
    "\n",
    "from halotools.mock_observables import return_xyz_formatted_array"
   ]
  },
  {
   "cell_type": "code",
   "execution_count": 3,
   "metadata": {
    "collapsed": true
   },
   "outputs": [],
   "source": [
    "halocat = CachedHaloCatalog(simname = 'bolplanck', version_name = 'halotools_v0p4',redshift = 0, \\\n",
    "                                halo_finder = 'rockstar')"
   ]
  },
  {
   "cell_type": "code",
   "execution_count": 4,
   "metadata": {
    "collapsed": true
   },
   "outputs": [],
   "source": [
    "model = decorated_hod_model()"
   ]
  },
  {
   "cell_type": "code",
   "execution_count": 5,
   "metadata": {
    "collapsed": true
   },
   "outputs": [],
   "source": [
    "param_names = ('alpha','logM1','sigma_logM','logM0','logMmin','mean_occupation_centrals_assembias_param1','mean_occupation_satellites_assembias_param1')"
   ]
  },
  {
   "cell_type": "code",
   "execution_count": 6,
   "metadata": {
    "collapsed": true
   },
   "outputs": [],
   "source": [
    "p20 = np.array((1.14385, 13.28584, 0.34846, 11.30750, 11.97186, 0, 0))"
   ]
  },
  {
   "cell_type": "code",
   "execution_count": 7,
   "metadata": {
    "collapsed": true
   },
   "outputs": [],
   "source": [
    "model.param_dict.update(dict(zip(param_names, p20)))"
   ]
  },
  {
   "cell_type": "code",
   "execution_count": 8,
   "metadata": {
    "collapsed": false
   },
   "outputs": [
    {
     "data": {
      "text/plain": [
       "{'alpha': 1.14385,\n",
       " 'logM0': 11.307499999999999,\n",
       " 'logM1': 13.28584,\n",
       " 'logMmin': 11.97186,\n",
       " 'mean_occupation_centrals_assembias_param1': 0.0,\n",
       " 'mean_occupation_satellites_assembias_param1': 0.0,\n",
       " 'sigma_logM': 0.34845999999999999}"
      ]
     },
     "execution_count": 8,
     "metadata": {},
     "output_type": "execute_result"
    }
   ],
   "source": [
    "model.param_dict"
   ]
  },
  {
   "cell_type": "code",
   "execution_count": 9,
   "metadata": {
    "collapsed": true
   },
   "outputs": [],
   "source": [
    "Lbox=250"
   ]
  },
  {
   "cell_type": "code",
   "execution_count": 10,
   "metadata": {
    "collapsed": true
   },
   "outputs": [],
   "source": [
    "def test(Asat):\n",
    "    model.param_dict['mean_occupation_satellites_assembias_param1'] = Asat\n",
    "    print model.param_dict\n",
    "    try:\n",
    "        model.mock.populate(seed=63)\n",
    "    except:\n",
    "        model.populate_mock(halocat, seed=63)\n",
    "    return len(model.mock.galaxy_table)"
   ]
  },
  {
   "cell_type": "code",
   "execution_count": 11,
   "metadata": {
    "collapsed": false
   },
   "outputs": [
    {
     "name": "stdout",
     "output_type": "stream",
     "text": [
      "{'logMmin': 11.97186, 'mean_occupation_centrals_assembias_param1': 0.0, 'logM0': 11.307499999999999, 'sigma_logM': 0.34845999999999999, 'mean_occupation_satellites_assembias_param1': -0.81398174, 'logM1': 13.28584, 'alpha': 1.14385}\n"
     ]
    },
    {
     "data": {
      "text/plain": [
       "101423"
      ]
     },
     "execution_count": 11,
     "metadata": {},
     "output_type": "execute_result"
    }
   ],
   "source": [
    "test(-0.81398174)"
   ]
  },
  {
   "cell_type": "code",
   "execution_count": 12,
   "metadata": {
    "collapsed": false
   },
   "outputs": [
    {
     "name": "stdout",
     "output_type": "stream",
     "text": [
      "{'logMmin': 11.97186, 'mean_occupation_centrals_assembias_param1': 0.0, 'logM0': 11.307499999999999, 'sigma_logM': 0.34845999999999999, 'mean_occupation_satellites_assembias_param1': 0.88882244, 'logM1': 13.28584, 'alpha': 1.14385}\n"
     ]
    },
    {
     "data": {
      "text/plain": [
       "101423"
      ]
     },
     "execution_count": 12,
     "metadata": {},
     "output_type": "execute_result"
    }
   ],
   "source": [
    "test(0.88882244)"
   ]
  },
  {
   "cell_type": "code",
   "execution_count": 13,
   "metadata": {
    "collapsed": false
   },
   "outputs": [
    {
     "name": "stdout",
     "output_type": "stream",
     "text": [
      "{'logMmin': 11.97186, 'mean_occupation_centrals_assembias_param1': 0.0, 'logM0': 11.307499999999999, 'sigma_logM': 0.34845999999999999, 'mean_occupation_satellites_assembias_param1': 0.294655, 'logM1': 13.28584, 'alpha': 1.14385}\n"
     ]
    },
    {
     "data": {
      "text/plain": [
       "101423"
      ]
     },
     "execution_count": 13,
     "metadata": {},
     "output_type": "execute_result"
    }
   ],
   "source": [
    "test(0.294655)"
   ]
  },
  {
   "cell_type": "code",
   "execution_count": 14,
   "metadata": {
    "collapsed": false
   },
   "outputs": [
    {
     "name": "stdout",
     "output_type": "stream",
     "text": [
      "{'logMmin': 11.97186, 'mean_occupation_centrals_assembias_param1': 0.0, 'logM0': 11.307499999999999, 'sigma_logM': 0.34845999999999999, 'mean_occupation_satellites_assembias_param1': -0.152343892, 'logM1': 13.28584, 'alpha': 1.14385}\n"
     ]
    },
    {
     "data": {
      "text/plain": [
       "101423"
      ]
     },
     "execution_count": 14,
     "metadata": {},
     "output_type": "execute_result"
    }
   ],
   "source": [
    "test(-0.152343892)"
   ]
  },
  {
   "cell_type": "code",
   "execution_count": 15,
   "metadata": {
    "collapsed": false
   },
   "outputs": [
    {
     "name": "stdout",
     "output_type": "stream",
     "text": [
      "{'logMmin': 11.97186, 'mean_occupation_centrals_assembias_param1': 0.0, 'logM0': 11.307499999999999, 'sigma_logM': 0.34845999999999999, 'mean_occupation_satellites_assembias_param1': 0.9, 'logM1': 13.28584, 'alpha': 1.14385}\n"
     ]
    },
    {
     "data": {
      "text/plain": [
       "101423"
      ]
     },
     "execution_count": 15,
     "metadata": {},
     "output_type": "execute_result"
    }
   ],
   "source": [
    "test(0.9)"
   ]
  },
  {
   "cell_type": "code",
   "execution_count": 27,
   "metadata": {
    "collapsed": true
   },
   "outputs": [],
   "source": [
    "p21 = np.array((1.33738,13.98811,0.55950,11.95797,12.82356,0,0))"
   ]
  },
  {
   "cell_type": "code",
   "execution_count": 28,
   "metadata": {
    "collapsed": true
   },
   "outputs": [],
   "source": [
    "model.param_dict.update(dict(zip(param_names, p21)))"
   ]
  },
  {
   "cell_type": "code",
   "execution_count": 29,
   "metadata": {
    "collapsed": false
   },
   "outputs": [
    {
     "data": {
      "text/plain": [
       "{'alpha': 1.33738,\n",
       " 'logM0': 11.95797,\n",
       " 'logM1': 13.988110000000001,\n",
       " 'logMmin': 12.823560000000001,\n",
       " 'mean_occupation_centrals_assembias_param1': 0.0,\n",
       " 'mean_occupation_satellites_assembias_param1': 0.0,\n",
       " 'sigma_logM': 0.5595}"
      ]
     },
     "execution_count": 29,
     "metadata": {},
     "output_type": "execute_result"
    }
   ],
   "source": [
    "model.param_dict"
   ]
  },
  {
   "cell_type": "code",
   "execution_count": 30,
   "metadata": {
    "collapsed": false
   },
   "outputs": [
    {
     "name": "stdout",
     "output_type": "stream",
     "text": [
      "{'logMmin': 12.823560000000001, 'mean_occupation_centrals_assembias_param1': 0.0, 'logM0': 11.95797, 'sigma_logM': 0.5595, 'mean_occupation_satellites_assembias_param1': 0.8888888, 'logM1': 13.988110000000001, 'alpha': 1.33738}\n"
     ]
    },
    {
     "data": {
      "text/plain": [
       "18340"
      ]
     },
     "execution_count": 30,
     "metadata": {},
     "output_type": "execute_result"
    }
   ],
   "source": [
    "test(0.8888888)"
   ]
  },
  {
   "cell_type": "code",
   "execution_count": 31,
   "metadata": {
    "collapsed": false
   },
   "outputs": [
    {
     "name": "stdout",
     "output_type": "stream",
     "text": [
      "{'logMmin': 12.823560000000001, 'mean_occupation_centrals_assembias_param1': 0.0, 'logM0': 11.95797, 'sigma_logM': 0.5595, 'mean_occupation_satellites_assembias_param1': 0.1, 'logM1': 13.988110000000001, 'alpha': 1.33738}\n"
     ]
    },
    {
     "data": {
      "text/plain": [
       "18340"
      ]
     },
     "execution_count": 31,
     "metadata": {},
     "output_type": "execute_result"
    }
   ],
   "source": [
    "test(0.1)"
   ]
  },
  {
   "cell_type": "code",
   "execution_count": 32,
   "metadata": {
    "collapsed": false
   },
   "outputs": [
    {
     "name": "stdout",
     "output_type": "stream",
     "text": [
      "{'logMmin': 12.823560000000001, 'mean_occupation_centrals_assembias_param1': 0.0, 'logM0': 11.95797, 'sigma_logM': 0.5595, 'mean_occupation_satellites_assembias_param1': 1.0, 'logM1': 13.988110000000001, 'alpha': 1.33738}\n"
     ]
    },
    {
     "data": {
      "text/plain": [
       "18340"
      ]
     },
     "execution_count": 32,
     "metadata": {},
     "output_type": "execute_result"
    }
   ],
   "source": [
    "test(1.)"
   ]
  },
  {
   "cell_type": "code",
   "execution_count": 16,
   "metadata": {
    "collapsed": true
   },
   "outputs": [],
   "source": [
    "p20_round = np.array((1.144, 13.286, 0.348, 11.308, 11.972, 0, 0))"
   ]
  },
  {
   "cell_type": "code",
   "execution_count": 17,
   "metadata": {
    "collapsed": true
   },
   "outputs": [],
   "source": [
    "model.param_dict.update(dict(zip(param_names, p20_round)))"
   ]
  },
  {
   "cell_type": "code",
   "execution_count": 18,
   "metadata": {
    "collapsed": false
   },
   "outputs": [
    {
     "name": "stdout",
     "output_type": "stream",
     "text": [
      "{'logMmin': 11.972, 'mean_occupation_centrals_assembias_param1': 0.0, 'logM0': 11.308, 'sigma_logM': 0.34799999999999998, 'mean_occupation_satellites_assembias_param1': 0.88882244, 'logM1': 13.286, 'alpha': 1.1439999999999999}\n"
     ]
    },
    {
     "data": {
      "text/plain": [
       "101368"
      ]
     },
     "execution_count": 18,
     "metadata": {},
     "output_type": "execute_result"
    }
   ],
   "source": [
    "test(0.88882244)"
   ]
  },
  {
   "cell_type": "code",
   "execution_count": 19,
   "metadata": {
    "collapsed": false
   },
   "outputs": [
    {
     "name": "stdout",
     "output_type": "stream",
     "text": [
      "{'logMmin': 11.972, 'mean_occupation_centrals_assembias_param1': 0.0, 'logM0': 11.308, 'sigma_logM': 0.34799999999999998, 'mean_occupation_satellites_assembias_param1': 0.2, 'logM1': 13.286, 'alpha': 1.1439999999999999}\n"
     ]
    },
    {
     "data": {
      "text/plain": [
       "101368"
      ]
     },
     "execution_count": 19,
     "metadata": {},
     "output_type": "execute_result"
    }
   ],
   "source": [
    "test(0.2)"
   ]
  },
  {
   "cell_type": "code",
   "execution_count": null,
   "metadata": {
    "collapsed": true
   },
   "outputs": [],
   "source": []
  },
  {
   "cell_type": "code",
   "execution_count": null,
   "metadata": {
    "collapsed": true
   },
   "outputs": [],
   "source": []
  },
  {
   "cell_type": "code",
   "execution_count": null,
   "metadata": {
    "collapsed": true
   },
   "outputs": [],
   "source": []
  }
 ],
 "metadata": {
  "kernelspec": {
   "display_name": "Python 2",
   "language": "python",
   "name": "python2"
  },
  "language_info": {
   "codemirror_mode": {
    "name": "ipython",
    "version": 2
   },
   "file_extension": ".py",
   "mimetype": "text/x-python",
   "name": "python",
   "nbconvert_exporter": "python",
   "pygments_lexer": "ipython2",
   "version": "2.7.12"
  }
 },
 "nbformat": 4,
 "nbformat_minor": 0
}
