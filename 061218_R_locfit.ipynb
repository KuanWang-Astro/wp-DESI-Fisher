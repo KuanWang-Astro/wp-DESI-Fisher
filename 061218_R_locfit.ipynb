{
 "cells": [
  {
   "cell_type": "code",
   "execution_count": 1,
   "metadata": {
    "collapsed": false
   },
   "outputs": [
    {
     "name": "stderr",
     "output_type": "stream",
     "text": [
      "locfit 1.5-9.1 \t 2013-03-22\n"
     ]
    }
   ],
   "source": [
    "library(locfit)\n",
    "library(RcppCNPy)\n",
    "library(reticulate)\n",
    "np <- import('numpy')"
   ]
  },
  {
   "cell_type": "code",
   "execution_count": 2,
   "metadata": {
    "collapsed": true
   },
   "outputs": [],
   "source": [
    "p0 = c(1.14385, 13.28584, 0.34846, 11.30750, 11.97186, 0., 0.)"
   ]
  },
  {
   "cell_type": "code",
   "execution_count": 3,
   "metadata": {
    "collapsed": true
   },
   "outputs": [],
   "source": [
    "##ngal(1)+wp(19)+ggl(20)+vpf(20)+Pcic(40)"
   ]
  },
  {
   "cell_type": "code",
   "execution_count": 4,
   "metadata": {
    "collapsed": false
   },
   "outputs": [],
   "source": [
    "data_97 <- np$load('Run_061218/bolp_20p0_um_0_b_97.npz')\n",
    "data_250 <- np$load('Run_061218/bolp_20p0_um_0_b_250.npz')\n",
    "data_455 <- np$load('Run_061218/bolp_20p0_um_0_b_455.npz')\n",
    "data_904 <- np$load('Run_061218/bolp_20p0_um_0_b_904.npz')\n",
    "data_63 <- np$load('Run_061218/bolp_20p0_um_0_b_63.npz')"
   ]
  },
  {
   "cell_type": "code",
   "execution_count": 5,
   "metadata": {
    "collapsed": false
   },
   "outputs": [],
   "source": [
    "find_dfdp <- function(data, num, kern, plot=0){\n",
    "    setwd(sprintf('~/Assembly Bias Project/Fisher analysis/Run_061218/bolp20p0_um_0_locfit_%s',kern))\n",
    "    dfdp = matrix(0,nrow=7,ncol=100)\n",
    "    for (i in seq(7)){\n",
    "        x <- data$f[['param']][(200*i-199):(200*i),i]\n",
    "        p <- p0[i]\n",
    "        for (j in seq(100)){\n",
    "            y <- data$f[['func_all']][(200*i-199):(200*i),j]\n",
    "            fit <- locfit(y~x,deriv=1,kern=kern)\n",
    "            fit_orig <- locfit(y~x,kern=kern)\n",
    "            f <- as.numeric(preplot(fit_orig,p)[2])\n",
    "            fp <- as.numeric(preplot(fit,p)[2])\n",
    "            dfdp[i,j] <- fp\n",
    "            if (plot==1){\n",
    "                png(filename=sprintf('run%i_p%if%i.png',num,(i-1),(j-1)))\n",
    "                plot(x, y)\n",
    "                lines(fit_orig,col='blue')\n",
    "                abline(v=p,lty=2)\n",
    "                abline(a=-p*fp+f,b=fp,col='red')\n",
    "                dev.off()\n",
    "            }\n",
    "        }\n",
    "    }\n",
    "    dfdp\n",
    "}"
   ]
  },
  {
   "cell_type": "code",
   "execution_count": 6,
   "metadata": {
    "collapsed": false
   },
   "outputs": [],
   "source": [
    "dfdp_97_tcub = find_dfdp(data_97,97,kern='tcub',plot=0)\n",
    "dfdp_250_tcub = find_dfdp(data_250,250,kern='tcub',plot=0)\n",
    "dfdp_455_tcub = find_dfdp(data_455,455,kern='tcub',plot=0)\n",
    "dfdp_904_tcub = find_dfdp(data_904,904,kern='tcub',plot=0)\n",
    "dfdp_63_tcub = find_dfdp(data_63,63,kern='tcub',plot=0)"
   ]
  },
  {
   "cell_type": "code",
   "execution_count": null,
   "metadata": {
    "collapsed": true
   },
   "outputs": [],
   "source": [
    "dfdp_97_rect = find_dfdp(data_97,97,kern='rect',plot=0)\n",
    "dfdp_250_rect = find_dfdp(data_250,250,kern='rect',plot=0)\n",
    "dfdp_455_rect = find_dfdp(data_455,455,kern='rect',plot=0)\n",
    "dfdp_904_rect = find_dfdp(data_904,904,kern='rect',plot=0)\n",
    "dfdp_63_rect = find_dfdp(data_63,63,kern='rect',plot=0)"
   ]
  },
  {
   "cell_type": "code",
   "execution_count": null,
   "metadata": {
    "collapsed": true
   },
   "outputs": [],
   "source": [
    "dfdp_97_trwt = find_dfdp(data_97,97,kern='trwt',plot=0)\n",
    "dfdp_250_trwt = find_dfdp(data_250,250,kern='trwt',plot=0)\n",
    "dfdp_455_trwt = find_dfdp(data_455,455,kern='trwt',plot=0)\n",
    "dfdp_904_trwt = find_dfdp(data_904,904,kern='trwt',plot=0)\n",
    "dfdp_63_trwt = find_dfdp(data_63,63,kern='trwt',plot=0)"
   ]
  },
  {
   "cell_type": "code",
   "execution_count": null,
   "metadata": {
    "collapsed": true
   },
   "outputs": [],
   "source": [
    "dfdp_97_tria = find_dfdp(data_97,97,kern='tria',plot=0)\n",
    "dfdp_250_tria = find_dfdp(data_250,250,kern='tria',plot=0)\n",
    "dfdp_455_tria = find_dfdp(data_455,455,kern='tria',plot=0)\n",
    "dfdp_904_tria = find_dfdp(data_904,904,kern='tria',plot=0)\n",
    "dfdp_63_tria = find_dfdp(data_63,63,kern='tria',plot=0)"
   ]
  },
  {
   "cell_type": "code",
   "execution_count": null,
   "metadata": {
    "collapsed": true
   },
   "outputs": [],
   "source": [
    "dfdp_97_epan = find_dfdp(data_97,97,kern='epan',plot=0)\n",
    "dfdp_250_epan = find_dfdp(data_250,250,kern='epan',plot=0)\n",
    "dfdp_455_epan = find_dfdp(data_455,455,kern='epan',plot=0)\n",
    "dfdp_904_epan = find_dfdp(data_904,904,kern='epan',plot=0)\n",
    "dfdp_63_epan = find_dfdp(data_63,63,kern='epan',plot=0)"
   ]
  },
  {
   "cell_type": "code",
   "execution_count": null,
   "metadata": {
    "collapsed": true
   },
   "outputs": [],
   "source": [
    "dfdp_97_bisq = find_dfdp(data_97,97,kern='bisq',plot=0)\n",
    "dfdp_250_bisq = find_dfdp(data_250,250,kern='bisq',plot=0)\n",
    "dfdp_455_bisq = find_dfdp(data_455,455,kern='bisq',plot=0)\n",
    "dfdp_904_bisq = find_dfdp(data_904,904,kern='bisq',plot=0)\n",
    "dfdp_63_bisq = find_dfdp(data_63,63,kern='bisq',plot=0)"
   ]
  },
  {
   "cell_type": "code",
   "execution_count": null,
   "metadata": {
    "collapsed": true
   },
   "outputs": [],
   "source": [
    "dfdp_97_gauss = find_dfdp(data_97,97,kern='gauss',plot=0)\n",
    "dfdp_250_gauss = find_dfdp(data_250,250,kern='gauss',plot=0)\n",
    "dfdp_455_gauss = find_dfdp(data_455,455,kern='gauss',plot=0)\n",
    "dfdp_904_gauss = find_dfdp(data_904,904,kern='gauss',plot=0)\n",
    "dfdp_63_gauss = find_dfdp(data_63,63,kern='gauss',plot=0)"
   ]
  },
  {
   "cell_type": "code",
   "execution_count": 20,
   "metadata": {
    "collapsed": true
   },
   "outputs": [],
   "source": [
    "setwd('~/Assembly Bias Project/Fisher analysis/Run_061218/')"
   ]
  },
  {
   "cell_type": "code",
   "execution_count": 21,
   "metadata": {
    "collapsed": true
   },
   "outputs": [],
   "source": [
    "np$savez('dfdp_bolp20p0_um_0_tcub.npz',dfdp_97=dfdp_97_tcub,dfdp_250=dfdp_250_tcub,dfdp_455=dfdp_455_tcub,\n",
    "         dfdp_904=dfdp_904_tcub,dfdp_63=dfdp_63_tcub)\n",
    "np$savez('dfdp_bolp20p0_um_0_rect.npz',dfdp_97=dfdp_97_rect,dfdp_250=dfdp_250_rect,dfdp_455=dfdp_455_rect,\n",
    "         dfdp_904=dfdp_904_rect,dfdp_63=dfdp_63_rect)\n",
    "np$savez('dfdp_bolp20p0_um_0_trwt.npz',dfdp_97=dfdp_97_trwt,dfdp_250=dfdp_250_trwt,dfdp_455=dfdp_455_trwt,\n",
    "         dfdp_904=dfdp_904_trwt,dfdp_63=dfdp_63_trwt)\n",
    "np$savez('dfdp_bolp20p0_um_0_tria.npz',dfdp_97=dfdp_97_tria,dfdp_250=dfdp_250_tria,dfdp_455=dfdp_455_tria,\n",
    "         dfdp_904=dfdp_904_tria,dfdp_63=dfdp_63_tria)\n",
    "np$savez('dfdp_bolp20p0_um_0_epan.npz',dfdp_97=dfdp_97_epan,dfdp_250=dfdp_250_epan,dfdp_455=dfdp_455_epan,\n",
    "         dfdp_904=dfdp_904_epan,dfdp_63=dfdp_63_epan)\n",
    "np$savez('dfdp_bolp20p0_um_0_bisq.npz',dfdp_97=dfdp_97_bisq,dfdp_250=dfdp_250_bisq,dfdp_455=dfdp_455_bisq,\n",
    "         dfdp_904=dfdp_904_bisq,dfdp_63=dfdp_63_bisq)\n",
    "np$savez('dfdp_bolp20p0_um_0_gauss.npz',dfdp_97=dfdp_97_gauss,dfdp_250=dfdp_250_gauss,dfdp_455=dfdp_455_gauss,\n",
    "         dfdp_904=dfdp_904_gauss,dfdp_63=dfdp_63_gauss)"
   ]
  },
  {
   "cell_type": "code",
   "execution_count": null,
   "metadata": {
    "collapsed": true
   },
   "outputs": [],
   "source": []
  },
  {
   "cell_type": "code",
   "execution_count": null,
   "metadata": {
    "collapsed": true
   },
   "outputs": [],
   "source": []
  },
  {
   "cell_type": "code",
   "execution_count": null,
   "metadata": {
    "collapsed": true
   },
   "outputs": [],
   "source": []
  },
  {
   "cell_type": "code",
   "execution_count": null,
   "metadata": {
    "collapsed": true
   },
   "outputs": [],
   "source": []
  },
  {
   "cell_type": "code",
   "execution_count": null,
   "metadata": {
    "collapsed": true
   },
   "outputs": [],
   "source": []
  },
  {
   "cell_type": "code",
   "execution_count": null,
   "metadata": {
    "collapsed": true
   },
   "outputs": [],
   "source": []
  },
  {
   "cell_type": "code",
   "execution_count": 8,
   "metadata": {
    "collapsed": true
   },
   "outputs": [],
   "source": [
    "data_fid <- np$load('../bolp_20p0_0.npz')"
   ]
  },
  {
   "cell_type": "code",
   "execution_count": 9,
   "metadata": {
    "collapsed": false
   },
   "outputs": [
    {
     "data": {
      "text/html": [
       "<ol class=list-inline>\n",
       "\t<li>'func_all'</li>\n",
       "\t<li>'param'</li>\n",
       "\t<li>'func_all_cov'</li>\n",
       "</ol>\n"
      ],
      "text/latex": [
       "\\begin{enumerate*}\n",
       "\\item 'func\\_all'\n",
       "\\item 'param'\n",
       "\\item 'func\\_all\\_cov'\n",
       "\\end{enumerate*}\n"
      ],
      "text/markdown": [
       "1. 'func_all'\n",
       "2. 'param'\n",
       "3. 'func_all_cov'\n",
       "\n",
       "\n"
      ],
      "text/plain": [
       "[1] \"func_all\"     \"param\"        \"func_all_cov\""
      ]
     },
     "metadata": {},
     "output_type": "display_data"
    }
   ],
   "source": [
    "data_fid$files"
   ]
  },
  {
   "cell_type": "code",
   "execution_count": 10,
   "metadata": {
    "collapsed": false
   },
   "outputs": [],
   "source": [
    "cov_tot <- (cov(data_fid$f[['func_all']])+colMeans(data_fid$f[['func_all_cov']],dims=1))"
   ]
  },
  {
   "cell_type": "code",
   "execution_count": 11,
   "metadata": {
    "collapsed": false
   },
   "outputs": [
    {
     "data": {
      "text/html": [
       "<table>\n",
       "<tbody>\n",
       "\t<tr><td>2.094186e-08 </td><td> 8.054374e-05</td><td>2.425617e-04 </td><td>3.042403e-04 </td><td>3.407521e-04 </td><td>2.909748e-04 </td><td>2.692553e-04 </td><td>1.915049e-04 </td><td> 0.0001194458</td><td> 6.273969e-05</td><td>⋯            </td><td> 1.753261e-08</td><td>1.598199e-08 </td><td>1.452841e-08 </td><td>1.347941e-08 </td><td>1.248933e-08 </td><td>1.151038e-08 </td><td>1.129977e-08 </td><td>1.048359e-08 </td><td>9.340719e-09 </td><td>1.003631e-07 </td></tr>\n",
       "\t<tr><td>8.054374e-05 </td><td> 3.984999e+02</td><td>2.307566e+02 </td><td>1.952640e+02 </td><td>1.698144e+02 </td><td>1.335883e+02 </td><td>1.085157e+02 </td><td>8.076387e+01 </td><td>59.7094609748</td><td> 4.397496e+01</td><td>⋯            </td><td> 1.643372e-03</td><td>1.411434e-03 </td><td>1.230247e-03 </td><td>1.351061e-03 </td><td>1.368307e-03 </td><td>1.166616e-03 </td><td>1.107459e-03 </td><td>1.150946e-03 </td><td>1.066858e-03 </td><td>1.525192e-02 </td></tr>\n",
       "\t<tr><td>2.425617e-04 </td><td> 2.307566e+02</td><td>2.798185e+02 </td><td>1.921281e+02 </td><td>1.636964e+02 </td><td>1.300324e+02 </td><td>1.064929e+02 </td><td>8.165229e+01 </td><td>58.8017762969</td><td> 4.341030e+01</td><td>⋯            </td><td> 1.622131e-03</td><td>1.343668e-03 </td><td>1.401028e-03 </td><td>1.340622e-03 </td><td>1.323887e-03 </td><td>1.084602e-03 </td><td>1.128580e-03 </td><td>1.181254e-03 </td><td>1.030763e-03 </td><td>1.554507e-02 </td></tr>\n",
       "\t<tr><td>3.042403e-04 </td><td> 1.952640e+02</td><td>1.921281e+02 </td><td>1.952796e+02 </td><td>1.478543e+02 </td><td>1.162338e+02 </td><td>9.539530e+01 </td><td>7.439334e+01 </td><td>53.7204613987</td><td> 3.963870e+01</td><td>⋯            </td><td> 1.518677e-03</td><td>1.289900e-03 </td><td>1.258744e-03 </td><td>1.319524e-03 </td><td>1.136040e-03 </td><td>1.097766e-03 </td><td>1.121256e-03 </td><td>1.123621e-03 </td><td>1.051466e-03 </td><td>1.408232e-02 </td></tr>\n",
       "\t<tr><td>3.407521e-04 </td><td> 1.698144e+02</td><td>1.636964e+02 </td><td>1.478543e+02 </td><td>1.471845e+02 </td><td>1.076718e+02 </td><td>8.918098e+01 </td><td>6.867834e+01 </td><td>49.8341211951</td><td> 3.724072e+01</td><td>⋯            </td><td> 1.286155e-03</td><td>1.178255e-03 </td><td>1.123042e-03 </td><td>1.077919e-03 </td><td>1.053586e-03 </td><td>9.582036e-04 </td><td>9.346416e-04 </td><td>9.643649e-04 </td><td>9.120713e-04 </td><td>1.298061e-02 </td></tr>\n",
       "\t<tr><td>2.909748e-04 </td><td> 1.335883e+02</td><td>1.300324e+02 </td><td>1.162338e+02 </td><td>1.076718e+02 </td><td>9.497288e+01 </td><td>7.468218e+01 </td><td>5.839313e+01 </td><td>42.8675164196</td><td> 3.197261e+01</td><td>⋯            </td><td> 1.046492e-03</td><td>9.624541e-04 </td><td>9.351838e-04 </td><td>9.124881e-04 </td><td>9.107046e-04 </td><td>8.235563e-04 </td><td>8.148510e-04 </td><td>8.347885e-04 </td><td>8.028971e-04 </td><td>1.108065e-02 </td></tr>\n",
       "\t<tr><td>2.692553e-04 </td><td> 1.085157e+02</td><td>1.064929e+02 </td><td>9.539530e+01 </td><td>8.918098e+01 </td><td>7.468218e+01 </td><td>6.726854e+01 </td><td>5.124751e+01 </td><td>37.8441170420</td><td> 2.840175e+01</td><td>⋯            </td><td> 8.772307e-04</td><td>8.206896e-04 </td><td>8.161501e-04 </td><td>7.781784e-04 </td><td>7.762073e-04 </td><td>7.271639e-04 </td><td>7.077437e-04 </td><td>7.315960e-04 </td><td>6.570250e-04 </td><td>9.326322e-03 </td></tr>\n",
       "\t<tr><td>1.915049e-04 </td><td> 8.076387e+01</td><td>8.165229e+01 </td><td>7.439334e+01 </td><td>6.867834e+01 </td><td>5.839313e+01 </td><td>5.124751e+01 </td><td>4.399169e+01 </td><td>32.5285159523</td><td> 2.478179e+01</td><td>⋯            </td><td> 6.367784e-04</td><td>5.734829e-04 </td><td>5.792854e-04 </td><td>5.568761e-04 </td><td>5.559642e-04 </td><td>5.259758e-04 </td><td>5.113871e-04 </td><td>5.512032e-04 </td><td>5.092103e-04 </td><td>7.608780e-03 </td></tr>\n",
       "\t<tr><td>1.194458e-04 </td><td> 5.970946e+01</td><td>5.880178e+01 </td><td>5.372046e+01 </td><td>4.983412e+01 </td><td>4.286752e+01 </td><td>3.784412e+01 </td><td>3.252852e+01 </td><td>26.7226262560</td><td> 2.045565e+01</td><td>⋯            </td><td> 4.131927e-04</td><td>4.027573e-04 </td><td>3.916065e-04 </td><td>3.645393e-04 </td><td>3.784910e-04 </td><td>3.664239e-04 </td><td>3.681941e-04 </td><td>3.806782e-04 </td><td>3.681508e-04 </td><td>5.617174e-03 </td></tr>\n",
       "\t<tr><td>6.273969e-05 </td><td> 4.397496e+01</td><td>4.341030e+01 </td><td>3.963870e+01 </td><td>3.724072e+01 </td><td>3.197261e+01 </td><td>2.840175e+01 </td><td>2.478179e+01 </td><td>20.4556513034</td><td> 1.726842e+01</td><td>⋯            </td><td> 2.476442e-04</td><td>2.401850e-04 </td><td>2.255588e-04 </td><td>2.176964e-04 </td><td>2.354050e-04 </td><td>2.113524e-04 </td><td>2.130347e-04 </td><td>2.281668e-04 </td><td>2.224019e-04 </td><td>3.831436e-03 </td></tr>\n",
       "\t<tr><td>4.009914e-05 </td><td> 2.929358e+01</td><td>2.916159e+01 </td><td>2.683663e+01 </td><td>2.504164e+01 </td><td>2.151649e+01 </td><td>1.917335e+01 </td><td>1.696404e+01 </td><td>14.0328748478</td><td> 1.180747e+01</td><td>⋯            </td><td> 1.937272e-04</td><td>1.810281e-04 </td><td>1.746550e-04 </td><td>1.621895e-04 </td><td>1.719948e-04 </td><td>1.576895e-04 </td><td>1.567250e-04 </td><td>1.645988e-04 </td><td>1.529122e-04 </td><td>2.678448e-03 </td></tr>\n",
       "\t<tr><td>2.125393e-05 </td><td> 1.823799e+01</td><td>1.772339e+01 </td><td>1.686732e+01 </td><td>1.542997e+01 </td><td>1.328676e+01 </td><td>1.199934e+01 </td><td>1.063261e+01 </td><td> 8.9325093479</td><td> 7.602291e+00</td><td>⋯            </td><td> 1.529911e-04</td><td>1.401149e-04 </td><td>1.279918e-04 </td><td>1.227778e-04 </td><td>1.163884e-04 </td><td>1.115993e-04 </td><td>1.158525e-04 </td><td>1.192602e-04 </td><td>1.134287e-04 </td><td>1.667012e-03 </td></tr>\n",
       "\t<tr><td>3.626806e-05 </td><td> 1.317520e+01</td><td>1.262170e+01 </td><td>1.241765e+01 </td><td>1.141276e+01 </td><td>9.927788e+00 </td><td>9.051215e+00 </td><td>7.992450e+00 </td><td> 6.7671030656</td><td> 5.832446e+00</td><td>⋯            </td><td> 1.311444e-04</td><td>1.184067e-04 </td><td>1.138581e-04 </td><td>1.039512e-04 </td><td>9.257685e-05 </td><td>9.547703e-05 </td><td>9.556259e-05 </td><td>9.642965e-05 </td><td>8.830357e-05 </td><td>1.128322e-03 </td></tr>\n",
       "\t<tr><td>5.072638e-05 </td><td> 1.124653e+01</td><td>1.077195e+01 </td><td>1.095978e+01 </td><td>1.000569e+01 </td><td>8.786961e+00 </td><td>7.995401e+00 </td><td>7.009681e+00 </td><td> 5.9363413432</td><td> 5.074724e+00</td><td>⋯            </td><td> 1.269155e-04</td><td>1.176981e-04 </td><td>1.118114e-04 </td><td>1.032678e-04 </td><td>9.480391e-05 </td><td>9.301466e-05 </td><td>9.488647e-05 </td><td>9.202360e-05 </td><td>8.553772e-05 </td><td>1.032163e-03 </td></tr>\n",
       "\t<tr><td>7.306231e-05 </td><td> 9.886351e+00</td><td>9.685083e+00 </td><td>9.881592e+00 </td><td>8.986443e+00 </td><td>7.949477e+00 </td><td>7.158469e+00 </td><td>6.167955e+00 </td><td> 5.1453593500</td><td> 4.319885e+00</td><td>⋯            </td><td> 1.446785e-04</td><td>1.315514e-04 </td><td>1.208077e-04 </td><td>1.171902e-04 </td><td>1.070740e-04 </td><td>1.040038e-04 </td><td>1.020155e-04 </td><td>9.873221e-05 </td><td>8.892507e-05 </td><td>1.077229e-03 </td></tr>\n",
       "\t<tr><td>9.961170e-05 </td><td> 9.278838e+00</td><td>9.450621e+00 </td><td>9.726658e+00 </td><td>8.783237e+00 </td><td>7.704121e+00 </td><td>6.939403e+00 </td><td>5.797494e+00 </td><td> 4.6885317495</td><td> 3.815760e+00</td><td>⋯            </td><td> 1.729135e-04</td><td>1.569734e-04 </td><td>1.418018e-04 </td><td>1.354145e-04 </td><td>1.217700e-04 </td><td>1.169317e-04 </td><td>1.127615e-04 </td><td>1.063171e-04 </td><td>9.519097e-05 </td><td>1.085567e-03 </td></tr>\n",
       "\t<tr><td>1.269140e-04 </td><td> 7.678168e+00</td><td>7.935923e+00 </td><td>8.181731e+00 </td><td>7.600116e+00 </td><td>6.767309e+00 </td><td>6.261054e+00 </td><td>5.031142e+00 </td><td> 3.9362983468</td><td> 3.118630e+00</td><td>⋯            </td><td> 1.796737e-04</td><td>1.622766e-04 </td><td>1.464737e-04 </td><td>1.393691e-04 </td><td>1.261435e-04 </td><td>1.181224e-04 </td><td>1.101082e-04 </td><td>1.032518e-04 </td><td>9.092084e-05 </td><td>8.844278e-04 </td></tr>\n",
       "\t<tr><td>1.478287e-04 </td><td> 4.457239e+00</td><td>5.069039e+00 </td><td>5.525933e+00 </td><td>5.334468e+00 </td><td>4.832571e+00 </td><td>4.582959e+00 </td><td>3.498067e+00 </td><td> 2.5978691532</td><td> 1.975968e+00</td><td>⋯            </td><td> 1.802990e-04</td><td>1.613212e-04 </td><td>1.465725e-04 </td><td>1.376179e-04 </td><td>1.246748e-04 </td><td>1.152196e-04 </td><td>1.065630e-04 </td><td>9.679726e-05 </td><td>8.699881e-05 </td><td>7.231364e-04 </td></tr>\n",
       "\t<tr><td>1.639171e-04 </td><td> 3.470990e+00</td><td>4.655445e+00 </td><td>5.185819e+00 </td><td>5.371392e+00 </td><td>4.549197e+00 </td><td>4.542381e+00 </td><td>3.349987e+00 </td><td> 2.2954394969</td><td> 1.651497e+00</td><td>⋯            </td><td> 1.790907e-04</td><td>1.592671e-04 </td><td>1.467240e-04 </td><td>1.346957e-04 </td><td>1.221428e-04 </td><td>1.098294e-04 </td><td>9.891641e-05 </td><td>9.027674e-05 </td><td>8.051637e-05 </td><td>6.790397e-04 </td></tr>\n",
       "\t<tr><td>1.271804e-04 </td><td> 8.693647e-01</td><td>2.230682e+00 </td><td>2.967309e+00 </td><td>3.440354e+00 </td><td>2.598259e+00 </td><td>2.886811e+00 </td><td>2.161731e+00 </td><td> 1.4867094098</td><td> 1.098722e+00</td><td>⋯            </td><td> 1.149666e-04</td><td>1.038343e-04 </td><td>9.861966e-05 </td><td>8.927241e-05 </td><td>8.038533e-05 </td><td>7.193951e-05 </td><td>6.406280e-05 </td><td>5.948671e-05 </td><td>5.291894e-05 </td><td>4.731576e-04 </td></tr>\n",
       "\t<tr><td>1.811116e-05 </td><td>-2.217757e-01</td><td>2.032696e-01 </td><td>3.937013e-01 </td><td>3.043530e-01 </td><td>2.375572e-01 </td><td>2.413546e-01 </td><td>1.898004e-02 </td><td>-0.1494711682</td><td>-1.771572e-01</td><td>⋯            </td><td>-2.757660e-06</td><td>6.332832e-07 </td><td>1.629490e-06 </td><td>2.525441e-06 </td><td>1.245572e-05 </td><td>8.531910e-06 </td><td>3.469939e-06 </td><td>5.875824e-06 </td><td>4.104205e-06 </td><td>9.308874e-05 </td></tr>\n",
       "\t<tr><td>1.658262e-05 </td><td> 7.683550e-01</td><td>3.562504e-01 </td><td>5.423726e-01 </td><td>3.508054e-01 </td><td>2.391173e-01 </td><td>2.567328e-01 </td><td>2.918547e-01 </td><td> 0.1657334618</td><td> 1.437811e-01</td><td>⋯            </td><td> 8.671858e-06</td><td>5.015252e-06 </td><td>5.667762e-06 </td><td>9.144842e-06 </td><td>1.361932e-05 </td><td>1.079479e-05 </td><td>1.192006e-05 </td><td>7.702934e-06 </td><td>1.053209e-05 </td><td>7.197691e-05 </td></tr>\n",
       "\t<tr><td>2.132125e-05 </td><td> 1.496767e+00</td><td>1.016416e+00 </td><td>8.493591e-01 </td><td>8.119670e-01 </td><td>6.552966e-01 </td><td>4.645826e-01 </td><td>3.157348e-01 </td><td> 0.1810054900</td><td> 1.077691e-01</td><td>⋯            </td><td> 1.684442e-05</td><td>1.437062e-05 </td><td>1.063997e-05 </td><td>1.495170e-05 </td><td>1.468050e-05 </td><td>1.885590e-05 </td><td>1.320995e-05 </td><td>1.496119e-05 </td><td>1.483464e-05 </td><td>1.522400e-04 </td></tr>\n",
       "\t<tr><td>2.431435e-05 </td><td> 2.552528e+00</td><td>2.214697e+00 </td><td>1.935973e+00 </td><td>1.659613e+00 </td><td>1.307587e+00 </td><td>1.101607e+00 </td><td>7.880405e-01 </td><td> 0.5567521140</td><td> 3.559872e-01</td><td>⋯            </td><td> 2.879162e-05</td><td>3.291828e-05 </td><td>2.591524e-05 </td><td>2.683806e-05 </td><td>2.717578e-05 </td><td>2.625611e-05 </td><td>2.303800e-05 </td><td>2.161686e-05 </td><td>1.951981e-05 </td><td>2.192996e-04 </td></tr>\n",
       "\t<tr><td>2.283557e-05 </td><td> 2.660527e+00</td><td>2.480421e+00 </td><td>2.123436e+00 </td><td>1.893950e+00 </td><td>1.445067e+00 </td><td>1.187486e+00 </td><td>8.834877e-01 </td><td> 0.6208869257</td><td> 4.437785e-01</td><td>⋯            </td><td> 3.314755e-05</td><td>2.940468e-05 </td><td>2.527793e-05 </td><td>2.608954e-05 </td><td>2.506218e-05 </td><td>2.282087e-05 </td><td>1.998753e-05 </td><td>1.852011e-05 </td><td>1.808097e-05 </td><td>2.035640e-04 </td></tr>\n",
       "\t<tr><td>1.975933e-05 </td><td> 2.501117e+00</td><td>2.362013e+00 </td><td>2.137061e+00 </td><td>1.893384e+00 </td><td>1.475368e+00 </td><td>1.175847e+00 </td><td>8.771461e-01 </td><td> 0.6213725828</td><td> 4.424562e-01</td><td>⋯            </td><td> 2.511698e-05</td><td>2.451945e-05 </td><td>1.996073e-05 </td><td>2.236196e-05 </td><td>2.036029e-05 </td><td>2.046806e-05 </td><td>1.882367e-05 </td><td>1.902275e-05 </td><td>1.869219e-05 </td><td>2.012513e-04 </td></tr>\n",
       "\t<tr><td>2.027437e-05 </td><td> 2.315442e+00</td><td>2.304742e+00 </td><td>2.064667e+00 </td><td>1.880406e+00 </td><td>1.492055e+00 </td><td>1.212263e+00 </td><td>8.709961e-01 </td><td> 0.6011242980</td><td> 4.267501e-01</td><td>⋯            </td><td> 2.901447e-05</td><td>2.704914e-05 </td><td>2.515835e-05 </td><td>2.547341e-05 </td><td>2.335144e-05 </td><td>2.173358e-05 </td><td>2.085251e-05 </td><td>1.872218e-05 </td><td>1.679972e-05 </td><td>1.997394e-04 </td></tr>\n",
       "\t<tr><td>2.009485e-05 </td><td> 2.505177e+00</td><td>2.553530e+00 </td><td>2.309773e+00 </td><td>2.134113e+00 </td><td>1.710080e+00 </td><td>1.424469e+00 </td><td>1.050940e+00 </td><td> 0.7113249059</td><td> 4.981711e-01</td><td>⋯            </td><td> 3.321741e-05</td><td>2.969148e-05 </td><td>2.817810e-05 </td><td>2.674173e-05 </td><td>2.474344e-05 </td><td>2.244945e-05 </td><td>2.151570e-05 </td><td>2.081765e-05 </td><td>1.842146e-05 </td><td>2.386303e-04 </td></tr>\n",
       "\t<tr><td>1.712571e-05 </td><td> 2.209127e+00</td><td>2.280074e+00 </td><td>2.105076e+00 </td><td>1.920947e+00 </td><td>1.574142e+00 </td><td>1.335821e+00 </td><td>1.023618e+00 </td><td> 0.6942419091</td><td> 4.677700e-01</td><td>⋯            </td><td> 3.142930e-05</td><td>2.769171e-05 </td><td>2.598966e-05 </td><td>2.422141e-05 </td><td>2.230959e-05 </td><td>2.186068e-05 </td><td>2.067218e-05 </td><td>1.982897e-05 </td><td>1.749984e-05 </td><td>2.205062e-04 </td></tr>\n",
       "\t<tr><td>1.603865e-05 </td><td> 1.949748e+00</td><td>2.025007e+00 </td><td>1.880452e+00 </td><td>1.750735e+00 </td><td>1.439586e+00 </td><td>1.240275e+00 </td><td>9.593323e-01 </td><td> 0.6836009929</td><td> 4.709398e-01</td><td>⋯            </td><td> 2.718477e-05</td><td>2.498739e-05 </td><td>2.362663e-05 </td><td>2.239265e-05 </td><td>2.114562e-05 </td><td>1.998474e-05 </td><td>1.963882e-05 </td><td>1.886157e-05 </td><td>1.715684e-05 </td><td>2.124605e-04 </td></tr>\n",
       "\t<tr><td>⋮</td><td>⋮</td><td>⋮</td><td>⋮</td><td>⋮</td><td>⋮</td><td>⋮</td><td>⋮</td><td>⋮</td><td>⋮</td><td>⋱</td><td>⋮</td><td>⋮</td><td>⋮</td><td>⋮</td><td>⋮</td><td>⋮</td><td>⋮</td><td>⋮</td><td>⋮</td><td>⋮</td></tr>\n",
       "\t<tr><td>6.395929e-08 </td><td>-7.684698e-05</td><td> 1.887702e-04</td><td> 5.253343e-05</td><td>0.0002088837 </td><td>0.0002720917 </td><td>0.0002760960 </td><td>7.131001e-05 </td><td>-6.442648e-05</td><td>-1.438343e-04</td><td>⋯            </td><td>3.820393e-08 </td><td>3.806946e-08 </td><td>3.241898e-08 </td><td>1.469458e-08 </td><td>2.732429e-08 </td><td>2.479380e-08 </td><td>2.791891e-08 </td><td>1.583121e-08 </td><td>1.578956e-08 </td><td>2.197574e-07 </td></tr>\n",
       "\t<tr><td>5.803411e-08 </td><td>-4.929825e-04</td><td>-1.476059e-04</td><td>-4.211335e-04</td><td>0.0002031129 </td><td>0.0002002641 </td><td>0.0002187502 </td><td>1.805702e-05 </td><td>-6.547951e-06</td><td>-6.467501e-05</td><td>⋯            </td><td>4.536217e-08 </td><td>4.939935e-08 </td><td>3.583915e-08 </td><td>1.616894e-08 </td><td>1.934580e-08 </td><td>1.930261e-08 </td><td>3.082265e-08 </td><td>1.645624e-08 </td><td>1.760245e-08 </td><td>1.615328e-07 </td></tr>\n",
       "\t<tr><td>5.472715e-08 </td><td>-3.760163e-04</td><td> 4.605365e-05</td><td> 2.485596e-04</td><td>0.0004611061 </td><td>0.0003965533 </td><td>0.0003184675 </td><td>9.238053e-05 </td><td> 4.576260e-05</td><td>-5.238798e-05</td><td>⋯            </td><td>4.516832e-08 </td><td>4.791764e-08 </td><td>4.387463e-08 </td><td>3.423375e-08 </td><td>4.208459e-08 </td><td>3.588783e-08 </td><td>3.495141e-08 </td><td>2.474757e-08 </td><td>1.969305e-08 </td><td>1.135470e-07 </td></tr>\n",
       "\t<tr><td>5.083828e-08 </td><td> 1.255201e-04</td><td> 2.743554e-04</td><td> 7.237425e-04</td><td>0.0008959008 </td><td>0.0007528678 </td><td>0.0007668917 </td><td>3.750873e-04 </td><td> 2.253668e-04</td><td> 1.111245e-04</td><td>⋯            </td><td>3.822894e-08 </td><td>3.662156e-08 </td><td>3.415724e-08 </td><td>3.289659e-08 </td><td>1.887208e-08 </td><td>1.789217e-08 </td><td>3.268353e-08 </td><td>2.265026e-08 </td><td>1.737449e-08 </td><td>1.989750e-07 </td></tr>\n",
       "\t<tr><td>4.681912e-08 </td><td> 5.193178e-04</td><td> 1.272673e-03</td><td> 1.387771e-03</td><td>0.0014015226 </td><td>0.0011000961 </td><td>0.0009682927 </td><td>5.879413e-04 </td><td> 4.132181e-04</td><td> 2.481471e-04</td><td>⋯            </td><td>3.203081e-08 </td><td>2.346846e-08 </td><td>2.114032e-08 </td><td>3.152225e-08 </td><td>2.757971e-08 </td><td>2.523185e-08 </td><td>2.646251e-08 </td><td>2.303853e-08 </td><td>2.294130e-08 </td><td>1.765767e-07 </td></tr>\n",
       "\t<tr><td>4.416935e-08 </td><td> 1.197064e-03</td><td> 1.492863e-03</td><td> 1.504756e-03</td><td>0.0012269844 </td><td>0.0010073424 </td><td>0.0008643569 </td><td>5.053984e-04 </td><td> 3.747060e-04</td><td> 2.071150e-04</td><td>⋯            </td><td>4.275928e-08 </td><td>3.239128e-08 </td><td>2.592200e-08 </td><td>3.080971e-08 </td><td>2.392018e-08 </td><td>1.837625e-08 </td><td>1.564758e-08 </td><td>1.324430e-08 </td><td>7.571191e-09 </td><td>1.522181e-07 </td></tr>\n",
       "\t<tr><td>4.121190e-08 </td><td> 1.243531e-03</td><td> 1.326981e-03</td><td> 1.451430e-03</td><td>0.0014277101 </td><td>0.0009809470 </td><td>0.0008357251 </td><td>5.419731e-04 </td><td> 3.420621e-04</td><td> 2.459250e-04</td><td>⋯            </td><td>4.098991e-08 </td><td>3.787677e-08 </td><td>3.670320e-08 </td><td>3.404858e-08 </td><td>1.867543e-08 </td><td>2.027833e-08 </td><td>1.602059e-08 </td><td>8.266794e-09 </td><td>6.223319e-09 </td><td>1.514844e-07 </td></tr>\n",
       "\t<tr><td>3.815075e-08 </td><td> 1.062101e-03</td><td> 1.303340e-03</td><td> 1.432156e-03</td><td>0.0013751960 </td><td>0.0010066889 </td><td>0.0008699548 </td><td>6.129724e-04 </td><td> 4.007853e-04</td><td> 2.664682e-04</td><td>⋯            </td><td>3.096196e-08 </td><td>2.781031e-08 </td><td>2.179067e-08 </td><td>3.326323e-08 </td><td>2.279863e-08 </td><td>2.165029e-08 </td><td>1.584992e-08 </td><td>9.975830e-09 </td><td>8.749929e-09 </td><td>1.532835e-07 </td></tr>\n",
       "\t<tr><td>3.677277e-08 </td><td> 1.297197e-03</td><td> 1.486011e-03</td><td> 1.517508e-03</td><td>0.0013056085 </td><td>0.0011006716 </td><td>0.0009310756 </td><td>6.479908e-04 </td><td> 4.142979e-04</td><td> 2.547178e-04</td><td>⋯            </td><td>2.801863e-08 </td><td>3.066866e-08 </td><td>2.582345e-08 </td><td>2.695849e-08 </td><td>2.218581e-08 </td><td>2.353504e-08 </td><td>2.041164e-08 </td><td>1.494712e-08 </td><td>1.403423e-08 </td><td>1.486040e-07 </td></tr>\n",
       "\t<tr><td>3.581356e-08 </td><td> 1.602288e-03</td><td> 1.306275e-03</td><td> 1.418326e-03</td><td>0.0011145650 </td><td>0.0010986128 </td><td>0.0009285281 </td><td>6.756928e-04 </td><td> 4.401540e-04</td><td> 2.864574e-04</td><td>⋯            </td><td>3.356495e-08 </td><td>3.467335e-08 </td><td>2.645048e-08 </td><td>2.840675e-08 </td><td>2.436402e-08 </td><td>2.612712e-08 </td><td>2.443879e-08 </td><td>2.235502e-08 </td><td>1.726357e-08 </td><td>1.589744e-07 </td></tr>\n",
       "\t<tr><td>3.489538e-08 </td><td> 1.802047e-03</td><td> 1.764886e-03</td><td> 1.737303e-03</td><td>0.0015240348 </td><td>0.0012660050 </td><td>0.0010150538 </td><td>7.363052e-04 </td><td> 4.874216e-04</td><td> 2.949050e-04</td><td>⋯            </td><td>3.514923e-08 </td><td>3.832454e-08 </td><td>2.484182e-08 </td><td>2.487965e-08 </td><td>2.651133e-08 </td><td>2.681816e-08 </td><td>2.431196e-08 </td><td>2.625087e-08 </td><td>1.874078e-08 </td><td>1.752198e-07 </td></tr>\n",
       "\t<tr><td>3.201997e-08 </td><td> 1.498143e-03</td><td> 1.672384e-03</td><td> 1.631642e-03</td><td>0.0012970717 </td><td>0.0012082127 </td><td>0.0009751935 </td><td>6.863950e-04 </td><td> 4.636983e-04</td><td> 2.896451e-04</td><td>⋯            </td><td>3.530442e-08 </td><td>3.754198e-08 </td><td>2.305435e-08 </td><td>2.789259e-08 </td><td>2.236993e-08 </td><td>2.428614e-08 </td><td>2.072400e-08 </td><td>2.145305e-08 </td><td>1.497300e-08 </td><td>1.336869e-07 </td></tr>\n",
       "\t<tr><td>3.016676e-08 </td><td> 1.297348e-03</td><td> 1.503090e-03</td><td> 1.578419e-03</td><td>0.0012779709 </td><td>0.0011016387 </td><td>0.0008966320 </td><td>6.921237e-04 </td><td> 4.723080e-04</td><td> 2.884179e-04</td><td>⋯            </td><td>3.590841e-08 </td><td>3.544756e-08 </td><td>2.303310e-08 </td><td>2.582992e-08 </td><td>2.287452e-08 </td><td>2.225964e-08 </td><td>2.264404e-08 </td><td>2.403439e-08 </td><td>1.476810e-08 </td><td>1.395324e-07 </td></tr>\n",
       "\t<tr><td>2.884615e-08 </td><td> 1.318811e-03</td><td> 1.687378e-03</td><td> 1.410829e-03</td><td>0.0014412270 </td><td>0.0012073667 </td><td>0.0009879513 </td><td>7.399334e-04 </td><td> 4.870722e-04</td><td> 3.132870e-04</td><td>⋯            </td><td>4.109597e-08 </td><td>3.599216e-08 </td><td>2.895236e-08 </td><td>2.153539e-08 </td><td>1.913240e-08 </td><td>2.093122e-08 </td><td>2.044879e-08 </td><td>2.072830e-08 </td><td>1.422476e-08 </td><td>1.616433e-07 </td></tr>\n",
       "\t<tr><td>2.728057e-08 </td><td> 1.745963e-03</td><td> 1.847875e-03</td><td> 1.610829e-03</td><td>0.0015601041 </td><td>0.0012055387 </td><td>0.0010226895 </td><td>7.223672e-04 </td><td> 4.712179e-04</td><td> 2.991500e-04</td><td>⋯            </td><td>5.008546e-08 </td><td>3.642317e-08 </td><td>3.202941e-08 </td><td>2.367539e-08 </td><td>2.060722e-08 </td><td>2.218487e-08 </td><td>1.665874e-08 </td><td>2.043604e-08 </td><td>1.565779e-08 </td><td>1.279163e-07 </td></tr>\n",
       "\t<tr><td>2.557900e-08 </td><td> 1.584731e-03</td><td> 1.768853e-03</td><td> 1.662430e-03</td><td>0.0016006000 </td><td>0.0012064635 </td><td>0.0009920504 </td><td>7.379649e-04 </td><td> 4.770876e-04</td><td> 2.905405e-04</td><td>⋯            </td><td>4.999218e-08 </td><td>4.301758e-08 </td><td>3.429936e-08 </td><td>2.541328e-08 </td><td>2.263438e-08 </td><td>2.091339e-08 </td><td>1.759698e-08 </td><td>1.952966e-08 </td><td>1.576974e-08 </td><td>1.319417e-07 </td></tr>\n",
       "\t<tr><td>2.322474e-08 </td><td> 1.541730e-03</td><td> 1.656641e-03</td><td> 1.531767e-03</td><td>0.0015052683 </td><td>0.0011560743 </td><td>0.0009941767 </td><td>7.067527e-04 </td><td> 4.738129e-04</td><td> 2.928049e-04</td><td>⋯            </td><td>5.331858e-08 </td><td>4.339495e-08 </td><td>3.803106e-08 </td><td>2.896360e-08 </td><td>2.587053e-08 </td><td>2.388093e-08 </td><td>2.092753e-08 </td><td>2.324236e-08 </td><td>1.700751e-08 </td><td>1.478075e-07 </td></tr>\n",
       "\t<tr><td>2.152793e-08 </td><td> 1.475633e-03</td><td> 1.484532e-03</td><td> 1.383829e-03</td><td>0.0013554167 </td><td>0.0009983636 </td><td>0.0008927922 </td><td>6.375356e-04 </td><td> 4.207226e-04</td><td> 2.668802e-04</td><td>⋯            </td><td>6.050830e-08 </td><td>4.739266e-08 </td><td>3.832579e-08 </td><td>3.092029e-08 </td><td>2.153306e-08 </td><td>1.956042e-08 </td><td>2.081976e-08 </td><td>1.808485e-08 </td><td>1.601261e-08 </td><td>1.362796e-07 </td></tr>\n",
       "\t<tr><td>1.974061e-08 </td><td> 1.539793e-03</td><td> 1.312468e-03</td><td> 1.423284e-03</td><td>0.0013921831 </td><td>0.0010840391 </td><td>0.0009396705 </td><td>6.697181e-04 </td><td> 4.517168e-04</td><td> 2.731875e-04</td><td>⋯            </td><td>6.307609e-08 </td><td>4.829146e-08 </td><td>4.225773e-08 </td><td>3.069067e-08 </td><td>2.753551e-08 </td><td>2.398095e-08 </td><td>2.214672e-08 </td><td>2.110721e-08 </td><td>1.984710e-08 </td><td>1.492154e-07 </td></tr>\n",
       "\t<tr><td>1.870327e-08 </td><td> 1.631428e-03</td><td> 1.562785e-03</td><td> 1.566750e-03</td><td>0.0014401151 </td><td>0.0011126324 </td><td>0.0009500160 </td><td>6.660871e-04 </td><td> 4.426233e-04</td><td> 2.613693e-04</td><td>⋯            </td><td>7.070551e-08 </td><td>5.579590e-08 </td><td>4.801449e-08 </td><td>3.802702e-08 </td><td>3.148164e-08 </td><td>3.064044e-08 </td><td>2.837032e-08 </td><td>2.643254e-08 </td><td>2.270816e-08 </td><td>1.616375e-07 </td></tr>\n",
       "\t<tr><td>1.753261e-08 </td><td> 1.643372e-03</td><td> 1.622131e-03</td><td> 1.518677e-03</td><td>0.0012861552 </td><td>0.0010464922 </td><td>0.0008772307 </td><td>6.367784e-04 </td><td> 4.131927e-04</td><td> 2.476442e-04</td><td>⋯            </td><td>1.203120e-07 </td><td>6.961976e-08 </td><td>5.482513e-08 </td><td>4.691584e-08 </td><td>3.577678e-08 </td><td>3.337916e-08 </td><td>3.032678e-08 </td><td>2.952635e-08 </td><td>2.211525e-08 </td><td>1.548501e-07 </td></tr>\n",
       "\t<tr><td>1.598199e-08 </td><td> 1.411434e-03</td><td> 1.343668e-03</td><td> 1.289900e-03</td><td>0.0011782548 </td><td>0.0009624541 </td><td>0.0008206896 </td><td>5.734829e-04 </td><td> 4.027573e-04</td><td> 2.401850e-04</td><td>⋯            </td><td>6.961976e-08 </td><td>9.811320e-08 </td><td>5.425665e-08 </td><td>5.161203e-08 </td><td>3.893527e-08 </td><td>3.778733e-08 </td><td>3.271550e-08 </td><td>2.873662e-08 </td><td>2.477704e-08 </td><td>1.461579e-07 </td></tr>\n",
       "\t<tr><td>1.452841e-08 </td><td> 1.230247e-03</td><td> 1.401028e-03</td><td> 1.258744e-03</td><td>0.0011230423 </td><td>0.0009351838 </td><td>0.0008161501 </td><td>5.792854e-04 </td><td> 3.916065e-04</td><td> 2.255588e-04</td><td>⋯            </td><td>5.482513e-08 </td><td>5.425665e-08 </td><td>9.225720e-08 </td><td>5.333959e-08 </td><td>4.735337e-08 </td><td>3.853399e-08 </td><td>3.402223e-08 </td><td>3.085667e-08 </td><td>2.604010e-08 </td><td>1.691451e-07 </td></tr>\n",
       "\t<tr><td>1.347941e-08 </td><td> 1.351061e-03</td><td> 1.340622e-03</td><td> 1.319524e-03</td><td>0.0010779193 </td><td>0.0009124881 </td><td>0.0007781784 </td><td>5.568761e-04 </td><td> 3.645393e-04</td><td> 2.176964e-04</td><td>⋯            </td><td>4.691584e-08 </td><td>5.161203e-08 </td><td>5.333959e-08 </td><td>8.432489e-08 </td><td>4.909689e-08 </td><td>4.111258e-08 </td><td>3.623642e-08 </td><td>3.088889e-08 </td><td>2.678140e-08 </td><td>1.664447e-07 </td></tr>\n",
       "\t<tr><td>1.248933e-08 </td><td> 1.368307e-03</td><td> 1.323887e-03</td><td> 1.136040e-03</td><td>0.0010535864 </td><td>0.0009107046 </td><td>0.0007762073 </td><td>5.559642e-04 </td><td> 3.784910e-04</td><td> 2.354050e-04</td><td>⋯            </td><td>3.577678e-08 </td><td>3.893527e-08 </td><td>4.735337e-08 </td><td>4.909689e-08 </td><td>8.342046e-08 </td><td>4.684967e-08 </td><td>3.878105e-08 </td><td>3.442671e-08 </td><td>2.928046e-08 </td><td>1.790978e-07 </td></tr>\n",
       "\t<tr><td>1.151038e-08 </td><td> 1.166616e-03</td><td> 1.084602e-03</td><td> 1.097766e-03</td><td>0.0009582036 </td><td>0.0008235563 </td><td>0.0007271639 </td><td>5.259758e-04 </td><td> 3.664239e-04</td><td> 2.113524e-04</td><td>⋯            </td><td>3.337916e-08 </td><td>3.778733e-08 </td><td>3.853399e-08 </td><td>4.111258e-08 </td><td>4.684967e-08 </td><td>7.310796e-08 </td><td>4.266893e-08 </td><td>3.648263e-08 </td><td>3.085436e-08 </td><td>1.702914e-07 </td></tr>\n",
       "\t<tr><td>1.129977e-08 </td><td> 1.107459e-03</td><td> 1.128580e-03</td><td> 1.121256e-03</td><td>0.0009346416 </td><td>0.0008148510 </td><td>0.0007077437 </td><td>5.113871e-04 </td><td> 3.681941e-04</td><td> 2.130347e-04</td><td>⋯            </td><td>3.032678e-08 </td><td>3.271550e-08 </td><td>3.402223e-08 </td><td>3.623642e-08 </td><td>3.878105e-08 </td><td>4.266893e-08 </td><td>6.721647e-08 </td><td>3.800654e-08 </td><td>3.174702e-08 </td><td>1.783696e-07 </td></tr>\n",
       "\t<tr><td>1.048359e-08 </td><td> 1.150946e-03</td><td> 1.181254e-03</td><td> 1.123621e-03</td><td>0.0009643649 </td><td>0.0008347885 </td><td>0.0007315960 </td><td>5.512032e-04 </td><td> 3.806782e-04</td><td> 2.281668e-04</td><td>⋯            </td><td>2.952635e-08 </td><td>2.873662e-08 </td><td>3.085667e-08 </td><td>3.088889e-08 </td><td>3.442671e-08 </td><td>3.648263e-08 </td><td>3.800654e-08 </td><td>6.205155e-08 </td><td>3.552153e-08 </td><td>1.970538e-07 </td></tr>\n",
       "\t<tr><td>9.340719e-09 </td><td> 1.066858e-03</td><td> 1.030763e-03</td><td> 1.051466e-03</td><td>0.0009120713 </td><td>0.0008028971 </td><td>0.0006570250 </td><td>5.092103e-04 </td><td> 3.681508e-04</td><td> 2.224019e-04</td><td>⋯            </td><td>2.211525e-08 </td><td>2.477704e-08 </td><td>2.604010e-08 </td><td>2.678140e-08 </td><td>2.928046e-08 </td><td>3.085436e-08 </td><td>3.174702e-08 </td><td>3.552153e-08 </td><td>5.502192e-08 </td><td>2.026459e-07 </td></tr>\n",
       "\t<tr><td>1.003631e-07 </td><td> 1.525192e-02</td><td> 1.554507e-02</td><td> 1.408232e-02</td><td>0.0129806065 </td><td>0.0110806490 </td><td>0.0093263223 </td><td>7.608780e-03 </td><td> 5.617174e-03</td><td> 3.831436e-03</td><td>⋯            </td><td>1.548501e-07 </td><td>1.461579e-07 </td><td>1.691451e-07 </td><td>1.664447e-07 </td><td>1.790978e-07 </td><td>1.702914e-07 </td><td>1.783696e-07 </td><td>1.970538e-07 </td><td>2.026459e-07 </td><td>3.576750e-06 </td></tr>\n",
       "</tbody>\n",
       "</table>\n"
      ],
      "text/latex": [
       "\\begin{tabular}{llllllllllllllllllllllllllllllllllllllllllllllllllllllllllllllllllllllllllllllllllllllllllllllllllll}\n",
       "\t 2.094186e-08  &  8.054374e-05 & 2.425617e-04  & 3.042403e-04  & 3.407521e-04  & 2.909748e-04  & 2.692553e-04  & 1.915049e-04  &  0.0001194458 &  6.273969e-05 & ⋯             &  1.753261e-08 & 1.598199e-08  & 1.452841e-08  & 1.347941e-08  & 1.248933e-08  & 1.151038e-08  & 1.129977e-08  & 1.048359e-08  & 9.340719e-09  & 1.003631e-07 \\\\\n",
       "\t 8.054374e-05  &  3.984999e+02 & 2.307566e+02  & 1.952640e+02  & 1.698144e+02  & 1.335883e+02  & 1.085157e+02  & 8.076387e+01  & 59.7094609748 &  4.397496e+01 & ⋯             &  1.643372e-03 & 1.411434e-03  & 1.230247e-03  & 1.351061e-03  & 1.368307e-03  & 1.166616e-03  & 1.107459e-03  & 1.150946e-03  & 1.066858e-03  & 1.525192e-02 \\\\\n",
       "\t 2.425617e-04  &  2.307566e+02 & 2.798185e+02  & 1.921281e+02  & 1.636964e+02  & 1.300324e+02  & 1.064929e+02  & 8.165229e+01  & 58.8017762969 &  4.341030e+01 & ⋯             &  1.622131e-03 & 1.343668e-03  & 1.401028e-03  & 1.340622e-03  & 1.323887e-03  & 1.084602e-03  & 1.128580e-03  & 1.181254e-03  & 1.030763e-03  & 1.554507e-02 \\\\\n",
       "\t 3.042403e-04  &  1.952640e+02 & 1.921281e+02  & 1.952796e+02  & 1.478543e+02  & 1.162338e+02  & 9.539530e+01  & 7.439334e+01  & 53.7204613987 &  3.963870e+01 & ⋯             &  1.518677e-03 & 1.289900e-03  & 1.258744e-03  & 1.319524e-03  & 1.136040e-03  & 1.097766e-03  & 1.121256e-03  & 1.123621e-03  & 1.051466e-03  & 1.408232e-02 \\\\\n",
       "\t 3.407521e-04  &  1.698144e+02 & 1.636964e+02  & 1.478543e+02  & 1.471845e+02  & 1.076718e+02  & 8.918098e+01  & 6.867834e+01  & 49.8341211951 &  3.724072e+01 & ⋯             &  1.286155e-03 & 1.178255e-03  & 1.123042e-03  & 1.077919e-03  & 1.053586e-03  & 9.582036e-04  & 9.346416e-04  & 9.643649e-04  & 9.120713e-04  & 1.298061e-02 \\\\\n",
       "\t 2.909748e-04  &  1.335883e+02 & 1.300324e+02  & 1.162338e+02  & 1.076718e+02  & 9.497288e+01  & 7.468218e+01  & 5.839313e+01  & 42.8675164196 &  3.197261e+01 & ⋯             &  1.046492e-03 & 9.624541e-04  & 9.351838e-04  & 9.124881e-04  & 9.107046e-04  & 8.235563e-04  & 8.148510e-04  & 8.347885e-04  & 8.028971e-04  & 1.108065e-02 \\\\\n",
       "\t 2.692553e-04  &  1.085157e+02 & 1.064929e+02  & 9.539530e+01  & 8.918098e+01  & 7.468218e+01  & 6.726854e+01  & 5.124751e+01  & 37.8441170420 &  2.840175e+01 & ⋯             &  8.772307e-04 & 8.206896e-04  & 8.161501e-04  & 7.781784e-04  & 7.762073e-04  & 7.271639e-04  & 7.077437e-04  & 7.315960e-04  & 6.570250e-04  & 9.326322e-03 \\\\\n",
       "\t 1.915049e-04  &  8.076387e+01 & 8.165229e+01  & 7.439334e+01  & 6.867834e+01  & 5.839313e+01  & 5.124751e+01  & 4.399169e+01  & 32.5285159523 &  2.478179e+01 & ⋯             &  6.367784e-04 & 5.734829e-04  & 5.792854e-04  & 5.568761e-04  & 5.559642e-04  & 5.259758e-04  & 5.113871e-04  & 5.512032e-04  & 5.092103e-04  & 7.608780e-03 \\\\\n",
       "\t 1.194458e-04  &  5.970946e+01 & 5.880178e+01  & 5.372046e+01  & 4.983412e+01  & 4.286752e+01  & 3.784412e+01  & 3.252852e+01  & 26.7226262560 &  2.045565e+01 & ⋯             &  4.131927e-04 & 4.027573e-04  & 3.916065e-04  & 3.645393e-04  & 3.784910e-04  & 3.664239e-04  & 3.681941e-04  & 3.806782e-04  & 3.681508e-04  & 5.617174e-03 \\\\\n",
       "\t 6.273969e-05  &  4.397496e+01 & 4.341030e+01  & 3.963870e+01  & 3.724072e+01  & 3.197261e+01  & 2.840175e+01  & 2.478179e+01  & 20.4556513034 &  1.726842e+01 & ⋯             &  2.476442e-04 & 2.401850e-04  & 2.255588e-04  & 2.176964e-04  & 2.354050e-04  & 2.113524e-04  & 2.130347e-04  & 2.281668e-04  & 2.224019e-04  & 3.831436e-03 \\\\\n",
       "\t 4.009914e-05  &  2.929358e+01 & 2.916159e+01  & 2.683663e+01  & 2.504164e+01  & 2.151649e+01  & 1.917335e+01  & 1.696404e+01  & 14.0328748478 &  1.180747e+01 & ⋯             &  1.937272e-04 & 1.810281e-04  & 1.746550e-04  & 1.621895e-04  & 1.719948e-04  & 1.576895e-04  & 1.567250e-04  & 1.645988e-04  & 1.529122e-04  & 2.678448e-03 \\\\\n",
       "\t 2.125393e-05  &  1.823799e+01 & 1.772339e+01  & 1.686732e+01  & 1.542997e+01  & 1.328676e+01  & 1.199934e+01  & 1.063261e+01  &  8.9325093479 &  7.602291e+00 & ⋯             &  1.529911e-04 & 1.401149e-04  & 1.279918e-04  & 1.227778e-04  & 1.163884e-04  & 1.115993e-04  & 1.158525e-04  & 1.192602e-04  & 1.134287e-04  & 1.667012e-03 \\\\\n",
       "\t 3.626806e-05  &  1.317520e+01 & 1.262170e+01  & 1.241765e+01  & 1.141276e+01  & 9.927788e+00  & 9.051215e+00  & 7.992450e+00  &  6.7671030656 &  5.832446e+00 & ⋯             &  1.311444e-04 & 1.184067e-04  & 1.138581e-04  & 1.039512e-04  & 9.257685e-05  & 9.547703e-05  & 9.556259e-05  & 9.642965e-05  & 8.830357e-05  & 1.128322e-03 \\\\\n",
       "\t 5.072638e-05  &  1.124653e+01 & 1.077195e+01  & 1.095978e+01  & 1.000569e+01  & 8.786961e+00  & 7.995401e+00  & 7.009681e+00  &  5.9363413432 &  5.074724e+00 & ⋯             &  1.269155e-04 & 1.176981e-04  & 1.118114e-04  & 1.032678e-04  & 9.480391e-05  & 9.301466e-05  & 9.488647e-05  & 9.202360e-05  & 8.553772e-05  & 1.032163e-03 \\\\\n",
       "\t 7.306231e-05  &  9.886351e+00 & 9.685083e+00  & 9.881592e+00  & 8.986443e+00  & 7.949477e+00  & 7.158469e+00  & 6.167955e+00  &  5.1453593500 &  4.319885e+00 & ⋯             &  1.446785e-04 & 1.315514e-04  & 1.208077e-04  & 1.171902e-04  & 1.070740e-04  & 1.040038e-04  & 1.020155e-04  & 9.873221e-05  & 8.892507e-05  & 1.077229e-03 \\\\\n",
       "\t 9.961170e-05  &  9.278838e+00 & 9.450621e+00  & 9.726658e+00  & 8.783237e+00  & 7.704121e+00  & 6.939403e+00  & 5.797494e+00  &  4.6885317495 &  3.815760e+00 & ⋯             &  1.729135e-04 & 1.569734e-04  & 1.418018e-04  & 1.354145e-04  & 1.217700e-04  & 1.169317e-04  & 1.127615e-04  & 1.063171e-04  & 9.519097e-05  & 1.085567e-03 \\\\\n",
       "\t 1.269140e-04  &  7.678168e+00 & 7.935923e+00  & 8.181731e+00  & 7.600116e+00  & 6.767309e+00  & 6.261054e+00  & 5.031142e+00  &  3.9362983468 &  3.118630e+00 & ⋯             &  1.796737e-04 & 1.622766e-04  & 1.464737e-04  & 1.393691e-04  & 1.261435e-04  & 1.181224e-04  & 1.101082e-04  & 1.032518e-04  & 9.092084e-05  & 8.844278e-04 \\\\\n",
       "\t 1.478287e-04  &  4.457239e+00 & 5.069039e+00  & 5.525933e+00  & 5.334468e+00  & 4.832571e+00  & 4.582959e+00  & 3.498067e+00  &  2.5978691532 &  1.975968e+00 & ⋯             &  1.802990e-04 & 1.613212e-04  & 1.465725e-04  & 1.376179e-04  & 1.246748e-04  & 1.152196e-04  & 1.065630e-04  & 9.679726e-05  & 8.699881e-05  & 7.231364e-04 \\\\\n",
       "\t 1.639171e-04  &  3.470990e+00 & 4.655445e+00  & 5.185819e+00  & 5.371392e+00  & 4.549197e+00  & 4.542381e+00  & 3.349987e+00  &  2.2954394969 &  1.651497e+00 & ⋯             &  1.790907e-04 & 1.592671e-04  & 1.467240e-04  & 1.346957e-04  & 1.221428e-04  & 1.098294e-04  & 9.891641e-05  & 9.027674e-05  & 8.051637e-05  & 6.790397e-04 \\\\\n",
       "\t 1.271804e-04  &  8.693647e-01 & 2.230682e+00  & 2.967309e+00  & 3.440354e+00  & 2.598259e+00  & 2.886811e+00  & 2.161731e+00  &  1.4867094098 &  1.098722e+00 & ⋯             &  1.149666e-04 & 1.038343e-04  & 9.861966e-05  & 8.927241e-05  & 8.038533e-05  & 7.193951e-05  & 6.406280e-05  & 5.948671e-05  & 5.291894e-05  & 4.731576e-04 \\\\\n",
       "\t 1.811116e-05  & -2.217757e-01 & 2.032696e-01  & 3.937013e-01  & 3.043530e-01  & 2.375572e-01  & 2.413546e-01  & 1.898004e-02  & -0.1494711682 & -1.771572e-01 & ⋯             & -2.757660e-06 & 6.332832e-07  & 1.629490e-06  & 2.525441e-06  & 1.245572e-05  & 8.531910e-06  & 3.469939e-06  & 5.875824e-06  & 4.104205e-06  & 9.308874e-05 \\\\\n",
       "\t 1.658262e-05  &  7.683550e-01 & 3.562504e-01  & 5.423726e-01  & 3.508054e-01  & 2.391173e-01  & 2.567328e-01  & 2.918547e-01  &  0.1657334618 &  1.437811e-01 & ⋯             &  8.671858e-06 & 5.015252e-06  & 5.667762e-06  & 9.144842e-06  & 1.361932e-05  & 1.079479e-05  & 1.192006e-05  & 7.702934e-06  & 1.053209e-05  & 7.197691e-05 \\\\\n",
       "\t 2.132125e-05  &  1.496767e+00 & 1.016416e+00  & 8.493591e-01  & 8.119670e-01  & 6.552966e-01  & 4.645826e-01  & 3.157348e-01  &  0.1810054900 &  1.077691e-01 & ⋯             &  1.684442e-05 & 1.437062e-05  & 1.063997e-05  & 1.495170e-05  & 1.468050e-05  & 1.885590e-05  & 1.320995e-05  & 1.496119e-05  & 1.483464e-05  & 1.522400e-04 \\\\\n",
       "\t 2.431435e-05  &  2.552528e+00 & 2.214697e+00  & 1.935973e+00  & 1.659613e+00  & 1.307587e+00  & 1.101607e+00  & 7.880405e-01  &  0.5567521140 &  3.559872e-01 & ⋯             &  2.879162e-05 & 3.291828e-05  & 2.591524e-05  & 2.683806e-05  & 2.717578e-05  & 2.625611e-05  & 2.303800e-05  & 2.161686e-05  & 1.951981e-05  & 2.192996e-04 \\\\\n",
       "\t 2.283557e-05  &  2.660527e+00 & 2.480421e+00  & 2.123436e+00  & 1.893950e+00  & 1.445067e+00  & 1.187486e+00  & 8.834877e-01  &  0.6208869257 &  4.437785e-01 & ⋯             &  3.314755e-05 & 2.940468e-05  & 2.527793e-05  & 2.608954e-05  & 2.506218e-05  & 2.282087e-05  & 1.998753e-05  & 1.852011e-05  & 1.808097e-05  & 2.035640e-04 \\\\\n",
       "\t 1.975933e-05  &  2.501117e+00 & 2.362013e+00  & 2.137061e+00  & 1.893384e+00  & 1.475368e+00  & 1.175847e+00  & 8.771461e-01  &  0.6213725828 &  4.424562e-01 & ⋯             &  2.511698e-05 & 2.451945e-05  & 1.996073e-05  & 2.236196e-05  & 2.036029e-05  & 2.046806e-05  & 1.882367e-05  & 1.902275e-05  & 1.869219e-05  & 2.012513e-04 \\\\\n",
       "\t 2.027437e-05  &  2.315442e+00 & 2.304742e+00  & 2.064667e+00  & 1.880406e+00  & 1.492055e+00  & 1.212263e+00  & 8.709961e-01  &  0.6011242980 &  4.267501e-01 & ⋯             &  2.901447e-05 & 2.704914e-05  & 2.515835e-05  & 2.547341e-05  & 2.335144e-05  & 2.173358e-05  & 2.085251e-05  & 1.872218e-05  & 1.679972e-05  & 1.997394e-04 \\\\\n",
       "\t 2.009485e-05  &  2.505177e+00 & 2.553530e+00  & 2.309773e+00  & 2.134113e+00  & 1.710080e+00  & 1.424469e+00  & 1.050940e+00  &  0.7113249059 &  4.981711e-01 & ⋯             &  3.321741e-05 & 2.969148e-05  & 2.817810e-05  & 2.674173e-05  & 2.474344e-05  & 2.244945e-05  & 2.151570e-05  & 2.081765e-05  & 1.842146e-05  & 2.386303e-04 \\\\\n",
       "\t 1.712571e-05  &  2.209127e+00 & 2.280074e+00  & 2.105076e+00  & 1.920947e+00  & 1.574142e+00  & 1.335821e+00  & 1.023618e+00  &  0.6942419091 &  4.677700e-01 & ⋯             &  3.142930e-05 & 2.769171e-05  & 2.598966e-05  & 2.422141e-05  & 2.230959e-05  & 2.186068e-05  & 2.067218e-05  & 1.982897e-05  & 1.749984e-05  & 2.205062e-04 \\\\\n",
       "\t 1.603865e-05  &  1.949748e+00 & 2.025007e+00  & 1.880452e+00  & 1.750735e+00  & 1.439586e+00  & 1.240275e+00  & 9.593323e-01  &  0.6836009929 &  4.709398e-01 & ⋯             &  2.718477e-05 & 2.498739e-05  & 2.362663e-05  & 2.239265e-05  & 2.114562e-05  & 1.998474e-05  & 1.963882e-05  & 1.886157e-05  & 1.715684e-05  & 2.124605e-04 \\\\\n",
       "\t ⋮ & ⋮ & ⋮ & ⋮ & ⋮ & ⋮ & ⋮ & ⋮ & ⋮ & ⋮ & ⋱ & ⋮ & ⋮ & ⋮ & ⋮ & ⋮ & ⋮ & ⋮ & ⋮ & ⋮ & ⋮\\\\\n",
       "\t 6.395929e-08  & -7.684698e-05 &  1.887702e-04 &  5.253343e-05 & 0.0002088837  & 0.0002720917  & 0.0002760960  & 7.131001e-05  & -6.442648e-05 & -1.438343e-04 & ⋯             & 3.820393e-08  & 3.806946e-08  & 3.241898e-08  & 1.469458e-08  & 2.732429e-08  & 2.479380e-08  & 2.791891e-08  & 1.583121e-08  & 1.578956e-08  & 2.197574e-07 \\\\\n",
       "\t 5.803411e-08  & -4.929825e-04 & -1.476059e-04 & -4.211335e-04 & 0.0002031129  & 0.0002002641  & 0.0002187502  & 1.805702e-05  & -6.547951e-06 & -6.467501e-05 & ⋯             & 4.536217e-08  & 4.939935e-08  & 3.583915e-08  & 1.616894e-08  & 1.934580e-08  & 1.930261e-08  & 3.082265e-08  & 1.645624e-08  & 1.760245e-08  & 1.615328e-07 \\\\\n",
       "\t 5.472715e-08  & -3.760163e-04 &  4.605365e-05 &  2.485596e-04 & 0.0004611061  & 0.0003965533  & 0.0003184675  & 9.238053e-05  &  4.576260e-05 & -5.238798e-05 & ⋯             & 4.516832e-08  & 4.791764e-08  & 4.387463e-08  & 3.423375e-08  & 4.208459e-08  & 3.588783e-08  & 3.495141e-08  & 2.474757e-08  & 1.969305e-08  & 1.135470e-07 \\\\\n",
       "\t 5.083828e-08  &  1.255201e-04 &  2.743554e-04 &  7.237425e-04 & 0.0008959008  & 0.0007528678  & 0.0007668917  & 3.750873e-04  &  2.253668e-04 &  1.111245e-04 & ⋯             & 3.822894e-08  & 3.662156e-08  & 3.415724e-08  & 3.289659e-08  & 1.887208e-08  & 1.789217e-08  & 3.268353e-08  & 2.265026e-08  & 1.737449e-08  & 1.989750e-07 \\\\\n",
       "\t 4.681912e-08  &  5.193178e-04 &  1.272673e-03 &  1.387771e-03 & 0.0014015226  & 0.0011000961  & 0.0009682927  & 5.879413e-04  &  4.132181e-04 &  2.481471e-04 & ⋯             & 3.203081e-08  & 2.346846e-08  & 2.114032e-08  & 3.152225e-08  & 2.757971e-08  & 2.523185e-08  & 2.646251e-08  & 2.303853e-08  & 2.294130e-08  & 1.765767e-07 \\\\\n",
       "\t 4.416935e-08  &  1.197064e-03 &  1.492863e-03 &  1.504756e-03 & 0.0012269844  & 0.0010073424  & 0.0008643569  & 5.053984e-04  &  3.747060e-04 &  2.071150e-04 & ⋯             & 4.275928e-08  & 3.239128e-08  & 2.592200e-08  & 3.080971e-08  & 2.392018e-08  & 1.837625e-08  & 1.564758e-08  & 1.324430e-08  & 7.571191e-09  & 1.522181e-07 \\\\\n",
       "\t 4.121190e-08  &  1.243531e-03 &  1.326981e-03 &  1.451430e-03 & 0.0014277101  & 0.0009809470  & 0.0008357251  & 5.419731e-04  &  3.420621e-04 &  2.459250e-04 & ⋯             & 4.098991e-08  & 3.787677e-08  & 3.670320e-08  & 3.404858e-08  & 1.867543e-08  & 2.027833e-08  & 1.602059e-08  & 8.266794e-09  & 6.223319e-09  & 1.514844e-07 \\\\\n",
       "\t 3.815075e-08  &  1.062101e-03 &  1.303340e-03 &  1.432156e-03 & 0.0013751960  & 0.0010066889  & 0.0008699548  & 6.129724e-04  &  4.007853e-04 &  2.664682e-04 & ⋯             & 3.096196e-08  & 2.781031e-08  & 2.179067e-08  & 3.326323e-08  & 2.279863e-08  & 2.165029e-08  & 1.584992e-08  & 9.975830e-09  & 8.749929e-09  & 1.532835e-07 \\\\\n",
       "\t 3.677277e-08  &  1.297197e-03 &  1.486011e-03 &  1.517508e-03 & 0.0013056085  & 0.0011006716  & 0.0009310756  & 6.479908e-04  &  4.142979e-04 &  2.547178e-04 & ⋯             & 2.801863e-08  & 3.066866e-08  & 2.582345e-08  & 2.695849e-08  & 2.218581e-08  & 2.353504e-08  & 2.041164e-08  & 1.494712e-08  & 1.403423e-08  & 1.486040e-07 \\\\\n",
       "\t 3.581356e-08  &  1.602288e-03 &  1.306275e-03 &  1.418326e-03 & 0.0011145650  & 0.0010986128  & 0.0009285281  & 6.756928e-04  &  4.401540e-04 &  2.864574e-04 & ⋯             & 3.356495e-08  & 3.467335e-08  & 2.645048e-08  & 2.840675e-08  & 2.436402e-08  & 2.612712e-08  & 2.443879e-08  & 2.235502e-08  & 1.726357e-08  & 1.589744e-07 \\\\\n",
       "\t 3.489538e-08  &  1.802047e-03 &  1.764886e-03 &  1.737303e-03 & 0.0015240348  & 0.0012660050  & 0.0010150538  & 7.363052e-04  &  4.874216e-04 &  2.949050e-04 & ⋯             & 3.514923e-08  & 3.832454e-08  & 2.484182e-08  & 2.487965e-08  & 2.651133e-08  & 2.681816e-08  & 2.431196e-08  & 2.625087e-08  & 1.874078e-08  & 1.752198e-07 \\\\\n",
       "\t 3.201997e-08  &  1.498143e-03 &  1.672384e-03 &  1.631642e-03 & 0.0012970717  & 0.0012082127  & 0.0009751935  & 6.863950e-04  &  4.636983e-04 &  2.896451e-04 & ⋯             & 3.530442e-08  & 3.754198e-08  & 2.305435e-08  & 2.789259e-08  & 2.236993e-08  & 2.428614e-08  & 2.072400e-08  & 2.145305e-08  & 1.497300e-08  & 1.336869e-07 \\\\\n",
       "\t 3.016676e-08  &  1.297348e-03 &  1.503090e-03 &  1.578419e-03 & 0.0012779709  & 0.0011016387  & 0.0008966320  & 6.921237e-04  &  4.723080e-04 &  2.884179e-04 & ⋯             & 3.590841e-08  & 3.544756e-08  & 2.303310e-08  & 2.582992e-08  & 2.287452e-08  & 2.225964e-08  & 2.264404e-08  & 2.403439e-08  & 1.476810e-08  & 1.395324e-07 \\\\\n",
       "\t 2.884615e-08  &  1.318811e-03 &  1.687378e-03 &  1.410829e-03 & 0.0014412270  & 0.0012073667  & 0.0009879513  & 7.399334e-04  &  4.870722e-04 &  3.132870e-04 & ⋯             & 4.109597e-08  & 3.599216e-08  & 2.895236e-08  & 2.153539e-08  & 1.913240e-08  & 2.093122e-08  & 2.044879e-08  & 2.072830e-08  & 1.422476e-08  & 1.616433e-07 \\\\\n",
       "\t 2.728057e-08  &  1.745963e-03 &  1.847875e-03 &  1.610829e-03 & 0.0015601041  & 0.0012055387  & 0.0010226895  & 7.223672e-04  &  4.712179e-04 &  2.991500e-04 & ⋯             & 5.008546e-08  & 3.642317e-08  & 3.202941e-08  & 2.367539e-08  & 2.060722e-08  & 2.218487e-08  & 1.665874e-08  & 2.043604e-08  & 1.565779e-08  & 1.279163e-07 \\\\\n",
       "\t 2.557900e-08  &  1.584731e-03 &  1.768853e-03 &  1.662430e-03 & 0.0016006000  & 0.0012064635  & 0.0009920504  & 7.379649e-04  &  4.770876e-04 &  2.905405e-04 & ⋯             & 4.999218e-08  & 4.301758e-08  & 3.429936e-08  & 2.541328e-08  & 2.263438e-08  & 2.091339e-08  & 1.759698e-08  & 1.952966e-08  & 1.576974e-08  & 1.319417e-07 \\\\\n",
       "\t 2.322474e-08  &  1.541730e-03 &  1.656641e-03 &  1.531767e-03 & 0.0015052683  & 0.0011560743  & 0.0009941767  & 7.067527e-04  &  4.738129e-04 &  2.928049e-04 & ⋯             & 5.331858e-08  & 4.339495e-08  & 3.803106e-08  & 2.896360e-08  & 2.587053e-08  & 2.388093e-08  & 2.092753e-08  & 2.324236e-08  & 1.700751e-08  & 1.478075e-07 \\\\\n",
       "\t 2.152793e-08  &  1.475633e-03 &  1.484532e-03 &  1.383829e-03 & 0.0013554167  & 0.0009983636  & 0.0008927922  & 6.375356e-04  &  4.207226e-04 &  2.668802e-04 & ⋯             & 6.050830e-08  & 4.739266e-08  & 3.832579e-08  & 3.092029e-08  & 2.153306e-08  & 1.956042e-08  & 2.081976e-08  & 1.808485e-08  & 1.601261e-08  & 1.362796e-07 \\\\\n",
       "\t 1.974061e-08  &  1.539793e-03 &  1.312468e-03 &  1.423284e-03 & 0.0013921831  & 0.0010840391  & 0.0009396705  & 6.697181e-04  &  4.517168e-04 &  2.731875e-04 & ⋯             & 6.307609e-08  & 4.829146e-08  & 4.225773e-08  & 3.069067e-08  & 2.753551e-08  & 2.398095e-08  & 2.214672e-08  & 2.110721e-08  & 1.984710e-08  & 1.492154e-07 \\\\\n",
       "\t 1.870327e-08  &  1.631428e-03 &  1.562785e-03 &  1.566750e-03 & 0.0014401151  & 0.0011126324  & 0.0009500160  & 6.660871e-04  &  4.426233e-04 &  2.613693e-04 & ⋯             & 7.070551e-08  & 5.579590e-08  & 4.801449e-08  & 3.802702e-08  & 3.148164e-08  & 3.064044e-08  & 2.837032e-08  & 2.643254e-08  & 2.270816e-08  & 1.616375e-07 \\\\\n",
       "\t 1.753261e-08  &  1.643372e-03 &  1.622131e-03 &  1.518677e-03 & 0.0012861552  & 0.0010464922  & 0.0008772307  & 6.367784e-04  &  4.131927e-04 &  2.476442e-04 & ⋯             & 1.203120e-07  & 6.961976e-08  & 5.482513e-08  & 4.691584e-08  & 3.577678e-08  & 3.337916e-08  & 3.032678e-08  & 2.952635e-08  & 2.211525e-08  & 1.548501e-07 \\\\\n",
       "\t 1.598199e-08  &  1.411434e-03 &  1.343668e-03 &  1.289900e-03 & 0.0011782548  & 0.0009624541  & 0.0008206896  & 5.734829e-04  &  4.027573e-04 &  2.401850e-04 & ⋯             & 6.961976e-08  & 9.811320e-08  & 5.425665e-08  & 5.161203e-08  & 3.893527e-08  & 3.778733e-08  & 3.271550e-08  & 2.873662e-08  & 2.477704e-08  & 1.461579e-07 \\\\\n",
       "\t 1.452841e-08  &  1.230247e-03 &  1.401028e-03 &  1.258744e-03 & 0.0011230423  & 0.0009351838  & 0.0008161501  & 5.792854e-04  &  3.916065e-04 &  2.255588e-04 & ⋯             & 5.482513e-08  & 5.425665e-08  & 9.225720e-08  & 5.333959e-08  & 4.735337e-08  & 3.853399e-08  & 3.402223e-08  & 3.085667e-08  & 2.604010e-08  & 1.691451e-07 \\\\\n",
       "\t 1.347941e-08  &  1.351061e-03 &  1.340622e-03 &  1.319524e-03 & 0.0010779193  & 0.0009124881  & 0.0007781784  & 5.568761e-04  &  3.645393e-04 &  2.176964e-04 & ⋯             & 4.691584e-08  & 5.161203e-08  & 5.333959e-08  & 8.432489e-08  & 4.909689e-08  & 4.111258e-08  & 3.623642e-08  & 3.088889e-08  & 2.678140e-08  & 1.664447e-07 \\\\\n",
       "\t 1.248933e-08  &  1.368307e-03 &  1.323887e-03 &  1.136040e-03 & 0.0010535864  & 0.0009107046  & 0.0007762073  & 5.559642e-04  &  3.784910e-04 &  2.354050e-04 & ⋯             & 3.577678e-08  & 3.893527e-08  & 4.735337e-08  & 4.909689e-08  & 8.342046e-08  & 4.684967e-08  & 3.878105e-08  & 3.442671e-08  & 2.928046e-08  & 1.790978e-07 \\\\\n",
       "\t 1.151038e-08  &  1.166616e-03 &  1.084602e-03 &  1.097766e-03 & 0.0009582036  & 0.0008235563  & 0.0007271639  & 5.259758e-04  &  3.664239e-04 &  2.113524e-04 & ⋯             & 3.337916e-08  & 3.778733e-08  & 3.853399e-08  & 4.111258e-08  & 4.684967e-08  & 7.310796e-08  & 4.266893e-08  & 3.648263e-08  & 3.085436e-08  & 1.702914e-07 \\\\\n",
       "\t 1.129977e-08  &  1.107459e-03 &  1.128580e-03 &  1.121256e-03 & 0.0009346416  & 0.0008148510  & 0.0007077437  & 5.113871e-04  &  3.681941e-04 &  2.130347e-04 & ⋯             & 3.032678e-08  & 3.271550e-08  & 3.402223e-08  & 3.623642e-08  & 3.878105e-08  & 4.266893e-08  & 6.721647e-08  & 3.800654e-08  & 3.174702e-08  & 1.783696e-07 \\\\\n",
       "\t 1.048359e-08  &  1.150946e-03 &  1.181254e-03 &  1.123621e-03 & 0.0009643649  & 0.0008347885  & 0.0007315960  & 5.512032e-04  &  3.806782e-04 &  2.281668e-04 & ⋯             & 2.952635e-08  & 2.873662e-08  & 3.085667e-08  & 3.088889e-08  & 3.442671e-08  & 3.648263e-08  & 3.800654e-08  & 6.205155e-08  & 3.552153e-08  & 1.970538e-07 \\\\\n",
       "\t 9.340719e-09  &  1.066858e-03 &  1.030763e-03 &  1.051466e-03 & 0.0009120713  & 0.0008028971  & 0.0006570250  & 5.092103e-04  &  3.681508e-04 &  2.224019e-04 & ⋯             & 2.211525e-08  & 2.477704e-08  & 2.604010e-08  & 2.678140e-08  & 2.928046e-08  & 3.085436e-08  & 3.174702e-08  & 3.552153e-08  & 5.502192e-08  & 2.026459e-07 \\\\\n",
       "\t 1.003631e-07  &  1.525192e-02 &  1.554507e-02 &  1.408232e-02 & 0.0129806065  & 0.0110806490  & 0.0093263223  & 7.608780e-03  &  5.617174e-03 &  3.831436e-03 & ⋯             & 1.548501e-07  & 1.461579e-07  & 1.691451e-07  & 1.664447e-07  & 1.790978e-07  & 1.702914e-07  & 1.783696e-07  & 1.970538e-07  & 2.026459e-07  & 3.576750e-06 \\\\\n",
       "\\end{tabular}\n"
      ],
      "text/markdown": [
       "\n",
       "| 2.094186e-08  |  8.054374e-05 | 2.425617e-04  | 3.042403e-04  | 3.407521e-04  | 2.909748e-04  | 2.692553e-04  | 1.915049e-04  |  0.0001194458 |  6.273969e-05 | ⋯             |  1.753261e-08 | 1.598199e-08  | 1.452841e-08  | 1.347941e-08  | 1.248933e-08  | 1.151038e-08  | 1.129977e-08  | 1.048359e-08  | 9.340719e-09  | 1.003631e-07  | \n",
       "| 8.054374e-05  |  3.984999e+02 | 2.307566e+02  | 1.952640e+02  | 1.698144e+02  | 1.335883e+02  | 1.085157e+02  | 8.076387e+01  | 59.7094609748 |  4.397496e+01 | ⋯             |  1.643372e-03 | 1.411434e-03  | 1.230247e-03  | 1.351061e-03  | 1.368307e-03  | 1.166616e-03  | 1.107459e-03  | 1.150946e-03  | 1.066858e-03  | 1.525192e-02  | \n",
       "| 2.425617e-04  |  2.307566e+02 | 2.798185e+02  | 1.921281e+02  | 1.636964e+02  | 1.300324e+02  | 1.064929e+02  | 8.165229e+01  | 58.8017762969 |  4.341030e+01 | ⋯             |  1.622131e-03 | 1.343668e-03  | 1.401028e-03  | 1.340622e-03  | 1.323887e-03  | 1.084602e-03  | 1.128580e-03  | 1.181254e-03  | 1.030763e-03  | 1.554507e-02  | \n",
       "| 3.042403e-04  |  1.952640e+02 | 1.921281e+02  | 1.952796e+02  | 1.478543e+02  | 1.162338e+02  | 9.539530e+01  | 7.439334e+01  | 53.7204613987 |  3.963870e+01 | ⋯             |  1.518677e-03 | 1.289900e-03  | 1.258744e-03  | 1.319524e-03  | 1.136040e-03  | 1.097766e-03  | 1.121256e-03  | 1.123621e-03  | 1.051466e-03  | 1.408232e-02  | \n",
       "| 3.407521e-04  |  1.698144e+02 | 1.636964e+02  | 1.478543e+02  | 1.471845e+02  | 1.076718e+02  | 8.918098e+01  | 6.867834e+01  | 49.8341211951 |  3.724072e+01 | ⋯             |  1.286155e-03 | 1.178255e-03  | 1.123042e-03  | 1.077919e-03  | 1.053586e-03  | 9.582036e-04  | 9.346416e-04  | 9.643649e-04  | 9.120713e-04  | 1.298061e-02  | \n",
       "| 2.909748e-04  |  1.335883e+02 | 1.300324e+02  | 1.162338e+02  | 1.076718e+02  | 9.497288e+01  | 7.468218e+01  | 5.839313e+01  | 42.8675164196 |  3.197261e+01 | ⋯             |  1.046492e-03 | 9.624541e-04  | 9.351838e-04  | 9.124881e-04  | 9.107046e-04  | 8.235563e-04  | 8.148510e-04  | 8.347885e-04  | 8.028971e-04  | 1.108065e-02  | \n",
       "| 2.692553e-04  |  1.085157e+02 | 1.064929e+02  | 9.539530e+01  | 8.918098e+01  | 7.468218e+01  | 6.726854e+01  | 5.124751e+01  | 37.8441170420 |  2.840175e+01 | ⋯             |  8.772307e-04 | 8.206896e-04  | 8.161501e-04  | 7.781784e-04  | 7.762073e-04  | 7.271639e-04  | 7.077437e-04  | 7.315960e-04  | 6.570250e-04  | 9.326322e-03  | \n",
       "| 1.915049e-04  |  8.076387e+01 | 8.165229e+01  | 7.439334e+01  | 6.867834e+01  | 5.839313e+01  | 5.124751e+01  | 4.399169e+01  | 32.5285159523 |  2.478179e+01 | ⋯             |  6.367784e-04 | 5.734829e-04  | 5.792854e-04  | 5.568761e-04  | 5.559642e-04  | 5.259758e-04  | 5.113871e-04  | 5.512032e-04  | 5.092103e-04  | 7.608780e-03  | \n",
       "| 1.194458e-04  |  5.970946e+01 | 5.880178e+01  | 5.372046e+01  | 4.983412e+01  | 4.286752e+01  | 3.784412e+01  | 3.252852e+01  | 26.7226262560 |  2.045565e+01 | ⋯             |  4.131927e-04 | 4.027573e-04  | 3.916065e-04  | 3.645393e-04  | 3.784910e-04  | 3.664239e-04  | 3.681941e-04  | 3.806782e-04  | 3.681508e-04  | 5.617174e-03  | \n",
       "| 6.273969e-05  |  4.397496e+01 | 4.341030e+01  | 3.963870e+01  | 3.724072e+01  | 3.197261e+01  | 2.840175e+01  | 2.478179e+01  | 20.4556513034 |  1.726842e+01 | ⋯             |  2.476442e-04 | 2.401850e-04  | 2.255588e-04  | 2.176964e-04  | 2.354050e-04  | 2.113524e-04  | 2.130347e-04  | 2.281668e-04  | 2.224019e-04  | 3.831436e-03  | \n",
       "| 4.009914e-05  |  2.929358e+01 | 2.916159e+01  | 2.683663e+01  | 2.504164e+01  | 2.151649e+01  | 1.917335e+01  | 1.696404e+01  | 14.0328748478 |  1.180747e+01 | ⋯             |  1.937272e-04 | 1.810281e-04  | 1.746550e-04  | 1.621895e-04  | 1.719948e-04  | 1.576895e-04  | 1.567250e-04  | 1.645988e-04  | 1.529122e-04  | 2.678448e-03  | \n",
       "| 2.125393e-05  |  1.823799e+01 | 1.772339e+01  | 1.686732e+01  | 1.542997e+01  | 1.328676e+01  | 1.199934e+01  | 1.063261e+01  |  8.9325093479 |  7.602291e+00 | ⋯             |  1.529911e-04 | 1.401149e-04  | 1.279918e-04  | 1.227778e-04  | 1.163884e-04  | 1.115993e-04  | 1.158525e-04  | 1.192602e-04  | 1.134287e-04  | 1.667012e-03  | \n",
       "| 3.626806e-05  |  1.317520e+01 | 1.262170e+01  | 1.241765e+01  | 1.141276e+01  | 9.927788e+00  | 9.051215e+00  | 7.992450e+00  |  6.7671030656 |  5.832446e+00 | ⋯             |  1.311444e-04 | 1.184067e-04  | 1.138581e-04  | 1.039512e-04  | 9.257685e-05  | 9.547703e-05  | 9.556259e-05  | 9.642965e-05  | 8.830357e-05  | 1.128322e-03  | \n",
       "| 5.072638e-05  |  1.124653e+01 | 1.077195e+01  | 1.095978e+01  | 1.000569e+01  | 8.786961e+00  | 7.995401e+00  | 7.009681e+00  |  5.9363413432 |  5.074724e+00 | ⋯             |  1.269155e-04 | 1.176981e-04  | 1.118114e-04  | 1.032678e-04  | 9.480391e-05  | 9.301466e-05  | 9.488647e-05  | 9.202360e-05  | 8.553772e-05  | 1.032163e-03  | \n",
       "| 7.306231e-05  |  9.886351e+00 | 9.685083e+00  | 9.881592e+00  | 8.986443e+00  | 7.949477e+00  | 7.158469e+00  | 6.167955e+00  |  5.1453593500 |  4.319885e+00 | ⋯             |  1.446785e-04 | 1.315514e-04  | 1.208077e-04  | 1.171902e-04  | 1.070740e-04  | 1.040038e-04  | 1.020155e-04  | 9.873221e-05  | 8.892507e-05  | 1.077229e-03  | \n",
       "| 9.961170e-05  |  9.278838e+00 | 9.450621e+00  | 9.726658e+00  | 8.783237e+00  | 7.704121e+00  | 6.939403e+00  | 5.797494e+00  |  4.6885317495 |  3.815760e+00 | ⋯             |  1.729135e-04 | 1.569734e-04  | 1.418018e-04  | 1.354145e-04  | 1.217700e-04  | 1.169317e-04  | 1.127615e-04  | 1.063171e-04  | 9.519097e-05  | 1.085567e-03  | \n",
       "| 1.269140e-04  |  7.678168e+00 | 7.935923e+00  | 8.181731e+00  | 7.600116e+00  | 6.767309e+00  | 6.261054e+00  | 5.031142e+00  |  3.9362983468 |  3.118630e+00 | ⋯             |  1.796737e-04 | 1.622766e-04  | 1.464737e-04  | 1.393691e-04  | 1.261435e-04  | 1.181224e-04  | 1.101082e-04  | 1.032518e-04  | 9.092084e-05  | 8.844278e-04  | \n",
       "| 1.478287e-04  |  4.457239e+00 | 5.069039e+00  | 5.525933e+00  | 5.334468e+00  | 4.832571e+00  | 4.582959e+00  | 3.498067e+00  |  2.5978691532 |  1.975968e+00 | ⋯             |  1.802990e-04 | 1.613212e-04  | 1.465725e-04  | 1.376179e-04  | 1.246748e-04  | 1.152196e-04  | 1.065630e-04  | 9.679726e-05  | 8.699881e-05  | 7.231364e-04  | \n",
       "| 1.639171e-04  |  3.470990e+00 | 4.655445e+00  | 5.185819e+00  | 5.371392e+00  | 4.549197e+00  | 4.542381e+00  | 3.349987e+00  |  2.2954394969 |  1.651497e+00 | ⋯             |  1.790907e-04 | 1.592671e-04  | 1.467240e-04  | 1.346957e-04  | 1.221428e-04  | 1.098294e-04  | 9.891641e-05  | 9.027674e-05  | 8.051637e-05  | 6.790397e-04  | \n",
       "| 1.271804e-04  |  8.693647e-01 | 2.230682e+00  | 2.967309e+00  | 3.440354e+00  | 2.598259e+00  | 2.886811e+00  | 2.161731e+00  |  1.4867094098 |  1.098722e+00 | ⋯             |  1.149666e-04 | 1.038343e-04  | 9.861966e-05  | 8.927241e-05  | 8.038533e-05  | 7.193951e-05  | 6.406280e-05  | 5.948671e-05  | 5.291894e-05  | 4.731576e-04  | \n",
       "| 1.811116e-05  | -2.217757e-01 | 2.032696e-01  | 3.937013e-01  | 3.043530e-01  | 2.375572e-01  | 2.413546e-01  | 1.898004e-02  | -0.1494711682 | -1.771572e-01 | ⋯             | -2.757660e-06 | 6.332832e-07  | 1.629490e-06  | 2.525441e-06  | 1.245572e-05  | 8.531910e-06  | 3.469939e-06  | 5.875824e-06  | 4.104205e-06  | 9.308874e-05  | \n",
       "| 1.658262e-05  |  7.683550e-01 | 3.562504e-01  | 5.423726e-01  | 3.508054e-01  | 2.391173e-01  | 2.567328e-01  | 2.918547e-01  |  0.1657334618 |  1.437811e-01 | ⋯             |  8.671858e-06 | 5.015252e-06  | 5.667762e-06  | 9.144842e-06  | 1.361932e-05  | 1.079479e-05  | 1.192006e-05  | 7.702934e-06  | 1.053209e-05  | 7.197691e-05  | \n",
       "| 2.132125e-05  |  1.496767e+00 | 1.016416e+00  | 8.493591e-01  | 8.119670e-01  | 6.552966e-01  | 4.645826e-01  | 3.157348e-01  |  0.1810054900 |  1.077691e-01 | ⋯             |  1.684442e-05 | 1.437062e-05  | 1.063997e-05  | 1.495170e-05  | 1.468050e-05  | 1.885590e-05  | 1.320995e-05  | 1.496119e-05  | 1.483464e-05  | 1.522400e-04  | \n",
       "| 2.431435e-05  |  2.552528e+00 | 2.214697e+00  | 1.935973e+00  | 1.659613e+00  | 1.307587e+00  | 1.101607e+00  | 7.880405e-01  |  0.5567521140 |  3.559872e-01 | ⋯             |  2.879162e-05 | 3.291828e-05  | 2.591524e-05  | 2.683806e-05  | 2.717578e-05  | 2.625611e-05  | 2.303800e-05  | 2.161686e-05  | 1.951981e-05  | 2.192996e-04  | \n",
       "| 2.283557e-05  |  2.660527e+00 | 2.480421e+00  | 2.123436e+00  | 1.893950e+00  | 1.445067e+00  | 1.187486e+00  | 8.834877e-01  |  0.6208869257 |  4.437785e-01 | ⋯             |  3.314755e-05 | 2.940468e-05  | 2.527793e-05  | 2.608954e-05  | 2.506218e-05  | 2.282087e-05  | 1.998753e-05  | 1.852011e-05  | 1.808097e-05  | 2.035640e-04  | \n",
       "| 1.975933e-05  |  2.501117e+00 | 2.362013e+00  | 2.137061e+00  | 1.893384e+00  | 1.475368e+00  | 1.175847e+00  | 8.771461e-01  |  0.6213725828 |  4.424562e-01 | ⋯             |  2.511698e-05 | 2.451945e-05  | 1.996073e-05  | 2.236196e-05  | 2.036029e-05  | 2.046806e-05  | 1.882367e-05  | 1.902275e-05  | 1.869219e-05  | 2.012513e-04  | \n",
       "| 2.027437e-05  |  2.315442e+00 | 2.304742e+00  | 2.064667e+00  | 1.880406e+00  | 1.492055e+00  | 1.212263e+00  | 8.709961e-01  |  0.6011242980 |  4.267501e-01 | ⋯             |  2.901447e-05 | 2.704914e-05  | 2.515835e-05  | 2.547341e-05  | 2.335144e-05  | 2.173358e-05  | 2.085251e-05  | 1.872218e-05  | 1.679972e-05  | 1.997394e-04  | \n",
       "| 2.009485e-05  |  2.505177e+00 | 2.553530e+00  | 2.309773e+00  | 2.134113e+00  | 1.710080e+00  | 1.424469e+00  | 1.050940e+00  |  0.7113249059 |  4.981711e-01 | ⋯             |  3.321741e-05 | 2.969148e-05  | 2.817810e-05  | 2.674173e-05  | 2.474344e-05  | 2.244945e-05  | 2.151570e-05  | 2.081765e-05  | 1.842146e-05  | 2.386303e-04  | \n",
       "| 1.712571e-05  |  2.209127e+00 | 2.280074e+00  | 2.105076e+00  | 1.920947e+00  | 1.574142e+00  | 1.335821e+00  | 1.023618e+00  |  0.6942419091 |  4.677700e-01 | ⋯             |  3.142930e-05 | 2.769171e-05  | 2.598966e-05  | 2.422141e-05  | 2.230959e-05  | 2.186068e-05  | 2.067218e-05  | 1.982897e-05  | 1.749984e-05  | 2.205062e-04  | \n",
       "| 1.603865e-05  |  1.949748e+00 | 2.025007e+00  | 1.880452e+00  | 1.750735e+00  | 1.439586e+00  | 1.240275e+00  | 9.593323e-01  |  0.6836009929 |  4.709398e-01 | ⋯             |  2.718477e-05 | 2.498739e-05  | 2.362663e-05  | 2.239265e-05  | 2.114562e-05  | 1.998474e-05  | 1.963882e-05  | 1.886157e-05  | 1.715684e-05  | 2.124605e-04  | \n",
       "| ⋮ | ⋮ | ⋮ | ⋮ | ⋮ | ⋮ | ⋮ | ⋮ | ⋮ | ⋮ | ⋱ | ⋮ | ⋮ | ⋮ | ⋮ | ⋮ | ⋮ | ⋮ | ⋮ | ⋮ | ⋮ | \n",
       "| 6.395929e-08  | -7.684698e-05 |  1.887702e-04 |  5.253343e-05 | 0.0002088837  | 0.0002720917  | 0.0002760960  | 7.131001e-05  | -6.442648e-05 | -1.438343e-04 | ⋯             | 3.820393e-08  | 3.806946e-08  | 3.241898e-08  | 1.469458e-08  | 2.732429e-08  | 2.479380e-08  | 2.791891e-08  | 1.583121e-08  | 1.578956e-08  | 2.197574e-07  | \n",
       "| 5.803411e-08  | -4.929825e-04 | -1.476059e-04 | -4.211335e-04 | 0.0002031129  | 0.0002002641  | 0.0002187502  | 1.805702e-05  | -6.547951e-06 | -6.467501e-05 | ⋯             | 4.536217e-08  | 4.939935e-08  | 3.583915e-08  | 1.616894e-08  | 1.934580e-08  | 1.930261e-08  | 3.082265e-08  | 1.645624e-08  | 1.760245e-08  | 1.615328e-07  | \n",
       "| 5.472715e-08  | -3.760163e-04 |  4.605365e-05 |  2.485596e-04 | 0.0004611061  | 0.0003965533  | 0.0003184675  | 9.238053e-05  |  4.576260e-05 | -5.238798e-05 | ⋯             | 4.516832e-08  | 4.791764e-08  | 4.387463e-08  | 3.423375e-08  | 4.208459e-08  | 3.588783e-08  | 3.495141e-08  | 2.474757e-08  | 1.969305e-08  | 1.135470e-07  | \n",
       "| 5.083828e-08  |  1.255201e-04 |  2.743554e-04 |  7.237425e-04 | 0.0008959008  | 0.0007528678  | 0.0007668917  | 3.750873e-04  |  2.253668e-04 |  1.111245e-04 | ⋯             | 3.822894e-08  | 3.662156e-08  | 3.415724e-08  | 3.289659e-08  | 1.887208e-08  | 1.789217e-08  | 3.268353e-08  | 2.265026e-08  | 1.737449e-08  | 1.989750e-07  | \n",
       "| 4.681912e-08  |  5.193178e-04 |  1.272673e-03 |  1.387771e-03 | 0.0014015226  | 0.0011000961  | 0.0009682927  | 5.879413e-04  |  4.132181e-04 |  2.481471e-04 | ⋯             | 3.203081e-08  | 2.346846e-08  | 2.114032e-08  | 3.152225e-08  | 2.757971e-08  | 2.523185e-08  | 2.646251e-08  | 2.303853e-08  | 2.294130e-08  | 1.765767e-07  | \n",
       "| 4.416935e-08  |  1.197064e-03 |  1.492863e-03 |  1.504756e-03 | 0.0012269844  | 0.0010073424  | 0.0008643569  | 5.053984e-04  |  3.747060e-04 |  2.071150e-04 | ⋯             | 4.275928e-08  | 3.239128e-08  | 2.592200e-08  | 3.080971e-08  | 2.392018e-08  | 1.837625e-08  | 1.564758e-08  | 1.324430e-08  | 7.571191e-09  | 1.522181e-07  | \n",
       "| 4.121190e-08  |  1.243531e-03 |  1.326981e-03 |  1.451430e-03 | 0.0014277101  | 0.0009809470  | 0.0008357251  | 5.419731e-04  |  3.420621e-04 |  2.459250e-04 | ⋯             | 4.098991e-08  | 3.787677e-08  | 3.670320e-08  | 3.404858e-08  | 1.867543e-08  | 2.027833e-08  | 1.602059e-08  | 8.266794e-09  | 6.223319e-09  | 1.514844e-07  | \n",
       "| 3.815075e-08  |  1.062101e-03 |  1.303340e-03 |  1.432156e-03 | 0.0013751960  | 0.0010066889  | 0.0008699548  | 6.129724e-04  |  4.007853e-04 |  2.664682e-04 | ⋯             | 3.096196e-08  | 2.781031e-08  | 2.179067e-08  | 3.326323e-08  | 2.279863e-08  | 2.165029e-08  | 1.584992e-08  | 9.975830e-09  | 8.749929e-09  | 1.532835e-07  | \n",
       "| 3.677277e-08  |  1.297197e-03 |  1.486011e-03 |  1.517508e-03 | 0.0013056085  | 0.0011006716  | 0.0009310756  | 6.479908e-04  |  4.142979e-04 |  2.547178e-04 | ⋯             | 2.801863e-08  | 3.066866e-08  | 2.582345e-08  | 2.695849e-08  | 2.218581e-08  | 2.353504e-08  | 2.041164e-08  | 1.494712e-08  | 1.403423e-08  | 1.486040e-07  | \n",
       "| 3.581356e-08  |  1.602288e-03 |  1.306275e-03 |  1.418326e-03 | 0.0011145650  | 0.0010986128  | 0.0009285281  | 6.756928e-04  |  4.401540e-04 |  2.864574e-04 | ⋯             | 3.356495e-08  | 3.467335e-08  | 2.645048e-08  | 2.840675e-08  | 2.436402e-08  | 2.612712e-08  | 2.443879e-08  | 2.235502e-08  | 1.726357e-08  | 1.589744e-07  | \n",
       "| 3.489538e-08  |  1.802047e-03 |  1.764886e-03 |  1.737303e-03 | 0.0015240348  | 0.0012660050  | 0.0010150538  | 7.363052e-04  |  4.874216e-04 |  2.949050e-04 | ⋯             | 3.514923e-08  | 3.832454e-08  | 2.484182e-08  | 2.487965e-08  | 2.651133e-08  | 2.681816e-08  | 2.431196e-08  | 2.625087e-08  | 1.874078e-08  | 1.752198e-07  | \n",
       "| 3.201997e-08  |  1.498143e-03 |  1.672384e-03 |  1.631642e-03 | 0.0012970717  | 0.0012082127  | 0.0009751935  | 6.863950e-04  |  4.636983e-04 |  2.896451e-04 | ⋯             | 3.530442e-08  | 3.754198e-08  | 2.305435e-08  | 2.789259e-08  | 2.236993e-08  | 2.428614e-08  | 2.072400e-08  | 2.145305e-08  | 1.497300e-08  | 1.336869e-07  | \n",
       "| 3.016676e-08  |  1.297348e-03 |  1.503090e-03 |  1.578419e-03 | 0.0012779709  | 0.0011016387  | 0.0008966320  | 6.921237e-04  |  4.723080e-04 |  2.884179e-04 | ⋯             | 3.590841e-08  | 3.544756e-08  | 2.303310e-08  | 2.582992e-08  | 2.287452e-08  | 2.225964e-08  | 2.264404e-08  | 2.403439e-08  | 1.476810e-08  | 1.395324e-07  | \n",
       "| 2.884615e-08  |  1.318811e-03 |  1.687378e-03 |  1.410829e-03 | 0.0014412270  | 0.0012073667  | 0.0009879513  | 7.399334e-04  |  4.870722e-04 |  3.132870e-04 | ⋯             | 4.109597e-08  | 3.599216e-08  | 2.895236e-08  | 2.153539e-08  | 1.913240e-08  | 2.093122e-08  | 2.044879e-08  | 2.072830e-08  | 1.422476e-08  | 1.616433e-07  | \n",
       "| 2.728057e-08  |  1.745963e-03 |  1.847875e-03 |  1.610829e-03 | 0.0015601041  | 0.0012055387  | 0.0010226895  | 7.223672e-04  |  4.712179e-04 |  2.991500e-04 | ⋯             | 5.008546e-08  | 3.642317e-08  | 3.202941e-08  | 2.367539e-08  | 2.060722e-08  | 2.218487e-08  | 1.665874e-08  | 2.043604e-08  | 1.565779e-08  | 1.279163e-07  | \n",
       "| 2.557900e-08  |  1.584731e-03 |  1.768853e-03 |  1.662430e-03 | 0.0016006000  | 0.0012064635  | 0.0009920504  | 7.379649e-04  |  4.770876e-04 |  2.905405e-04 | ⋯             | 4.999218e-08  | 4.301758e-08  | 3.429936e-08  | 2.541328e-08  | 2.263438e-08  | 2.091339e-08  | 1.759698e-08  | 1.952966e-08  | 1.576974e-08  | 1.319417e-07  | \n",
       "| 2.322474e-08  |  1.541730e-03 |  1.656641e-03 |  1.531767e-03 | 0.0015052683  | 0.0011560743  | 0.0009941767  | 7.067527e-04  |  4.738129e-04 |  2.928049e-04 | ⋯             | 5.331858e-08  | 4.339495e-08  | 3.803106e-08  | 2.896360e-08  | 2.587053e-08  | 2.388093e-08  | 2.092753e-08  | 2.324236e-08  | 1.700751e-08  | 1.478075e-07  | \n",
       "| 2.152793e-08  |  1.475633e-03 |  1.484532e-03 |  1.383829e-03 | 0.0013554167  | 0.0009983636  | 0.0008927922  | 6.375356e-04  |  4.207226e-04 |  2.668802e-04 | ⋯             | 6.050830e-08  | 4.739266e-08  | 3.832579e-08  | 3.092029e-08  | 2.153306e-08  | 1.956042e-08  | 2.081976e-08  | 1.808485e-08  | 1.601261e-08  | 1.362796e-07  | \n",
       "| 1.974061e-08  |  1.539793e-03 |  1.312468e-03 |  1.423284e-03 | 0.0013921831  | 0.0010840391  | 0.0009396705  | 6.697181e-04  |  4.517168e-04 |  2.731875e-04 | ⋯             | 6.307609e-08  | 4.829146e-08  | 4.225773e-08  | 3.069067e-08  | 2.753551e-08  | 2.398095e-08  | 2.214672e-08  | 2.110721e-08  | 1.984710e-08  | 1.492154e-07  | \n",
       "| 1.870327e-08  |  1.631428e-03 |  1.562785e-03 |  1.566750e-03 | 0.0014401151  | 0.0011126324  | 0.0009500160  | 6.660871e-04  |  4.426233e-04 |  2.613693e-04 | ⋯             | 7.070551e-08  | 5.579590e-08  | 4.801449e-08  | 3.802702e-08  | 3.148164e-08  | 3.064044e-08  | 2.837032e-08  | 2.643254e-08  | 2.270816e-08  | 1.616375e-07  | \n",
       "| 1.753261e-08  |  1.643372e-03 |  1.622131e-03 |  1.518677e-03 | 0.0012861552  | 0.0010464922  | 0.0008772307  | 6.367784e-04  |  4.131927e-04 |  2.476442e-04 | ⋯             | 1.203120e-07  | 6.961976e-08  | 5.482513e-08  | 4.691584e-08  | 3.577678e-08  | 3.337916e-08  | 3.032678e-08  | 2.952635e-08  | 2.211525e-08  | 1.548501e-07  | \n",
       "| 1.598199e-08  |  1.411434e-03 |  1.343668e-03 |  1.289900e-03 | 0.0011782548  | 0.0009624541  | 0.0008206896  | 5.734829e-04  |  4.027573e-04 |  2.401850e-04 | ⋯             | 6.961976e-08  | 9.811320e-08  | 5.425665e-08  | 5.161203e-08  | 3.893527e-08  | 3.778733e-08  | 3.271550e-08  | 2.873662e-08  | 2.477704e-08  | 1.461579e-07  | \n",
       "| 1.452841e-08  |  1.230247e-03 |  1.401028e-03 |  1.258744e-03 | 0.0011230423  | 0.0009351838  | 0.0008161501  | 5.792854e-04  |  3.916065e-04 |  2.255588e-04 | ⋯             | 5.482513e-08  | 5.425665e-08  | 9.225720e-08  | 5.333959e-08  | 4.735337e-08  | 3.853399e-08  | 3.402223e-08  | 3.085667e-08  | 2.604010e-08  | 1.691451e-07  | \n",
       "| 1.347941e-08  |  1.351061e-03 |  1.340622e-03 |  1.319524e-03 | 0.0010779193  | 0.0009124881  | 0.0007781784  | 5.568761e-04  |  3.645393e-04 |  2.176964e-04 | ⋯             | 4.691584e-08  | 5.161203e-08  | 5.333959e-08  | 8.432489e-08  | 4.909689e-08  | 4.111258e-08  | 3.623642e-08  | 3.088889e-08  | 2.678140e-08  | 1.664447e-07  | \n",
       "| 1.248933e-08  |  1.368307e-03 |  1.323887e-03 |  1.136040e-03 | 0.0010535864  | 0.0009107046  | 0.0007762073  | 5.559642e-04  |  3.784910e-04 |  2.354050e-04 | ⋯             | 3.577678e-08  | 3.893527e-08  | 4.735337e-08  | 4.909689e-08  | 8.342046e-08  | 4.684967e-08  | 3.878105e-08  | 3.442671e-08  | 2.928046e-08  | 1.790978e-07  | \n",
       "| 1.151038e-08  |  1.166616e-03 |  1.084602e-03 |  1.097766e-03 | 0.0009582036  | 0.0008235563  | 0.0007271639  | 5.259758e-04  |  3.664239e-04 |  2.113524e-04 | ⋯             | 3.337916e-08  | 3.778733e-08  | 3.853399e-08  | 4.111258e-08  | 4.684967e-08  | 7.310796e-08  | 4.266893e-08  | 3.648263e-08  | 3.085436e-08  | 1.702914e-07  | \n",
       "| 1.129977e-08  |  1.107459e-03 |  1.128580e-03 |  1.121256e-03 | 0.0009346416  | 0.0008148510  | 0.0007077437  | 5.113871e-04  |  3.681941e-04 |  2.130347e-04 | ⋯             | 3.032678e-08  | 3.271550e-08  | 3.402223e-08  | 3.623642e-08  | 3.878105e-08  | 4.266893e-08  | 6.721647e-08  | 3.800654e-08  | 3.174702e-08  | 1.783696e-07  | \n",
       "| 1.048359e-08  |  1.150946e-03 |  1.181254e-03 |  1.123621e-03 | 0.0009643649  | 0.0008347885  | 0.0007315960  | 5.512032e-04  |  3.806782e-04 |  2.281668e-04 | ⋯             | 2.952635e-08  | 2.873662e-08  | 3.085667e-08  | 3.088889e-08  | 3.442671e-08  | 3.648263e-08  | 3.800654e-08  | 6.205155e-08  | 3.552153e-08  | 1.970538e-07  | \n",
       "| 9.340719e-09  |  1.066858e-03 |  1.030763e-03 |  1.051466e-03 | 0.0009120713  | 0.0008028971  | 0.0006570250  | 5.092103e-04  |  3.681508e-04 |  2.224019e-04 | ⋯             | 2.211525e-08  | 2.477704e-08  | 2.604010e-08  | 2.678140e-08  | 2.928046e-08  | 3.085436e-08  | 3.174702e-08  | 3.552153e-08  | 5.502192e-08  | 2.026459e-07  | \n",
       "| 1.003631e-07  |  1.525192e-02 |  1.554507e-02 |  1.408232e-02 | 0.0129806065  | 0.0110806490  | 0.0093263223  | 7.608780e-03  |  5.617174e-03 |  3.831436e-03 | ⋯             | 1.548501e-07  | 1.461579e-07  | 1.691451e-07  | 1.664447e-07  | 1.790978e-07  | 1.702914e-07  | 1.783696e-07  | 1.970538e-07  | 2.026459e-07  | 3.576750e-06  | \n",
       "\n",
       "\n"
      ],
      "text/plain": [
       "      [,1]         [,2]          [,3]          [,4]          [,5]        \n",
       " [1,] 2.094186e-08  8.054374e-05 2.425617e-04  3.042403e-04  3.407521e-04\n",
       " [2,] 8.054374e-05  3.984999e+02 2.307566e+02  1.952640e+02  1.698144e+02\n",
       " [3,] 2.425617e-04  2.307566e+02 2.798185e+02  1.921281e+02  1.636964e+02\n",
       " [4,] 3.042403e-04  1.952640e+02 1.921281e+02  1.952796e+02  1.478543e+02\n",
       " [5,] 3.407521e-04  1.698144e+02 1.636964e+02  1.478543e+02  1.471845e+02\n",
       " [6,] 2.909748e-04  1.335883e+02 1.300324e+02  1.162338e+02  1.076718e+02\n",
       " [7,] 2.692553e-04  1.085157e+02 1.064929e+02  9.539530e+01  8.918098e+01\n",
       " [8,] 1.915049e-04  8.076387e+01 8.165229e+01  7.439334e+01  6.867834e+01\n",
       " [9,] 1.194458e-04  5.970946e+01 5.880178e+01  5.372046e+01  4.983412e+01\n",
       "[10,] 6.273969e-05  4.397496e+01 4.341030e+01  3.963870e+01  3.724072e+01\n",
       "[11,] 4.009914e-05  2.929358e+01 2.916159e+01  2.683663e+01  2.504164e+01\n",
       "[12,] 2.125393e-05  1.823799e+01 1.772339e+01  1.686732e+01  1.542997e+01\n",
       "[13,] 3.626806e-05  1.317520e+01 1.262170e+01  1.241765e+01  1.141276e+01\n",
       "[14,] 5.072638e-05  1.124653e+01 1.077195e+01  1.095978e+01  1.000569e+01\n",
       "[15,] 7.306231e-05  9.886351e+00 9.685083e+00  9.881592e+00  8.986443e+00\n",
       "[16,] 9.961170e-05  9.278838e+00 9.450621e+00  9.726658e+00  8.783237e+00\n",
       "[17,] 1.269140e-04  7.678168e+00 7.935923e+00  8.181731e+00  7.600116e+00\n",
       "[18,] 1.478287e-04  4.457239e+00 5.069039e+00  5.525933e+00  5.334468e+00\n",
       "[19,] 1.639171e-04  3.470990e+00 4.655445e+00  5.185819e+00  5.371392e+00\n",
       "[20,] 1.271804e-04  8.693647e-01 2.230682e+00  2.967309e+00  3.440354e+00\n",
       "[21,] 1.811116e-05 -2.217757e-01 2.032696e-01  3.937013e-01  3.043530e-01\n",
       "[22,] 1.658262e-05  7.683550e-01 3.562504e-01  5.423726e-01  3.508054e-01\n",
       "[23,] 2.132125e-05  1.496767e+00 1.016416e+00  8.493591e-01  8.119670e-01\n",
       "[24,] 2.431435e-05  2.552528e+00 2.214697e+00  1.935973e+00  1.659613e+00\n",
       "[25,] 2.283557e-05  2.660527e+00 2.480421e+00  2.123436e+00  1.893950e+00\n",
       "[26,] 1.975933e-05  2.501117e+00 2.362013e+00  2.137061e+00  1.893384e+00\n",
       "[27,] 2.027437e-05  2.315442e+00 2.304742e+00  2.064667e+00  1.880406e+00\n",
       "[28,] 2.009485e-05  2.505177e+00 2.553530e+00  2.309773e+00  2.134113e+00\n",
       "[29,] 1.712571e-05  2.209127e+00 2.280074e+00  2.105076e+00  1.920947e+00\n",
       "[30,] 1.603865e-05  1.949748e+00 2.025007e+00  1.880452e+00  1.750735e+00\n",
       "[31,] ⋮            ⋮             ⋮             ⋮             ⋮           \n",
       "[32,] 6.395929e-08 -7.684698e-05  1.887702e-04  5.253343e-05 0.0002088837\n",
       "[33,] 5.803411e-08 -4.929825e-04 -1.476059e-04 -4.211335e-04 0.0002031129\n",
       "[34,] 5.472715e-08 -3.760163e-04  4.605365e-05  2.485596e-04 0.0004611061\n",
       "[35,] 5.083828e-08  1.255201e-04  2.743554e-04  7.237425e-04 0.0008959008\n",
       "[36,] 4.681912e-08  5.193178e-04  1.272673e-03  1.387771e-03 0.0014015226\n",
       "[37,] 4.416935e-08  1.197064e-03  1.492863e-03  1.504756e-03 0.0012269844\n",
       "[38,] 4.121190e-08  1.243531e-03  1.326981e-03  1.451430e-03 0.0014277101\n",
       "[39,] 3.815075e-08  1.062101e-03  1.303340e-03  1.432156e-03 0.0013751960\n",
       "[40,] 3.677277e-08  1.297197e-03  1.486011e-03  1.517508e-03 0.0013056085\n",
       "[41,] 3.581356e-08  1.602288e-03  1.306275e-03  1.418326e-03 0.0011145650\n",
       "[42,] 3.489538e-08  1.802047e-03  1.764886e-03  1.737303e-03 0.0015240348\n",
       "[43,] 3.201997e-08  1.498143e-03  1.672384e-03  1.631642e-03 0.0012970717\n",
       "[44,] 3.016676e-08  1.297348e-03  1.503090e-03  1.578419e-03 0.0012779709\n",
       "[45,] 2.884615e-08  1.318811e-03  1.687378e-03  1.410829e-03 0.0014412270\n",
       "[46,] 2.728057e-08  1.745963e-03  1.847875e-03  1.610829e-03 0.0015601041\n",
       "[47,] 2.557900e-08  1.584731e-03  1.768853e-03  1.662430e-03 0.0016006000\n",
       "[48,] 2.322474e-08  1.541730e-03  1.656641e-03  1.531767e-03 0.0015052683\n",
       "[49,] 2.152793e-08  1.475633e-03  1.484532e-03  1.383829e-03 0.0013554167\n",
       "[50,] 1.974061e-08  1.539793e-03  1.312468e-03  1.423284e-03 0.0013921831\n",
       "[51,] 1.870327e-08  1.631428e-03  1.562785e-03  1.566750e-03 0.0014401151\n",
       "[52,] 1.753261e-08  1.643372e-03  1.622131e-03  1.518677e-03 0.0012861552\n",
       "[53,] 1.598199e-08  1.411434e-03  1.343668e-03  1.289900e-03 0.0011782548\n",
       "[54,] 1.452841e-08  1.230247e-03  1.401028e-03  1.258744e-03 0.0011230423\n",
       "[55,] 1.347941e-08  1.351061e-03  1.340622e-03  1.319524e-03 0.0010779193\n",
       "[56,] 1.248933e-08  1.368307e-03  1.323887e-03  1.136040e-03 0.0010535864\n",
       "[57,] 1.151038e-08  1.166616e-03  1.084602e-03  1.097766e-03 0.0009582036\n",
       "[58,] 1.129977e-08  1.107459e-03  1.128580e-03  1.121256e-03 0.0009346416\n",
       "[59,] 1.048359e-08  1.150946e-03  1.181254e-03  1.123621e-03 0.0009643649\n",
       "[60,] 9.340719e-09  1.066858e-03  1.030763e-03  1.051466e-03 0.0009120713\n",
       "[61,] 1.003631e-07  1.525192e-02  1.554507e-02  1.408232e-02 0.0129806065\n",
       "      [,6]         [,7]         [,8]         [,9]          [,10]         [,11]\n",
       " [1,] 2.909748e-04 2.692553e-04 1.915049e-04  0.0001194458  6.273969e-05 ⋯    \n",
       " [2,] 1.335883e+02 1.085157e+02 8.076387e+01 59.7094609748  4.397496e+01 ⋯    \n",
       " [3,] 1.300324e+02 1.064929e+02 8.165229e+01 58.8017762969  4.341030e+01 ⋯    \n",
       " [4,] 1.162338e+02 9.539530e+01 7.439334e+01 53.7204613987  3.963870e+01 ⋯    \n",
       " [5,] 1.076718e+02 8.918098e+01 6.867834e+01 49.8341211951  3.724072e+01 ⋯    \n",
       " [6,] 9.497288e+01 7.468218e+01 5.839313e+01 42.8675164196  3.197261e+01 ⋯    \n",
       " [7,] 7.468218e+01 6.726854e+01 5.124751e+01 37.8441170420  2.840175e+01 ⋯    \n",
       " [8,] 5.839313e+01 5.124751e+01 4.399169e+01 32.5285159523  2.478179e+01 ⋯    \n",
       " [9,] 4.286752e+01 3.784412e+01 3.252852e+01 26.7226262560  2.045565e+01 ⋯    \n",
       "[10,] 3.197261e+01 2.840175e+01 2.478179e+01 20.4556513034  1.726842e+01 ⋯    \n",
       "[11,] 2.151649e+01 1.917335e+01 1.696404e+01 14.0328748478  1.180747e+01 ⋯    \n",
       "[12,] 1.328676e+01 1.199934e+01 1.063261e+01  8.9325093479  7.602291e+00 ⋯    \n",
       "[13,] 9.927788e+00 9.051215e+00 7.992450e+00  6.7671030656  5.832446e+00 ⋯    \n",
       "[14,] 8.786961e+00 7.995401e+00 7.009681e+00  5.9363413432  5.074724e+00 ⋯    \n",
       "[15,] 7.949477e+00 7.158469e+00 6.167955e+00  5.1453593500  4.319885e+00 ⋯    \n",
       "[16,] 7.704121e+00 6.939403e+00 5.797494e+00  4.6885317495  3.815760e+00 ⋯    \n",
       "[17,] 6.767309e+00 6.261054e+00 5.031142e+00  3.9362983468  3.118630e+00 ⋯    \n",
       "[18,] 4.832571e+00 4.582959e+00 3.498067e+00  2.5978691532  1.975968e+00 ⋯    \n",
       "[19,] 4.549197e+00 4.542381e+00 3.349987e+00  2.2954394969  1.651497e+00 ⋯    \n",
       "[20,] 2.598259e+00 2.886811e+00 2.161731e+00  1.4867094098  1.098722e+00 ⋯    \n",
       "[21,] 2.375572e-01 2.413546e-01 1.898004e-02 -0.1494711682 -1.771572e-01 ⋯    \n",
       "[22,] 2.391173e-01 2.567328e-01 2.918547e-01  0.1657334618  1.437811e-01 ⋯    \n",
       "[23,] 6.552966e-01 4.645826e-01 3.157348e-01  0.1810054900  1.077691e-01 ⋯    \n",
       "[24,] 1.307587e+00 1.101607e+00 7.880405e-01  0.5567521140  3.559872e-01 ⋯    \n",
       "[25,] 1.445067e+00 1.187486e+00 8.834877e-01  0.6208869257  4.437785e-01 ⋯    \n",
       "[26,] 1.475368e+00 1.175847e+00 8.771461e-01  0.6213725828  4.424562e-01 ⋯    \n",
       "[27,] 1.492055e+00 1.212263e+00 8.709961e-01  0.6011242980  4.267501e-01 ⋯    \n",
       "[28,] 1.710080e+00 1.424469e+00 1.050940e+00  0.7113249059  4.981711e-01 ⋯    \n",
       "[29,] 1.574142e+00 1.335821e+00 1.023618e+00  0.6942419091  4.677700e-01 ⋯    \n",
       "[30,] 1.439586e+00 1.240275e+00 9.593323e-01  0.6836009929  4.709398e-01 ⋯    \n",
       "[31,] ⋮            ⋮            ⋮            ⋮             ⋮             ⋱    \n",
       "[32,] 0.0002720917 0.0002760960 7.131001e-05 -6.442648e-05 -1.438343e-04 ⋯    \n",
       "[33,] 0.0002002641 0.0002187502 1.805702e-05 -6.547951e-06 -6.467501e-05 ⋯    \n",
       "[34,] 0.0003965533 0.0003184675 9.238053e-05  4.576260e-05 -5.238798e-05 ⋯    \n",
       "[35,] 0.0007528678 0.0007668917 3.750873e-04  2.253668e-04  1.111245e-04 ⋯    \n",
       "[36,] 0.0011000961 0.0009682927 5.879413e-04  4.132181e-04  2.481471e-04 ⋯    \n",
       "[37,] 0.0010073424 0.0008643569 5.053984e-04  3.747060e-04  2.071150e-04 ⋯    \n",
       "[38,] 0.0009809470 0.0008357251 5.419731e-04  3.420621e-04  2.459250e-04 ⋯    \n",
       "[39,] 0.0010066889 0.0008699548 6.129724e-04  4.007853e-04  2.664682e-04 ⋯    \n",
       "[40,] 0.0011006716 0.0009310756 6.479908e-04  4.142979e-04  2.547178e-04 ⋯    \n",
       "[41,] 0.0010986128 0.0009285281 6.756928e-04  4.401540e-04  2.864574e-04 ⋯    \n",
       "[42,] 0.0012660050 0.0010150538 7.363052e-04  4.874216e-04  2.949050e-04 ⋯    \n",
       "[43,] 0.0012082127 0.0009751935 6.863950e-04  4.636983e-04  2.896451e-04 ⋯    \n",
       "[44,] 0.0011016387 0.0008966320 6.921237e-04  4.723080e-04  2.884179e-04 ⋯    \n",
       "[45,] 0.0012073667 0.0009879513 7.399334e-04  4.870722e-04  3.132870e-04 ⋯    \n",
       "[46,] 0.0012055387 0.0010226895 7.223672e-04  4.712179e-04  2.991500e-04 ⋯    \n",
       "[47,] 0.0012064635 0.0009920504 7.379649e-04  4.770876e-04  2.905405e-04 ⋯    \n",
       "[48,] 0.0011560743 0.0009941767 7.067527e-04  4.738129e-04  2.928049e-04 ⋯    \n",
       "[49,] 0.0009983636 0.0008927922 6.375356e-04  4.207226e-04  2.668802e-04 ⋯    \n",
       "[50,] 0.0010840391 0.0009396705 6.697181e-04  4.517168e-04  2.731875e-04 ⋯    \n",
       "[51,] 0.0011126324 0.0009500160 6.660871e-04  4.426233e-04  2.613693e-04 ⋯    \n",
       "[52,] 0.0010464922 0.0008772307 6.367784e-04  4.131927e-04  2.476442e-04 ⋯    \n",
       "[53,] 0.0009624541 0.0008206896 5.734829e-04  4.027573e-04  2.401850e-04 ⋯    \n",
       "[54,] 0.0009351838 0.0008161501 5.792854e-04  3.916065e-04  2.255588e-04 ⋯    \n",
       "[55,] 0.0009124881 0.0007781784 5.568761e-04  3.645393e-04  2.176964e-04 ⋯    \n",
       "[56,] 0.0009107046 0.0007762073 5.559642e-04  3.784910e-04  2.354050e-04 ⋯    \n",
       "[57,] 0.0008235563 0.0007271639 5.259758e-04  3.664239e-04  2.113524e-04 ⋯    \n",
       "[58,] 0.0008148510 0.0007077437 5.113871e-04  3.681941e-04  2.130347e-04 ⋯    \n",
       "[59,] 0.0008347885 0.0007315960 5.512032e-04  3.806782e-04  2.281668e-04 ⋯    \n",
       "[60,] 0.0008028971 0.0006570250 5.092103e-04  3.681508e-04  2.224019e-04 ⋯    \n",
       "[61,] 0.0110806490 0.0093263223 7.608780e-03  5.617174e-03  3.831436e-03 ⋯    \n",
       "      [,12]         [,13]        [,14]        [,15]        [,16]       \n",
       " [1,]  1.753261e-08 1.598199e-08 1.452841e-08 1.347941e-08 1.248933e-08\n",
       " [2,]  1.643372e-03 1.411434e-03 1.230247e-03 1.351061e-03 1.368307e-03\n",
       " [3,]  1.622131e-03 1.343668e-03 1.401028e-03 1.340622e-03 1.323887e-03\n",
       " [4,]  1.518677e-03 1.289900e-03 1.258744e-03 1.319524e-03 1.136040e-03\n",
       " [5,]  1.286155e-03 1.178255e-03 1.123042e-03 1.077919e-03 1.053586e-03\n",
       " [6,]  1.046492e-03 9.624541e-04 9.351838e-04 9.124881e-04 9.107046e-04\n",
       " [7,]  8.772307e-04 8.206896e-04 8.161501e-04 7.781784e-04 7.762073e-04\n",
       " [8,]  6.367784e-04 5.734829e-04 5.792854e-04 5.568761e-04 5.559642e-04\n",
       " [9,]  4.131927e-04 4.027573e-04 3.916065e-04 3.645393e-04 3.784910e-04\n",
       "[10,]  2.476442e-04 2.401850e-04 2.255588e-04 2.176964e-04 2.354050e-04\n",
       "[11,]  1.937272e-04 1.810281e-04 1.746550e-04 1.621895e-04 1.719948e-04\n",
       "[12,]  1.529911e-04 1.401149e-04 1.279918e-04 1.227778e-04 1.163884e-04\n",
       "[13,]  1.311444e-04 1.184067e-04 1.138581e-04 1.039512e-04 9.257685e-05\n",
       "[14,]  1.269155e-04 1.176981e-04 1.118114e-04 1.032678e-04 9.480391e-05\n",
       "[15,]  1.446785e-04 1.315514e-04 1.208077e-04 1.171902e-04 1.070740e-04\n",
       "[16,]  1.729135e-04 1.569734e-04 1.418018e-04 1.354145e-04 1.217700e-04\n",
       "[17,]  1.796737e-04 1.622766e-04 1.464737e-04 1.393691e-04 1.261435e-04\n",
       "[18,]  1.802990e-04 1.613212e-04 1.465725e-04 1.376179e-04 1.246748e-04\n",
       "[19,]  1.790907e-04 1.592671e-04 1.467240e-04 1.346957e-04 1.221428e-04\n",
       "[20,]  1.149666e-04 1.038343e-04 9.861966e-05 8.927241e-05 8.038533e-05\n",
       "[21,] -2.757660e-06 6.332832e-07 1.629490e-06 2.525441e-06 1.245572e-05\n",
       "[22,]  8.671858e-06 5.015252e-06 5.667762e-06 9.144842e-06 1.361932e-05\n",
       "[23,]  1.684442e-05 1.437062e-05 1.063997e-05 1.495170e-05 1.468050e-05\n",
       "[24,]  2.879162e-05 3.291828e-05 2.591524e-05 2.683806e-05 2.717578e-05\n",
       "[25,]  3.314755e-05 2.940468e-05 2.527793e-05 2.608954e-05 2.506218e-05\n",
       "[26,]  2.511698e-05 2.451945e-05 1.996073e-05 2.236196e-05 2.036029e-05\n",
       "[27,]  2.901447e-05 2.704914e-05 2.515835e-05 2.547341e-05 2.335144e-05\n",
       "[28,]  3.321741e-05 2.969148e-05 2.817810e-05 2.674173e-05 2.474344e-05\n",
       "[29,]  3.142930e-05 2.769171e-05 2.598966e-05 2.422141e-05 2.230959e-05\n",
       "[30,]  2.718477e-05 2.498739e-05 2.362663e-05 2.239265e-05 2.114562e-05\n",
       "[31,] ⋮             ⋮            ⋮            ⋮            ⋮           \n",
       "[32,] 3.820393e-08  3.806946e-08 3.241898e-08 1.469458e-08 2.732429e-08\n",
       "[33,] 4.536217e-08  4.939935e-08 3.583915e-08 1.616894e-08 1.934580e-08\n",
       "[34,] 4.516832e-08  4.791764e-08 4.387463e-08 3.423375e-08 4.208459e-08\n",
       "[35,] 3.822894e-08  3.662156e-08 3.415724e-08 3.289659e-08 1.887208e-08\n",
       "[36,] 3.203081e-08  2.346846e-08 2.114032e-08 3.152225e-08 2.757971e-08\n",
       "[37,] 4.275928e-08  3.239128e-08 2.592200e-08 3.080971e-08 2.392018e-08\n",
       "[38,] 4.098991e-08  3.787677e-08 3.670320e-08 3.404858e-08 1.867543e-08\n",
       "[39,] 3.096196e-08  2.781031e-08 2.179067e-08 3.326323e-08 2.279863e-08\n",
       "[40,] 2.801863e-08  3.066866e-08 2.582345e-08 2.695849e-08 2.218581e-08\n",
       "[41,] 3.356495e-08  3.467335e-08 2.645048e-08 2.840675e-08 2.436402e-08\n",
       "[42,] 3.514923e-08  3.832454e-08 2.484182e-08 2.487965e-08 2.651133e-08\n",
       "[43,] 3.530442e-08  3.754198e-08 2.305435e-08 2.789259e-08 2.236993e-08\n",
       "[44,] 3.590841e-08  3.544756e-08 2.303310e-08 2.582992e-08 2.287452e-08\n",
       "[45,] 4.109597e-08  3.599216e-08 2.895236e-08 2.153539e-08 1.913240e-08\n",
       "[46,] 5.008546e-08  3.642317e-08 3.202941e-08 2.367539e-08 2.060722e-08\n",
       "[47,] 4.999218e-08  4.301758e-08 3.429936e-08 2.541328e-08 2.263438e-08\n",
       "[48,] 5.331858e-08  4.339495e-08 3.803106e-08 2.896360e-08 2.587053e-08\n",
       "[49,] 6.050830e-08  4.739266e-08 3.832579e-08 3.092029e-08 2.153306e-08\n",
       "[50,] 6.307609e-08  4.829146e-08 4.225773e-08 3.069067e-08 2.753551e-08\n",
       "[51,] 7.070551e-08  5.579590e-08 4.801449e-08 3.802702e-08 3.148164e-08\n",
       "[52,] 1.203120e-07  6.961976e-08 5.482513e-08 4.691584e-08 3.577678e-08\n",
       "[53,] 6.961976e-08  9.811320e-08 5.425665e-08 5.161203e-08 3.893527e-08\n",
       "[54,] 5.482513e-08  5.425665e-08 9.225720e-08 5.333959e-08 4.735337e-08\n",
       "[55,] 4.691584e-08  5.161203e-08 5.333959e-08 8.432489e-08 4.909689e-08\n",
       "[56,] 3.577678e-08  3.893527e-08 4.735337e-08 4.909689e-08 8.342046e-08\n",
       "[57,] 3.337916e-08  3.778733e-08 3.853399e-08 4.111258e-08 4.684967e-08\n",
       "[58,] 3.032678e-08  3.271550e-08 3.402223e-08 3.623642e-08 3.878105e-08\n",
       "[59,] 2.952635e-08  2.873662e-08 3.085667e-08 3.088889e-08 3.442671e-08\n",
       "[60,] 2.211525e-08  2.477704e-08 2.604010e-08 2.678140e-08 2.928046e-08\n",
       "[61,] 1.548501e-07  1.461579e-07 1.691451e-07 1.664447e-07 1.790978e-07\n",
       "      [,17]        [,18]        [,19]        [,20]        [,21]       \n",
       " [1,] 1.151038e-08 1.129977e-08 1.048359e-08 9.340719e-09 1.003631e-07\n",
       " [2,] 1.166616e-03 1.107459e-03 1.150946e-03 1.066858e-03 1.525192e-02\n",
       " [3,] 1.084602e-03 1.128580e-03 1.181254e-03 1.030763e-03 1.554507e-02\n",
       " [4,] 1.097766e-03 1.121256e-03 1.123621e-03 1.051466e-03 1.408232e-02\n",
       " [5,] 9.582036e-04 9.346416e-04 9.643649e-04 9.120713e-04 1.298061e-02\n",
       " [6,] 8.235563e-04 8.148510e-04 8.347885e-04 8.028971e-04 1.108065e-02\n",
       " [7,] 7.271639e-04 7.077437e-04 7.315960e-04 6.570250e-04 9.326322e-03\n",
       " [8,] 5.259758e-04 5.113871e-04 5.512032e-04 5.092103e-04 7.608780e-03\n",
       " [9,] 3.664239e-04 3.681941e-04 3.806782e-04 3.681508e-04 5.617174e-03\n",
       "[10,] 2.113524e-04 2.130347e-04 2.281668e-04 2.224019e-04 3.831436e-03\n",
       "[11,] 1.576895e-04 1.567250e-04 1.645988e-04 1.529122e-04 2.678448e-03\n",
       "[12,] 1.115993e-04 1.158525e-04 1.192602e-04 1.134287e-04 1.667012e-03\n",
       "[13,] 9.547703e-05 9.556259e-05 9.642965e-05 8.830357e-05 1.128322e-03\n",
       "[14,] 9.301466e-05 9.488647e-05 9.202360e-05 8.553772e-05 1.032163e-03\n",
       "[15,] 1.040038e-04 1.020155e-04 9.873221e-05 8.892507e-05 1.077229e-03\n",
       "[16,] 1.169317e-04 1.127615e-04 1.063171e-04 9.519097e-05 1.085567e-03\n",
       "[17,] 1.181224e-04 1.101082e-04 1.032518e-04 9.092084e-05 8.844278e-04\n",
       "[18,] 1.152196e-04 1.065630e-04 9.679726e-05 8.699881e-05 7.231364e-04\n",
       "[19,] 1.098294e-04 9.891641e-05 9.027674e-05 8.051637e-05 6.790397e-04\n",
       "[20,] 7.193951e-05 6.406280e-05 5.948671e-05 5.291894e-05 4.731576e-04\n",
       "[21,] 8.531910e-06 3.469939e-06 5.875824e-06 4.104205e-06 9.308874e-05\n",
       "[22,] 1.079479e-05 1.192006e-05 7.702934e-06 1.053209e-05 7.197691e-05\n",
       "[23,] 1.885590e-05 1.320995e-05 1.496119e-05 1.483464e-05 1.522400e-04\n",
       "[24,] 2.625611e-05 2.303800e-05 2.161686e-05 1.951981e-05 2.192996e-04\n",
       "[25,] 2.282087e-05 1.998753e-05 1.852011e-05 1.808097e-05 2.035640e-04\n",
       "[26,] 2.046806e-05 1.882367e-05 1.902275e-05 1.869219e-05 2.012513e-04\n",
       "[27,] 2.173358e-05 2.085251e-05 1.872218e-05 1.679972e-05 1.997394e-04\n",
       "[28,] 2.244945e-05 2.151570e-05 2.081765e-05 1.842146e-05 2.386303e-04\n",
       "[29,] 2.186068e-05 2.067218e-05 1.982897e-05 1.749984e-05 2.205062e-04\n",
       "[30,] 1.998474e-05 1.963882e-05 1.886157e-05 1.715684e-05 2.124605e-04\n",
       "[31,] ⋮            ⋮            ⋮            ⋮            ⋮           \n",
       "[32,] 2.479380e-08 2.791891e-08 1.583121e-08 1.578956e-08 2.197574e-07\n",
       "[33,] 1.930261e-08 3.082265e-08 1.645624e-08 1.760245e-08 1.615328e-07\n",
       "[34,] 3.588783e-08 3.495141e-08 2.474757e-08 1.969305e-08 1.135470e-07\n",
       "[35,] 1.789217e-08 3.268353e-08 2.265026e-08 1.737449e-08 1.989750e-07\n",
       "[36,] 2.523185e-08 2.646251e-08 2.303853e-08 2.294130e-08 1.765767e-07\n",
       "[37,] 1.837625e-08 1.564758e-08 1.324430e-08 7.571191e-09 1.522181e-07\n",
       "[38,] 2.027833e-08 1.602059e-08 8.266794e-09 6.223319e-09 1.514844e-07\n",
       "[39,] 2.165029e-08 1.584992e-08 9.975830e-09 8.749929e-09 1.532835e-07\n",
       "[40,] 2.353504e-08 2.041164e-08 1.494712e-08 1.403423e-08 1.486040e-07\n",
       "[41,] 2.612712e-08 2.443879e-08 2.235502e-08 1.726357e-08 1.589744e-07\n",
       "[42,] 2.681816e-08 2.431196e-08 2.625087e-08 1.874078e-08 1.752198e-07\n",
       "[43,] 2.428614e-08 2.072400e-08 2.145305e-08 1.497300e-08 1.336869e-07\n",
       "[44,] 2.225964e-08 2.264404e-08 2.403439e-08 1.476810e-08 1.395324e-07\n",
       "[45,] 2.093122e-08 2.044879e-08 2.072830e-08 1.422476e-08 1.616433e-07\n",
       "[46,] 2.218487e-08 1.665874e-08 2.043604e-08 1.565779e-08 1.279163e-07\n",
       "[47,] 2.091339e-08 1.759698e-08 1.952966e-08 1.576974e-08 1.319417e-07\n",
       "[48,] 2.388093e-08 2.092753e-08 2.324236e-08 1.700751e-08 1.478075e-07\n",
       "[49,] 1.956042e-08 2.081976e-08 1.808485e-08 1.601261e-08 1.362796e-07\n",
       "[50,] 2.398095e-08 2.214672e-08 2.110721e-08 1.984710e-08 1.492154e-07\n",
       "[51,] 3.064044e-08 2.837032e-08 2.643254e-08 2.270816e-08 1.616375e-07\n",
       "[52,] 3.337916e-08 3.032678e-08 2.952635e-08 2.211525e-08 1.548501e-07\n",
       "[53,] 3.778733e-08 3.271550e-08 2.873662e-08 2.477704e-08 1.461579e-07\n",
       "[54,] 3.853399e-08 3.402223e-08 3.085667e-08 2.604010e-08 1.691451e-07\n",
       "[55,] 4.111258e-08 3.623642e-08 3.088889e-08 2.678140e-08 1.664447e-07\n",
       "[56,] 4.684967e-08 3.878105e-08 3.442671e-08 2.928046e-08 1.790978e-07\n",
       "[57,] 7.310796e-08 4.266893e-08 3.648263e-08 3.085436e-08 1.702914e-07\n",
       "[58,] 4.266893e-08 6.721647e-08 3.800654e-08 3.174702e-08 1.783696e-07\n",
       "[59,] 3.648263e-08 3.800654e-08 6.205155e-08 3.552153e-08 1.970538e-07\n",
       "[60,] 3.085436e-08 3.174702e-08 3.552153e-08 5.502192e-08 2.026459e-07\n",
       "[61,] 1.702914e-07 1.783696e-07 1.970538e-07 2.026459e-07 3.576750e-06"
      ]
     },
     "metadata": {},
     "output_type": "display_data"
    }
   ],
   "source": [
    "cov_tot"
   ]
  },
  {
   "cell_type": "code",
   "execution_count": 12,
   "metadata": {
    "collapsed": true
   },
   "outputs": [],
   "source": [
    "calc_fisher <- function(dfdp, covtot){\n",
    "    fmatrix = matrix(0,nrow=7,ncol=7)\n",
    "    for (i in seq(7)){\n",
    "        for (j in seq(7)){\n",
    "            fmatrix[i,j] = ((dfdp[i,] %*% solve(covtot)) %*% dfdp[j,])\n",
    "        }\n",
    "    }\n",
    "    fmatrix\n",
    "}"
   ]
  },
  {
   "cell_type": "code",
   "execution_count": 13,
   "metadata": {
    "collapsed": true
   },
   "outputs": [],
   "source": [
    "calc_1sigma <- function(fisher){\n",
    "    one_sigma = array(0,7)\n",
    "    for (i in seq(7)){\n",
    "        one_sigma[i] <- sqrt(solve(fisher)[i,i])\n",
    "    }\n",
    "    one_sigma\n",
    "}"
   ]
  },
  {
   "cell_type": "code",
   "execution_count": 14,
   "metadata": {
    "collapsed": false
   },
   "outputs": [],
   "source": [
    "fisher_97 <- calc_fisher(dfdp_97,cov_tot)\n",
    "fisher_250 <- calc_fisher(dfdp_250,cov_tot)\n",
    "fisher_455 <- calc_fisher(dfdp_455,cov_tot)\n",
    "fisher_904 <- calc_fisher(dfdp_904,cov_tot)\n",
    "fisher_63 <- calc_fisher(dfdp_63,cov_tot)"
   ]
  },
  {
   "cell_type": "code",
   "execution_count": 15,
   "metadata": {
    "collapsed": true
   },
   "outputs": [],
   "source": [
    "one_sigma_97 <- calc_1sigma(fisher_97)\n",
    "one_sigma_250 <- calc_1sigma(fisher_250)\n",
    "one_sigma_455 <- calc_1sigma(fisher_455)\n",
    "one_sigma_904 <- calc_1sigma(fisher_904)\n",
    "one_sigma_63 <- calc_1sigma(fisher_63)"
   ]
  },
  {
   "cell_type": "code",
   "execution_count": 16,
   "metadata": {
    "collapsed": false
   },
   "outputs": [],
   "source": [
    "dfdp_mean <- apply(simplify2array(list(dfdp_97,dfdp_250,dfdp_455,dfdp_904,dfdp_63)),c(1,2),mean)\n",
    "fisher_mean_dfdp <- calc_fisher(dfdp_mean,cov_tot)\n",
    "one_sigma_mean_dfdp <- calc_1sigma(fisher_mean_dfdp)"
   ]
  },
  {
   "cell_type": "code",
   "execution_count": 17,
   "metadata": {
    "collapsed": true
   },
   "outputs": [],
   "source": [
    "mean_fisher <- apply(simplify2array(list(fisher_97,fisher_250,fisher_455,fisher_904,fisher_63)),c(1,2),mean)"
   ]
  },
  {
   "cell_type": "markdown",
   "metadata": {},
   "source": [
    "### alpha logM1 sigmalogM logM0 logMmin Acen Asat"
   ]
  },
  {
   "cell_type": "code",
   "execution_count": 18,
   "metadata": {
    "collapsed": false
   },
   "outputs": [
    {
     "data": {
      "text/html": [
       "<ol class=list-inline>\n",
       "\t<li>0.0186778010540445</li>\n",
       "\t<li>0.0154363153894855</li>\n",
       "\t<li>0.0269022986002453</li>\n",
       "\t<li>0.345100563848019</li>\n",
       "\t<li>0.0119242350385843</li>\n",
       "\t<li>0.125879319505299</li>\n",
       "\t<li>0.141700014200574</li>\n",
       "</ol>\n"
      ],
      "text/latex": [
       "\\begin{enumerate*}\n",
       "\\item 0.0186778010540445\n",
       "\\item 0.0154363153894855\n",
       "\\item 0.0269022986002453\n",
       "\\item 0.345100563848019\n",
       "\\item 0.0119242350385843\n",
       "\\item 0.125879319505299\n",
       "\\item 0.141700014200574\n",
       "\\end{enumerate*}\n"
      ],
      "text/markdown": [
       "1. 0.0186778010540445\n",
       "2. 0.0154363153894855\n",
       "3. 0.0269022986002453\n",
       "4. 0.345100563848019\n",
       "5. 0.0119242350385843\n",
       "6. 0.125879319505299\n",
       "7. 0.141700014200574\n",
       "\n",
       "\n"
      ],
      "text/plain": [
       "[1] 0.01867780 0.01543632 0.02690230 0.34510056 0.01192424 0.12587932 0.14170001"
      ]
     },
     "metadata": {},
     "output_type": "display_data"
    },
    {
     "data": {
      "text/html": [
       "<ol class=list-inline>\n",
       "\t<li>0.0156679695456429</li>\n",
       "\t<li>0.0126656558677705</li>\n",
       "\t<li>0.0277903269877647</li>\n",
       "\t<li>0.28857303346425</li>\n",
       "\t<li>0.0127244185259373</li>\n",
       "\t<li>0.105514695801283</li>\n",
       "\t<li>0.135686347888048</li>\n",
       "</ol>\n"
      ],
      "text/latex": [
       "\\begin{enumerate*}\n",
       "\\item 0.0156679695456429\n",
       "\\item 0.0126656558677705\n",
       "\\item 0.0277903269877647\n",
       "\\item 0.28857303346425\n",
       "\\item 0.0127244185259373\n",
       "\\item 0.105514695801283\n",
       "\\item 0.135686347888048\n",
       "\\end{enumerate*}\n"
      ],
      "text/markdown": [
       "1. 0.0156679695456429\n",
       "2. 0.0126656558677705\n",
       "3. 0.0277903269877647\n",
       "4. 0.28857303346425\n",
       "5. 0.0127244185259373\n",
       "6. 0.105514695801283\n",
       "7. 0.135686347888048\n",
       "\n",
       "\n"
      ],
      "text/plain": [
       "[1] 0.01566797 0.01266566 0.02779033 0.28857303 0.01272442 0.10551470 0.13568635"
      ]
     },
     "metadata": {},
     "output_type": "display_data"
    },
    {
     "data": {
      "text/html": [
       "<ol class=list-inline>\n",
       "\t<li>0.016300385532635</li>\n",
       "\t<li>0.0125418862585137</li>\n",
       "\t<li>0.0264771436368761</li>\n",
       "\t<li>0.270878224111843</li>\n",
       "\t<li>0.0128243745547101</li>\n",
       "\t<li>0.109642901135445</li>\n",
       "\t<li>0.146782831633391</li>\n",
       "</ol>\n"
      ],
      "text/latex": [
       "\\begin{enumerate*}\n",
       "\\item 0.016300385532635\n",
       "\\item 0.0125418862585137\n",
       "\\item 0.0264771436368761\n",
       "\\item 0.270878224111843\n",
       "\\item 0.0128243745547101\n",
       "\\item 0.109642901135445\n",
       "\\item 0.146782831633391\n",
       "\\end{enumerate*}\n"
      ],
      "text/markdown": [
       "1. 0.016300385532635\n",
       "2. 0.0125418862585137\n",
       "3. 0.0264771436368761\n",
       "4. 0.270878224111843\n",
       "5. 0.0128243745547101\n",
       "6. 0.109642901135445\n",
       "7. 0.146782831633391\n",
       "\n",
       "\n"
      ],
      "text/plain": [
       "[1] 0.01630039 0.01254189 0.02647714 0.27087822 0.01282437 0.10964290 0.14678283"
      ]
     },
     "metadata": {},
     "output_type": "display_data"
    },
    {
     "data": {
      "text/html": [
       "<ol class=list-inline>\n",
       "\t<li>0.014379347329101</li>\n",
       "\t<li>0.0122505524645524</li>\n",
       "\t<li>0.0265445738238312</li>\n",
       "\t<li>0.223280075189579</li>\n",
       "\t<li>0.012264562807441</li>\n",
       "\t<li>0.112250339501276</li>\n",
       "\t<li>0.141668794980298</li>\n",
       "</ol>\n"
      ],
      "text/latex": [
       "\\begin{enumerate*}\n",
       "\\item 0.014379347329101\n",
       "\\item 0.0122505524645524\n",
       "\\item 0.0265445738238312\n",
       "\\item 0.223280075189579\n",
       "\\item 0.012264562807441\n",
       "\\item 0.112250339501276\n",
       "\\item 0.141668794980298\n",
       "\\end{enumerate*}\n"
      ],
      "text/markdown": [
       "1. 0.014379347329101\n",
       "2. 0.0122505524645524\n",
       "3. 0.0265445738238312\n",
       "4. 0.223280075189579\n",
       "5. 0.012264562807441\n",
       "6. 0.112250339501276\n",
       "7. 0.141668794980298\n",
       "\n",
       "\n"
      ],
      "text/plain": [
       "[1] 0.01437935 0.01225055 0.02654457 0.22328008 0.01226456 0.11225034 0.14166879"
      ]
     },
     "metadata": {},
     "output_type": "display_data"
    },
    {
     "data": {
      "text/html": [
       "<ol class=list-inline>\n",
       "\t<li>0.0181197394844887</li>\n",
       "\t<li>0.0154776793839975</li>\n",
       "\t<li>0.0272106829570629</li>\n",
       "\t<li>0.359646944771894</li>\n",
       "\t<li>0.0135224179402602</li>\n",
       "\t<li>0.116854976765404</li>\n",
       "\t<li>0.142170178839625</li>\n",
       "</ol>\n"
      ],
      "text/latex": [
       "\\begin{enumerate*}\n",
       "\\item 0.0181197394844887\n",
       "\\item 0.0154776793839975\n",
       "\\item 0.0272106829570629\n",
       "\\item 0.359646944771894\n",
       "\\item 0.0135224179402602\n",
       "\\item 0.116854976765404\n",
       "\\item 0.142170178839625\n",
       "\\end{enumerate*}\n"
      ],
      "text/markdown": [
       "1. 0.0181197394844887\n",
       "2. 0.0154776793839975\n",
       "3. 0.0272106829570629\n",
       "4. 0.359646944771894\n",
       "5. 0.0135224179402602\n",
       "6. 0.116854976765404\n",
       "7. 0.142170178839625\n",
       "\n",
       "\n"
      ],
      "text/plain": [
       "[1] 0.01811974 0.01547768 0.02721068 0.35964694 0.01352242 0.11685498 0.14217018"
      ]
     },
     "metadata": {},
     "output_type": "display_data"
    }
   ],
   "source": [
    "one_sigma_97\n",
    "one_sigma_250\n",
    "one_sigma_455\n",
    "one_sigma_904\n",
    "one_sigma_63"
   ]
  },
  {
   "cell_type": "code",
   "execution_count": 19,
   "metadata": {
    "collapsed": false
   },
   "outputs": [
    {
     "data": {
      "text/html": [
       "<ol class=list-inline>\n",
       "\t<li>0.0166290485891824</li>\n",
       "\t<li>0.0136744178728639</li>\n",
       "\t<li>0.026985005201156</li>\n",
       "\t<li>0.297495768277117</li>\n",
       "\t<li>0.0126520017733866</li>\n",
       "\t<li>0.114028446541742</li>\n",
       "\t<li>0.141601633508387</li>\n",
       "</ol>\n"
      ],
      "text/latex": [
       "\\begin{enumerate*}\n",
       "\\item 0.0166290485891824\n",
       "\\item 0.0136744178728639\n",
       "\\item 0.026985005201156\n",
       "\\item 0.297495768277117\n",
       "\\item 0.0126520017733866\n",
       "\\item 0.114028446541742\n",
       "\\item 0.141601633508387\n",
       "\\end{enumerate*}\n"
      ],
      "text/markdown": [
       "1. 0.0166290485891824\n",
       "2. 0.0136744178728639\n",
       "3. 0.026985005201156\n",
       "4. 0.297495768277117\n",
       "5. 0.0126520017733866\n",
       "6. 0.114028446541742\n",
       "7. 0.141601633508387\n",
       "\n",
       "\n"
      ],
      "text/plain": [
       "[1] 0.01662905 0.01367442 0.02698501 0.29749577 0.01265200 0.11402845 0.14160163"
      ]
     },
     "metadata": {},
     "output_type": "display_data"
    }
   ],
   "source": [
    "###mean on sigma level\n",
    "mean_one_sigma <- colMeans(rbind(one_sigma_97,one_sigma_250,one_sigma_455,one_sigma_904,one_sigma_63),dims=1)\n",
    "mean_one_sigma"
   ]
  },
  {
   "cell_type": "code",
   "execution_count": 20,
   "metadata": {
    "collapsed": false
   },
   "outputs": [
    {
     "data": {
      "text/html": [
       "<ol class=list-inline>\n",
       "\t<li>0.0225838366296197</li>\n",
       "\t<li>0.0203665213742141</li>\n",
       "\t<li>0.0366000451104048</li>\n",
       "\t<li>0.537192958453875</li>\n",
       "\t<li>0.0177509753589716</li>\n",
       "\t<li>0.174782334720259</li>\n",
       "\t<li>0.170234414568566</li>\n",
       "</ol>\n"
      ],
      "text/latex": [
       "\\begin{enumerate*}\n",
       "\\item 0.0225838366296197\n",
       "\\item 0.0203665213742141\n",
       "\\item 0.0366000451104048\n",
       "\\item 0.537192958453875\n",
       "\\item 0.0177509753589716\n",
       "\\item 0.174782334720259\n",
       "\\item 0.170234414568566\n",
       "\\end{enumerate*}\n"
      ],
      "text/markdown": [
       "1. 0.0225838366296197\n",
       "2. 0.0203665213742141\n",
       "3. 0.0366000451104048\n",
       "4. 0.537192958453875\n",
       "5. 0.0177509753589716\n",
       "6. 0.174782334720259\n",
       "7. 0.170234414568566\n",
       "\n",
       "\n"
      ],
      "text/plain": [
       "[1] 0.02258384 0.02036652 0.03660005 0.53719296 0.01775098 0.17478233 0.17023441"
      ]
     },
     "metadata": {},
     "output_type": "display_data"
    }
   ],
   "source": [
    "###mean on dfdp level\n",
    "one_sigma_mean_dfdp"
   ]
  },
  {
   "cell_type": "code",
   "execution_count": 21,
   "metadata": {
    "collapsed": false
   },
   "outputs": [
    {
     "data": {
      "text/html": [
       "<ol class=list-inline>\n",
       "\t<li>0.0160018900684328</li>\n",
       "\t<li>0.0130951286128744</li>\n",
       "\t<li>0.026656660410626</li>\n",
       "\t<li>0.276454114878191</li>\n",
       "\t<li>0.0124652745833925</li>\n",
       "\t<li>0.111674710097895</li>\n",
       "\t<li>0.139931172915976</li>\n",
       "</ol>\n"
      ],
      "text/latex": [
       "\\begin{enumerate*}\n",
       "\\item 0.0160018900684328\n",
       "\\item 0.0130951286128744\n",
       "\\item 0.026656660410626\n",
       "\\item 0.276454114878191\n",
       "\\item 0.0124652745833925\n",
       "\\item 0.111674710097895\n",
       "\\item 0.139931172915976\n",
       "\\end{enumerate*}\n"
      ],
      "text/markdown": [
       "1. 0.0160018900684328\n",
       "2. 0.0130951286128744\n",
       "3. 0.026656660410626\n",
       "4. 0.276454114878191\n",
       "5. 0.0124652745833925\n",
       "6. 0.111674710097895\n",
       "7. 0.139931172915976\n",
       "\n",
       "\n"
      ],
      "text/plain": [
       "[1] 0.01600189 0.01309513 0.02665666 0.27645411 0.01246527 0.11167471 0.13993117"
      ]
     },
     "metadata": {},
     "output_type": "display_data"
    }
   ],
   "source": [
    "###mean on fisher matrix level\n",
    "one_sigma_mean_fisher <- calc_1sigma(mean_fisher)\n",
    "one_sigma_mean_fisher"
   ]
  },
  {
   "cell_type": "code",
   "execution_count": 22,
   "metadata": {
    "collapsed": false
   },
   "outputs": [
    {
     "data": {
      "image/png": "[encoded data removed]",
      "text/plain": [
       "plot without title"
      ]
     },
     "metadata": {},
     "output_type": "display_data"
    }
   ],
   "source": [
    "plot(mean_one_sigma, type='b', col='black',xlab='idx',ylab='one_sigma')\n",
    "lines(one_sigma_mean_dfdp, col='black', type='b',lty=3)\n",
    "lines(one_sigma_mean_fisher, col='black', type='b',lty=4)\n",
    "lines(one_sigma_97, col='red', type='b',lty=2)\n",
    "lines(one_sigma_250, col='blue', type='b',lty=2)\n",
    "lines(one_sigma_455, col='yellow', type='b',lty=2)\n",
    "lines(one_sigma_904, col='violet', type='b',lty=2)\n",
    "lines(one_sigma_63, col='orange', type='b',lty=2)"
   ]
  },
  {
   "cell_type": "markdown",
   "metadata": {},
   "source": [
    "## wp only"
   ]
  },
  {
   "cell_type": "code",
   "execution_count": 23,
   "metadata": {
    "collapsed": true
   },
   "outputs": [],
   "source": [
    "fisher_97_wp <- calc_fisher(dfdp_97[,1:20],cov_tot[1:20,1:20])\n",
    "fisher_250_wp <- calc_fisher(dfdp_250[,1:20],cov_tot[1:20,1:20])\n",
    "fisher_455_wp <- calc_fisher(dfdp_455[,1:20],cov_tot[1:20,1:20])\n",
    "fisher_904_wp <- calc_fisher(dfdp_904[,1:20],cov_tot[1:20,1:20])\n",
    "fisher_63_wp <- calc_fisher(dfdp_63[,1:20],cov_tot[1:20,1:20])"
   ]
  },
  {
   "cell_type": "code",
   "execution_count": 24,
   "metadata": {
    "collapsed": true
   },
   "outputs": [],
   "source": [
    "one_sigma_97_wp <- calc_1sigma(fisher_97_wp)\n",
    "one_sigma_250_wp <- calc_1sigma(fisher_250_wp)\n",
    "one_sigma_455_wp <- calc_1sigma(fisher_455_wp)\n",
    "one_sigma_904_wp <- calc_1sigma(fisher_904_wp)\n",
    "one_sigma_63_wp <- calc_1sigma(fisher_63_wp)"
   ]
  },
  {
   "cell_type": "code",
   "execution_count": 25,
   "metadata": {
    "collapsed": false
   },
   "outputs": [
    {
     "data": {
      "text/html": [
       "<ol class=list-inline>\n",
       "\t<li>0.0434416824581928</li>\n",
       "\t<li>0.0343685494464996</li>\n",
       "\t<li>0.234013439178162</li>\n",
       "\t<li>0.869948744330209</li>\n",
       "\t<li>0.0941019484714373</li>\n",
       "\t<li>0.838435109865805</li>\n",
       "\t<li>0.346846933822016</li>\n",
       "</ol>\n"
      ],
      "text/latex": [
       "\\begin{enumerate*}\n",
       "\\item 0.0434416824581928\n",
       "\\item 0.0343685494464996\n",
       "\\item 0.234013439178162\n",
       "\\item 0.869948744330209\n",
       "\\item 0.0941019484714373\n",
       "\\item 0.838435109865805\n",
       "\\item 0.346846933822016\n",
       "\\end{enumerate*}\n"
      ],
      "text/markdown": [
       "1. 0.0434416824581928\n",
       "2. 0.0343685494464996\n",
       "3. 0.234013439178162\n",
       "4. 0.869948744330209\n",
       "5. 0.0941019484714373\n",
       "6. 0.838435109865805\n",
       "7. 0.346846933822016\n",
       "\n",
       "\n"
      ],
      "text/plain": [
       "[1] 0.04344168 0.03436855 0.23401344 0.86994874 0.09410195 0.83843511 0.34684693"
      ]
     },
     "metadata": {},
     "output_type": "display_data"
    },
    {
     "data": {
      "text/html": [
       "<ol class=list-inline>\n",
       "\t<li>0.0315434251452571</li>\n",
       "\t<li>0.0266901737422587</li>\n",
       "\t<li>0.196865082009095</li>\n",
       "\t<li>0.713226343263263</li>\n",
       "\t<li>0.0745363715377819</li>\n",
       "\t<li>0.430984280326465</li>\n",
       "\t<li>0.45841147451238</li>\n",
       "</ol>\n"
      ],
      "text/latex": [
       "\\begin{enumerate*}\n",
       "\\item 0.0315434251452571\n",
       "\\item 0.0266901737422587\n",
       "\\item 0.196865082009095\n",
       "\\item 0.713226343263263\n",
       "\\item 0.0745363715377819\n",
       "\\item 0.430984280326465\n",
       "\\item 0.45841147451238\n",
       "\\end{enumerate*}\n"
      ],
      "text/markdown": [
       "1. 0.0315434251452571\n",
       "2. 0.0266901737422587\n",
       "3. 0.196865082009095\n",
       "4. 0.713226343263263\n",
       "5. 0.0745363715377819\n",
       "6. 0.430984280326465\n",
       "7. 0.45841147451238\n",
       "\n",
       "\n"
      ],
      "text/plain": [
       "[1] 0.03154343 0.02669017 0.19686508 0.71322634 0.07453637 0.43098428 0.45841147"
      ]
     },
     "metadata": {},
     "output_type": "display_data"
    },
    {
     "data": {
      "text/html": [
       "<ol class=list-inline>\n",
       "\t<li>0.034319464325001</li>\n",
       "\t<li>0.0325781753046047</li>\n",
       "\t<li>0.186782889376304</li>\n",
       "\t<li>0.702930595793512</li>\n",
       "\t<li>0.0676317135597937</li>\n",
       "\t<li>0.586512525807574</li>\n",
       "\t<li>0.374770930581394</li>\n",
       "</ol>\n"
      ],
      "text/latex": [
       "\\begin{enumerate*}\n",
       "\\item 0.034319464325001\n",
       "\\item 0.0325781753046047\n",
       "\\item 0.186782889376304\n",
       "\\item 0.702930595793512\n",
       "\\item 0.0676317135597937\n",
       "\\item 0.586512525807574\n",
       "\\item 0.374770930581394\n",
       "\\end{enumerate*}\n"
      ],
      "text/markdown": [
       "1. 0.034319464325001\n",
       "2. 0.0325781753046047\n",
       "3. 0.186782889376304\n",
       "4. 0.702930595793512\n",
       "5. 0.0676317135597937\n",
       "6. 0.586512525807574\n",
       "7. 0.374770930581394\n",
       "\n",
       "\n"
      ],
      "text/plain": [
       "[1] 0.03431946 0.03257818 0.18678289 0.70293060 0.06763171 0.58651253 0.37477093"
      ]
     },
     "metadata": {},
     "output_type": "display_data"
    },
    {
     "data": {
      "text/html": [
       "<ol class=list-inline>\n",
       "\t<li>0.0436672483059666</li>\n",
       "\t<li>0.067688329315297</li>\n",
       "\t<li>0.162982820130211</li>\n",
       "\t<li>1.26372845454537</li>\n",
       "\t<li>0.0604097354723963</li>\n",
       "\t<li>0.516695003615039</li>\n",
       "\t<li>0.622789293515038</li>\n",
       "</ol>\n"
      ],
      "text/latex": [
       "\\begin{enumerate*}\n",
       "\\item 0.0436672483059666\n",
       "\\item 0.067688329315297\n",
       "\\item 0.162982820130211\n",
       "\\item 1.26372845454537\n",
       "\\item 0.0604097354723963\n",
       "\\item 0.516695003615039\n",
       "\\item 0.622789293515038\n",
       "\\end{enumerate*}\n"
      ],
      "text/markdown": [
       "1. 0.0436672483059666\n",
       "2. 0.067688329315297\n",
       "3. 0.162982820130211\n",
       "4. 1.26372845454537\n",
       "5. 0.0604097354723963\n",
       "6. 0.516695003615039\n",
       "7. 0.622789293515038\n",
       "\n",
       "\n"
      ],
      "text/plain": [
       "[1] 0.04366725 0.06768833 0.16298282 1.26372845 0.06040974 0.51669500 0.62278929"
      ]
     },
     "metadata": {},
     "output_type": "display_data"
    },
    {
     "data": {
      "text/html": [
       "<ol class=list-inline>\n",
       "\t<li>0.0391549656259041</li>\n",
       "\t<li>0.0307480585787706</li>\n",
       "\t<li>0.200454008245837</li>\n",
       "\t<li>0.919597726294111</li>\n",
       "\t<li>0.0762370949833934</li>\n",
       "\t<li>0.62701222495582</li>\n",
       "\t<li>0.297797418202062</li>\n",
       "</ol>\n"
      ],
      "text/latex": [
       "\\begin{enumerate*}\n",
       "\\item 0.0391549656259041\n",
       "\\item 0.0307480585787706\n",
       "\\item 0.200454008245837\n",
       "\\item 0.919597726294111\n",
       "\\item 0.0762370949833934\n",
       "\\item 0.62701222495582\n",
       "\\item 0.297797418202062\n",
       "\\end{enumerate*}\n"
      ],
      "text/markdown": [
       "1. 0.0391549656259041\n",
       "2. 0.0307480585787706\n",
       "3. 0.200454008245837\n",
       "4. 0.919597726294111\n",
       "5. 0.0762370949833934\n",
       "6. 0.62701222495582\n",
       "7. 0.297797418202062\n",
       "\n",
       "\n"
      ],
      "text/plain": [
       "[1] 0.03915497 0.03074806 0.20045401 0.91959773 0.07623709 0.62701222 0.29779742"
      ]
     },
     "metadata": {},
     "output_type": "display_data"
    }
   ],
   "source": [
    "one_sigma_97_wp\n",
    "one_sigma_250_wp\n",
    "one_sigma_455_wp\n",
    "one_sigma_904_wp\n",
    "one_sigma_63_wp"
   ]
  },
  {
   "cell_type": "code",
   "execution_count": 90,
   "metadata": {
    "collapsed": true
   },
   "outputs": [],
   "source": [
    "library(colorspace)"
   ]
  },
  {
   "cell_type": "code",
   "execution_count": 98,
   "metadata": {
    "collapsed": false
   },
   "outputs": [],
   "source": [
    "library(\"lattice\")"
   ]
  },
  {
   "cell_type": "code",
   "execution_count": 100,
   "metadata": {
    "collapsed": true
   },
   "outputs": [],
   "source": [
    "plot_dfdp_discrepancy <- function(dfdp,meandfdp){\n",
    "    a <- dfdp/meandfdp - 1  \n",
    "    dim(a) <- 700\n",
    "    data <- expand.grid(X=seq(7), Y=seq(100))\n",
    "    data$Z <- a\n",
    "    levelplot(Z ~ X*Y, data=data, xlab='p_i', ylab='f_i',cuts=20, subset= a > -10 & a < 10,\n",
    "          col.regions = rainbow_hcl(100)[length(rainbow_hcl(100)):1])\n",
    " \n",
    "    \n",
    "}"
   ]
  },
  {
   "cell_type": "code",
   "execution_count": 102,
   "metadata": {
    "collapsed": false,
    "scrolled": false
   },
   "outputs": [
    {
     "data": {},
     "metadata": {},
     "output_type": "display_data"
    },
    {
     "data": {},
     "metadata": {},
     "output_type": "display_data"
    },
    {
     "data": {
      "image/png": "[encoded data removed]",
      "text/plain": [
       "plot without title"
      ]
     },
     "metadata": {},
     "output_type": "display_data"
    },
    {
     "data": {},
     "metadata": {},
     "output_type": "display_data"
    },
    {
     "data": {
      "image/png": "[encoded data removed]",
      "text/plain": [
       "plot without title"
      ]
     },
     "metadata": {},
     "output_type": "display_data"
    },
    {
     "data": {},
     "metadata": {},
     "output_type": "display_data"
    },
    {
     "data": {
      "image/png": "[encoded data removed]",
      "text/plain": [
       "plot without title"
      ]
     },
     "metadata": {},
     "output_type": "display_data"
    },
    {
     "data": {},
     "metadata": {},
     "output_type": "display_data"
    },
    {
     "data": {
      "image/png": "[encoded data removed]",
      "text/plain": [
       "plot without title"
      ]
     },
     "metadata": {},
     "output_type": "display_data"
    },
    {
     "data": {
      "image/png": "[encoded data removed]",
      "text/plain": [
       "plot without title"
      ]
     },
     "metadata": {},
     "output_type": "display_data"
    }
   ],
   "source": [
    "plot_dfdp_discrepancy(dfdp_97,dfdp_mean)\n",
    "plot_dfdp_discrepancy(dfdp_250,dfdp_mean)\n",
    "plot_dfdp_discrepancy(dfdp_455,dfdp_mean)\n",
    "plot_dfdp_discrepancy(dfdp_904,dfdp_mean)\n",
    "plot_dfdp_discrepancy(dfdp_63,dfdp_mean)"
   ]
  },
  {
   "cell_type": "code",
   "execution_count": 28,
   "metadata": {
    "collapsed": false
   },
   "outputs": [
    {
     "data": {},
     "metadata": {},
     "output_type": "display_data"
    },
    {
     "data": {
      "image/png": "[encoded data removed]",
      "text/plain": [
       "plot without title"
      ]
     },
     "metadata": {},
     "output_type": "display_data"
    }
   ],
   "source": [
    "y <- data_63$f[['func_all']][1:200,1]\n",
    "x <- data_63$f[['param']][1:200,1]\n",
    "\n",
    "gcvplot(y~x,kern='tria',alpha=c(0.1,0.15,0.2,0.22,0.25,0.26,0.27,0.28,0.3,0.35,0.4,0.45,0.5,0.6))"
   ]
  },
  {
   "cell_type": "code",
   "execution_count": 30,
   "metadata": {
    "collapsed": false
   },
   "outputs": [
    {
     "data": {},
     "metadata": {},
     "output_type": "display_data"
    },
    {
     "data": {
      "image/png": "[encoded data removed]",
      "text/plain": [
       "plot without title"
      ]
     },
     "metadata": {},
     "output_type": "display_data"
    }
   ],
   "source": [
    "y <- data_63$f[['func_all']][1:200,2]\n",
    "x <- data_63$f[['param']][1:200,1]\n",
    "\n",
    "gcvplot(y~x,kern='tria',alpha=c(0.1,0.15,0.2,0.22,0.25,0.26,0.27,0.28,0.3,0.35,0.4,0.45,0.5,0.6))"
   ]
  },
  {
   "cell_type": "code",
   "execution_count": 32,
   "metadata": {
    "collapsed": false
   },
   "outputs": [
    {
     "data": {},
     "metadata": {},
     "output_type": "display_data"
    },
    {
     "data": {
      "image/png": "[encoded data removed]",
      "text/plain": [
       "plot without title"
      ]
     },
     "metadata": {},
     "output_type": "display_data"
    }
   ],
   "source": [
    "y <- data_63$f[['func_all']][1:200,3]\n",
    "x <- data_63$f[['param']][1:200,1]\n",
    "\n",
    "gcvplot(y~x,kern='tria',alpha=c(0.1,0.15,0.2,0.22,0.25,0.26,0.27,0.28,0.3,0.35,0.4,0.45,0.5,0.6))"
   ]
  },
  {
   "cell_type": "code",
   "execution_count": 33,
   "metadata": {
    "collapsed": false
   },
   "outputs": [
    {
     "data": {},
     "metadata": {},
     "output_type": "display_data"
    },
    {
     "data": {
      "image/png": "[encoded data removed]",
      "text/plain": [
       "plot without title"
      ]
     },
     "metadata": {},
     "output_type": "display_data"
    }
   ],
   "source": [
    "y <- data_63$f[['func_all']][1:200,4]\n",
    "x <- data_63$f[['param']][1:200,1]\n",
    "\n",
    "gcvplot(y~x,kern='tria',alpha=c(0.1,0.15,0.2,0.22,0.25,0.26,0.27,0.28,0.3,0.35,0.4,0.45,0.5,0.6))"
   ]
  },
  {
   "cell_type": "code",
   "execution_count": 34,
   "metadata": {
    "collapsed": false
   },
   "outputs": [
    {
     "data": {},
     "metadata": {},
     "output_type": "display_data"
    },
    {
     "data": {
      "image/png": "[encoded data removed]",
      "text/plain": [
       "plot without title"
      ]
     },
     "metadata": {},
     "output_type": "display_data"
    }
   ],
   "source": [
    "y <- data_63$f[['func_all']][1:200,20]\n",
    "x <- data_63$f[['param']][1:200,1]\n",
    "\n",
    "gcvplot(y~x,kern='tria',alpha=c(0.1,0.15,0.2,0.22,0.25,0.26,0.27,0.28,0.3,0.35,0.4,0.45,0.5,0.6))"
   ]
  },
  {
   "cell_type": "code",
   "execution_count": 37,
   "metadata": {
    "collapsed": false
   },
   "outputs": [
    {
     "data": {},
     "metadata": {},
     "output_type": "display_data"
    },
    {
     "data": {},
     "metadata": {},
     "output_type": "display_data"
    },
    {
     "data": {
      "image/png": "[encoded data removed]",
      "text/plain": [
       "plot without title"
      ]
     },
     "metadata": {},
     "output_type": "display_data"
    },
    {
     "data": {
      "image/png": "[encoded data removed]",
      "text/plain": [
       "plot without title"
      ]
     },
     "metadata": {},
     "output_type": "display_data"
    }
   ],
   "source": [
    "y <- data_63$f[['func_all']][1:200,40]\n",
    "x <- data_63$f[['param']][1:200,1]\n",
    "\n",
    "gcvplot(y~x,kern='tria',alpha=c(0.1,0.15,0.2,0.22,0.25,0.26,0.27,0.28,0.3,0.35,0.4,0.45,0.5,0.6))\n",
    "y <- data_63$f[['func_all']][1:200,50]\n",
    "x <- data_63$f[['param']][1:200,1]\n",
    "\n",
    "gcvplot(y~x,kern='tria',alpha=c(0.1,0.15,0.2,0.22,0.25,0.26,0.27,0.28,0.3,0.35,0.4,0.45,0.5,0.6))"
   ]
  },
  {
   "cell_type": "code",
   "execution_count": 36,
   "metadata": {
    "collapsed": false
   },
   "outputs": [
    {
     "data": {},
     "metadata": {},
     "output_type": "display_data"
    },
    {
     "data": {
      "image/png": "[encoded data removed]",
      "text/plain": [
       "plot without title"
      ]
     },
     "metadata": {},
     "output_type": "display_data"
    }
   ],
   "source": [
    "y <- data_63$f[['func_all']][1:200,50]\n",
    "x <- data_63$f[['param']][1:200,1]\n",
    "\n",
    "gcvplot(y~x,kern='tria',alpha=c(0.1,0.15,0.2,0.22,0.25,0.26,0.27,0.28,0.3,0.35,0.4,0.45,0.5,0.6))"
   ]
  },
  {
   "cell_type": "code",
   "execution_count": null,
   "metadata": {
    "collapsed": true
   },
   "outputs": [],
   "source": []
  },
  {
   "cell_type": "code",
   "execution_count": null,
   "metadata": {
    "collapsed": true
   },
   "outputs": [],
   "source": []
  },
  {
   "cell_type": "code",
   "execution_count": 29,
   "metadata": {
    "collapsed": false
   },
   "outputs": [
    {
     "data": {},
     "metadata": {},
     "output_type": "display_data"
    },
    {
     "data": {
      "image/png": "[encoded data removed]",
      "text/plain": [
       "plot without title"
      ]
     },
     "metadata": {},
     "output_type": "display_data"
    }
   ],
   "source": [
    "y <- data_63$f[['func_all']][201:400,1]\n",
    "x <- data_63$f[['param']][201:400,2]\n",
    "\n",
    "gcvplot(y~x,kern='tria',alpha=c(0.1,0.15,0.2,0.22,0.25,0.26,0.27,0.28,0.3,0.35,0.4,0.45,0.5,0.6))"
   ]
  },
  {
   "cell_type": "code",
   "execution_count": 42,
   "metadata": {
    "collapsed": true
   },
   "outputs": [],
   "source": [
    "y <- data_63$f[['func_all']][1:200,1]\n",
    "x <- data_63$f[['param']][1:200,1]"
   ]
  },
  {
   "cell_type": "code",
   "execution_count": 50,
   "metadata": {
    "collapsed": false
   },
   "outputs": [
    {
     "data": {
      "text/html": [
       "4.25563146527909e-16"
      ],
      "text/latex": [
       "4.25563146527909e-16"
      ],
      "text/markdown": [
       "4.25563146527909e-16"
      ],
      "text/plain": [
       "[1] 4.255631e-16"
      ]
     },
     "metadata": {},
     "output_type": "display_data"
    }
   ],
   "source": [
    "as.numeric(gcv(y~x,kern='tria',alpha=0.1))[4]"
   ]
  },
  {
   "cell_type": "code",
   "execution_count": 44,
   "metadata": {
    "collapsed": false
   },
   "outputs": [
    {
     "data": {
      "text/html": [
       "<dl class=dl-horizontal>\n",
       "\t<dt>lik</dt>\n",
       "\t\t<dd>-3.41686134011023e-14</dd>\n",
       "\t<dt>infl</dt>\n",
       "\t\t<dd>12.2095868867402</dd>\n",
       "\t<dt>vari</dt>\n",
       "\t\t<dd>9.83334535571292</dd>\n",
       "\t<dt>gcv</dt>\n",
       "\t\t<dd>3.87561396102865e-16</dd>\n",
       "</dl>\n"
      ],
      "text/latex": [
       "\\begin{description*}\n",
       "\\item[lik] -3.41686134011023e-14\n",
       "\\item[infl] 12.2095868867402\n",
       "\\item[vari] 9.83334535571292\n",
       "\\item[gcv] 3.87561396102865e-16\n",
       "\\end{description*}\n"
      ],
      "text/markdown": [
       "lik\n",
       ":   -3.41686134011023e-14infl\n",
       ":   12.2095868867402vari\n",
       ":   9.83334535571292gcv\n",
       ":   3.87561396102865e-16\n",
       "\n"
      ],
      "text/plain": [
       "          lik          infl          vari           gcv \n",
       "-3.416861e-14  1.220959e+01  9.833345e+00  3.875614e-16 "
      ]
     },
     "metadata": {},
     "output_type": "display_data"
    }
   ],
   "source": [
    "gcv(y~x,kern='tria',alpha=0.3)"
   ]
  },
  {
   "cell_type": "code",
   "execution_count": 45,
   "metadata": {
    "collapsed": false
   },
   "outputs": [
    {
     "data": {
      "text/html": [
       "<dl class=dl-horizontal>\n",
       "\t<dt>lik</dt>\n",
       "\t\t<dd>-1.08610927958926e-13</dd>\n",
       "\t<dt>infl</dt>\n",
       "\t\t<dd>4.36968655484389</dd>\n",
       "\t<dt>vari</dt>\n",
       "\t\t<dd>3.66760522818668</dd>\n",
       "\t<dt>gcv</dt>\n",
       "\t\t<dd>1.13517080739212e-15</dd>\n",
       "</dl>\n"
      ],
      "text/latex": [
       "\\begin{description*}\n",
       "\\item[lik] -1.08610927958926e-13\n",
       "\\item[infl] 4.36968655484389\n",
       "\\item[vari] 3.66760522818668\n",
       "\\item[gcv] 1.13517080739212e-15\n",
       "\\end{description*}\n"
      ],
      "text/markdown": [
       "lik\n",
       ":   -1.08610927958926e-13infl\n",
       ":   4.36968655484389vari\n",
       ":   3.66760522818668gcv\n",
       ":   1.13517080739212e-15\n",
       "\n"
      ],
      "text/plain": [
       "          lik          infl          vari           gcv \n",
       "-1.086109e-13  4.369687e+00  3.667605e+00  1.135171e-15 "
      ]
     },
     "metadata": {},
     "output_type": "display_data"
    }
   ],
   "source": [
    "gcv(y~x,kern='tria',alpha=0.9)"
   ]
  },
  {
   "cell_type": "code",
   "execution_count": null,
   "metadata": {
    "collapsed": true
   },
   "outputs": [],
   "source": []
  },
  {
   "cell_type": "code",
   "execution_count": null,
   "metadata": {
    "collapsed": true
   },
   "outputs": [],
   "source": []
  }
 ],
 "metadata": {
  "kernelspec": {
   "display_name": "R 3.3",
   "language": "R",
   "name": "ir33"
  },
  "language_info": {
   "codemirror_mode": "r",
   "file_extension": ".r",
   "mimetype": "text/x-r-source",
   "name": "R",
   "pygments_lexer": "r",
   "version": "3.3.1"
  }
 },
 "nbformat": 4,
 "nbformat_minor": 0
}
