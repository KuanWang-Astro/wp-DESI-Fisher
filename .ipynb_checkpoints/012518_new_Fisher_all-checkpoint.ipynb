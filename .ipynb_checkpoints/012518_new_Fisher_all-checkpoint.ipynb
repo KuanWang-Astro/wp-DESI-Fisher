{
 "cells": [
  {
   "cell_type": "code",
   "execution_count": 1,
   "metadata": {
    "collapsed": true
   },
   "outputs": [],
   "source": [
    "import numpy as np\n",
    "import matplotlib.pyplot as plt\n",
    "%matplotlib inline\n",
    "%config InlineBackend.figure_format='retina'"
   ]
  },
  {
   "cell_type": "code",
   "execution_count": 2,
   "metadata": {
    "collapsed": false
   },
   "outputs": [
    {
     "name": "stdout",
     "output_type": "stream",
     "text": [
      "[  0.12542954   0.18922183   0.2854583    0.43063973   0.6496591\n",
      "   0.98006969   1.47852402   2.2304876    3.36489287   5.07624612\n",
      "   7.65797774  11.55275406  17.42837743  26.29228826]\n",
      "[  1.           1.17876863   1.38949549   1.63789371   1.93069773\n",
      "   2.27584593   2.6826958    3.16227766   3.72759372   4.39397056\n",
      "   5.17947468   6.1054023    7.19685673   8.48342898  10.        ]\n"
     ]
    }
   ],
   "source": [
    "r_wp = np.logspace(-1, 1.5, 15)\n",
    "r_wp = (r_wp[:-1]+r_wp[1:])/2.\n",
    "print r_wp\n",
    "r_vpf = np.logspace(0,1.,15)\n",
    "print r_vpf"
   ]
  },
  {
   "cell_type": "code",
   "execution_count": 3,
   "metadata": {
    "collapsed": false
   },
   "outputs": [],
   "source": [
    "zeropoint = np.load('012418_fisher_median.npz')"
   ]
  },
  {
   "cell_type": "code",
   "execution_count": 4,
   "metadata": {
    "collapsed": false
   },
   "outputs": [
    {
     "data": {
      "text/plain": [
       "['func_all', 'param', 'func_all_cov']"
      ]
     },
     "execution_count": 4,
     "metadata": {},
     "output_type": "execute_result"
    }
   ],
   "source": [
    "zeropoint.files"
   ]
  },
  {
   "cell_type": "code",
   "execution_count": 5,
   "metadata": {
    "collapsed": false
   },
   "outputs": [],
   "source": [
    "func_zp = zeropoint['func_all']\n",
    "funccov_zp = zeropoint['func_all_cov']\n",
    "param_zp = zeropoint['param']"
   ]
  },
  {
   "cell_type": "code",
   "execution_count": 6,
   "metadata": {
    "collapsed": false
   },
   "outputs": [
    {
     "data": {
      "text/plain": [
       "array([  1.02654941,  13.1879107 ,   0.87818971,  12.10313919,\n",
       "        12.26929428,   0.91596941,   0.02586083])"
      ]
     },
     "execution_count": 6,
     "metadata": {},
     "output_type": "execute_result"
    }
   ],
   "source": [
    "param_median = param_zp[0]\n",
    "param_median"
   ]
  },
  {
   "cell_type": "markdown",
   "metadata": {},
   "source": [
    "\n",
    "Out[4]:\n",
    "array([  1.02654941,  13.1879107 ,   0.87818971,  12.10313919,\n",
    "        12.26929428,   0.91596941,   0.02586083])"
   ]
  },
  {
   "cell_type": "code",
   "execution_count": 86,
   "metadata": {
    "collapsed": false
   },
   "outputs": [
    {
     "data": {
      "text/plain": [
       "[<matplotlib.lines.Line2D at 0x7f7190cc8590>]"
      ]
     },
     "execution_count": 86,
     "metadata": {},
     "output_type": "execute_result"
    },
    {
     "data": {
      "image/png": "[encoded data removed]",
      "text/plain": [
       "<matplotlib.figure.Figure at 0x7f71917c6250>"
      ]
     },
     "metadata": {
      "image/png": {
       "height": 250,
       "width": 380
      }
     },
     "output_type": "display_data"
    }
   ],
   "source": [
    "plt.plot(func[2000,30:])\n",
    "plt.plot(func[4001,30:])\n",
    "plt.plot(func[8002,30:])\n",
    "plt.plot(func[3,30:])\n",
    "plt.plot(func_zp[0,30:],'k.')\n",
    "#plt.semilogy()"
   ]
  },
  {
   "cell_type": "code",
   "execution_count": 3,
   "metadata": {
    "collapsed": true
   },
   "outputs": [],
   "source": [
    "points = np.random.random((10000,3))*250"
   ]
  },
  {
   "cell_type": "code",
   "execution_count": 4,
   "metadata": {
    "collapsed": true
   },
   "outputs": [],
   "source": [
    "from helpers import CorrelationFunction #ngal_wp_vpf_Pcic_jk\n",
    "from halotools.mock_observables import counts_in_cylinders"
   ]
  },
  {
   "cell_type": "code",
   "execution_count": 61,
   "metadata": {
    "collapsed": true
   },
   "outputs": [],
   "source": [
    "a = np.bincount(counts_in_cylinders(points, points, 2, \\\n",
    "            10,period=250), minlength=100)[1:71]/float(points.shape[0])"
   ]
  },
  {
   "cell_type": "code",
   "execution_count": 7,
   "metadata": {
    "collapsed": false
   },
   "outputs": [
    {
     "name": "stderr",
     "output_type": "stream",
     "text": [
      "/home/kuw8/anaconda2/lib/python2.7/site-packages/fast3tree/__init__.py:155: UserWarning: Please use `with` statment to open a fast3tree object.\n",
      "  warnings.warn(\"Please use `with` statment to open a fast3tree object.\")\n"
     ]
    }
   ],
   "source": [
    "b = CorrelationFunction.ngal_wp_vpf_Pcic_jk(points, r_wp, 60, r_vpf, np.random.random((10,3))*250, 2, 10, 250, 2)[0][29:]"
   ]
  },
  {
   "cell_type": "code",
   "execution_count": 9,
   "metadata": {
    "collapsed": false
   },
   "outputs": [
    {
     "data": {
      "text/plain": [
       "<module 'helpers.CorrelationFunction' from '/home/kuw8/anaconda2/lib/python2.7/site-packages/helpers/CorrelationFunction.py'>"
      ]
     },
     "execution_count": 9,
     "metadata": {},
     "output_type": "execute_result"
    }
   ],
   "source": [
    "reload(CorrelationFunction)"
   ]
  },
  {
   "cell_type": "code",
   "execution_count": 10,
   "metadata": {
    "collapsed": true
   },
   "outputs": [],
   "source": [
    "c = CorrelationFunction.ngal_wp_vpf_Pcic_jk(points, r_wp, 60, r_vpf, np.random.random((10,3))*250, 2, 10, 250, 2)[0][29:]"
   ]
  },
  {
   "cell_type": "code",
   "execution_count": 62,
   "metadata": {
    "collapsed": false
   },
   "outputs": [
    {
     "data": {
      "text/plain": [
       "array([  8.56100000e-01,   1.35600000e-01,   8.10000000e-03,\n",
       "         2.00000000e-04,   0.00000000e+00,   0.00000000e+00,\n",
       "         0.00000000e+00,   0.00000000e+00,   0.00000000e+00,\n",
       "         0.00000000e+00,   0.00000000e+00,   0.00000000e+00,\n",
       "         0.00000000e+00,   0.00000000e+00,   0.00000000e+00,\n",
       "         0.00000000e+00,   0.00000000e+00,   0.00000000e+00,\n",
       "         0.00000000e+00,   0.00000000e+00,   0.00000000e+00,\n",
       "         0.00000000e+00,   0.00000000e+00,   0.00000000e+00,\n",
       "         0.00000000e+00,   0.00000000e+00,   0.00000000e+00,\n",
       "         0.00000000e+00,   0.00000000e+00,   0.00000000e+00,\n",
       "         0.00000000e+00,   0.00000000e+00,   0.00000000e+00,\n",
       "         0.00000000e+00,   0.00000000e+00,   0.00000000e+00,\n",
       "         0.00000000e+00,   0.00000000e+00,   0.00000000e+00,\n",
       "         0.00000000e+00,   0.00000000e+00,   0.00000000e+00,\n",
       "         0.00000000e+00,   0.00000000e+00,   0.00000000e+00,\n",
       "         0.00000000e+00,   0.00000000e+00,   0.00000000e+00,\n",
       "         0.00000000e+00,   0.00000000e+00,   0.00000000e+00,\n",
       "         0.00000000e+00,   0.00000000e+00,   0.00000000e+00,\n",
       "         0.00000000e+00,   0.00000000e+00,   0.00000000e+00,\n",
       "         0.00000000e+00,   0.00000000e+00,   0.00000000e+00,\n",
       "         0.00000000e+00,   0.00000000e+00,   0.00000000e+00,\n",
       "         0.00000000e+00,   0.00000000e+00,   0.00000000e+00,\n",
       "         0.00000000e+00,   0.00000000e+00,   0.00000000e+00,\n",
       "         0.00000000e+00])"
      ]
     },
     "execution_count": 62,
     "metadata": {},
     "output_type": "execute_result"
    }
   ],
   "source": [
    "a"
   ]
  },
  {
   "cell_type": "code",
   "execution_count": 16,
   "metadata": {
    "collapsed": false
   },
   "outputs": [
    {
     "data": {
      "text/plain": [
       "array([  8.56100000e-01,   1.35600000e-01,   8.10000000e-03,\n",
       "         2.00000000e-04,   0.00000000e+00,   0.00000000e+00,\n",
       "         0.00000000e+00,   0.00000000e+00,   0.00000000e+00,\n",
       "         0.00000000e+00,   0.00000000e+00,   0.00000000e+00,\n",
       "         0.00000000e+00,   0.00000000e+00,   0.00000000e+00,\n",
       "         0.00000000e+00,   0.00000000e+00,   0.00000000e+00,\n",
       "         0.00000000e+00,   0.00000000e+00,   0.00000000e+00,\n",
       "         0.00000000e+00,   0.00000000e+00,   0.00000000e+00,\n",
       "         0.00000000e+00,   0.00000000e+00,   0.00000000e+00,\n",
       "         0.00000000e+00,   0.00000000e+00,   0.00000000e+00,\n",
       "         0.00000000e+00,   0.00000000e+00,   0.00000000e+00,\n",
       "         0.00000000e+00,   0.00000000e+00,   0.00000000e+00,\n",
       "         0.00000000e+00,   0.00000000e+00,   0.00000000e+00,\n",
       "         0.00000000e+00,   0.00000000e+00,   0.00000000e+00,\n",
       "         0.00000000e+00,   0.00000000e+00,   0.00000000e+00,\n",
       "         0.00000000e+00,   0.00000000e+00,   0.00000000e+00,\n",
       "         0.00000000e+00,   0.00000000e+00,   0.00000000e+00,\n",
       "         0.00000000e+00,   0.00000000e+00,   0.00000000e+00,\n",
       "         0.00000000e+00,   0.00000000e+00,   0.00000000e+00,\n",
       "         0.00000000e+00,   0.00000000e+00,   0.00000000e+00,\n",
       "         0.00000000e+00,   0.00000000e+00,   0.00000000e+00,\n",
       "         0.00000000e+00,   0.00000000e+00,   0.00000000e+00,\n",
       "         0.00000000e+00,   0.00000000e+00,   0.00000000e+00,\n",
       "         0.00000000e+00])"
      ]
     },
     "execution_count": 16,
     "metadata": {},
     "output_type": "execute_result"
    }
   ],
   "source": [
    "b"
   ]
  },
  {
   "cell_type": "code",
   "execution_count": 13,
   "metadata": {
    "collapsed": false
   },
   "outputs": [
    {
     "data": {
      "text/plain": [
       "array([  8.56100000e-01,   1.35600000e-01,   8.10000000e-03,\n",
       "         2.00000000e-04,   0.00000000e+00,   0.00000000e+00,\n",
       "         0.00000000e+00,   0.00000000e+00,   0.00000000e+00,\n",
       "         0.00000000e+00,   0.00000000e+00,   0.00000000e+00,\n",
       "         0.00000000e+00,   0.00000000e+00,   0.00000000e+00,\n",
       "         0.00000000e+00,   0.00000000e+00,   0.00000000e+00,\n",
       "         0.00000000e+00,   0.00000000e+00,   0.00000000e+00,\n",
       "         0.00000000e+00,   0.00000000e+00,   0.00000000e+00,\n",
       "         0.00000000e+00,   0.00000000e+00,   0.00000000e+00,\n",
       "         0.00000000e+00,   0.00000000e+00,   0.00000000e+00,\n",
       "         0.00000000e+00,   0.00000000e+00,   0.00000000e+00,\n",
       "         0.00000000e+00,   0.00000000e+00,   0.00000000e+00,\n",
       "         0.00000000e+00,   0.00000000e+00,   0.00000000e+00,\n",
       "         0.00000000e+00,   0.00000000e+00,   0.00000000e+00,\n",
       "         0.00000000e+00,   0.00000000e+00,   0.00000000e+00,\n",
       "         0.00000000e+00,   0.00000000e+00,   0.00000000e+00,\n",
       "         0.00000000e+00,   0.00000000e+00,   0.00000000e+00,\n",
       "         0.00000000e+00,   0.00000000e+00,   0.00000000e+00,\n",
       "         0.00000000e+00,   0.00000000e+00,   0.00000000e+00,\n",
       "         0.00000000e+00,   0.00000000e+00,   0.00000000e+00,\n",
       "         0.00000000e+00,   0.00000000e+00,   0.00000000e+00,\n",
       "         0.00000000e+00,   0.00000000e+00,   0.00000000e+00,\n",
       "         0.00000000e+00,   0.00000000e+00,   0.00000000e+00,\n",
       "         0.00000000e+00])"
      ]
     },
     "execution_count": 13,
     "metadata": {},
     "output_type": "execute_result"
    }
   ],
   "source": [
    "c"
   ]
  },
  {
   "cell_type": "code",
   "execution_count": 17,
   "metadata": {
    "collapsed": true
   },
   "outputs": [],
   "source": [
    "def apply_periodic(points,period):\n",
    "    x,y,z = points.T\n",
    "    length = points.shape[0]\n",
    "    extended_box = np.zeros((length*27,3))\n",
    "    xp = np.array((2,5,8,11,14,17,20,23,26))\n",
    "    xo = xp-1\n",
    "    xm = xp-2\n",
    "    yp = np.array((6,7,8,15,16,17,24,25,26))\n",
    "    yo = yp-3\n",
    "    ym = yp-6\n",
    "    zp = np.array((18,19,20,21,22,23,24,25,26))\n",
    "    zo = zp-9\n",
    "    zm = zp-18\n",
    "    for i in xp:\n",
    "        extended_box[i*length:(i+1)*length,0] = x+period\n",
    "    for i in xo:\n",
    "        extended_box[i*length:(i+1)*length,0] = x\n",
    "    for i in xm:\n",
    "        extended_box[i*length:(i+1)*length,0] = x-period\n",
    "    for i in yp:\n",
    "        extended_box[i*length:(i+1)*length,1] = y+period\n",
    "    for i in yo:\n",
    "        extended_box[i*length:(i+1)*length,1] = y\n",
    "    for i in ym:\n",
    "        extended_box[i*length:(i+1)*length,1] = y-period\n",
    "    for i in zp:\n",
    "        extended_box[i*length:(i+1)*length,2] = z+period\n",
    "    for i in zo:\n",
    "        extended_box[i*length:(i+1)*length,2] = z\n",
    "    for i in zm:\n",
    "        extended_box[i*length:(i+1)*length,2] = z-period\n",
    "    return extended_box"
   ]
  },
  {
   "cell_type": "code",
   "execution_count": 19,
   "metadata": {
    "collapsed": false
   },
   "outputs": [],
   "source": [
    "ext_points = apply_periodic(points,250)"
   ]
  },
  {
   "cell_type": "code",
   "execution_count": 45,
   "metadata": {
    "collapsed": true
   },
   "outputs": [
    {
     "name": "stdout",
     "output_type": "stream",
     "text": [
      "0\n",
      "20\n",
      "40\n",
      "60\n",
      "80\n",
      "100\n",
      "120\n",
      "140\n",
      "160\n",
      "180\n",
      "200\n",
      "220\n",
      "240\n",
      "260\n",
      "280\n",
      "300\n",
      "320\n",
      "340\n",
      "360\n",
      "380\n",
      "400\n",
      "420\n",
      "440\n",
      "460\n",
      "480\n",
      "500\n",
      "520\n",
      "540\n",
      "560\n",
      "580\n",
      "600\n",
      "620\n",
      "640\n",
      "660\n",
      "680\n",
      "700\n",
      "720\n",
      "740\n",
      "760\n",
      "780\n",
      "800\n",
      "820\n",
      "840\n",
      "860\n",
      "880\n",
      "900\n",
      "920\n",
      "940\n",
      "960\n",
      "980\n",
      "1000\n",
      "1020\n",
      "1040\n",
      "1060\n",
      "1080\n",
      "1100\n",
      "1120\n",
      "1140\n",
      "1160\n",
      "1180\n",
      "1200\n",
      "1220\n",
      "1240\n",
      "1260\n",
      "1280\n",
      "1300\n",
      "1320\n",
      "1340\n",
      "1360\n",
      "1380\n",
      "1400\n",
      "1420\n",
      "1440\n",
      "1460\n",
      "1480\n",
      "1500\n",
      "1520\n",
      "1540\n",
      "1560\n",
      "1580\n",
      "1600\n",
      "1620\n",
      "1640\n",
      "1660\n",
      "1680\n",
      "1700\n",
      "1720\n",
      "1740\n",
      "1760\n",
      "1780\n",
      "1800\n",
      "1820\n",
      "1840\n",
      "1860\n",
      "1880\n",
      "1900\n",
      "1920\n",
      "1940\n",
      "1960\n",
      "1980\n",
      "2000\n",
      "2020\n",
      "2040\n",
      "2060\n",
      "2080\n",
      "2100\n",
      "2120\n",
      "2140\n",
      "2160\n",
      "2180\n",
      "2200\n",
      "2220\n",
      "2240\n",
      "2260\n",
      "2280\n",
      "2300\n",
      "2320\n",
      "2340\n",
      "2360\n",
      "2380\n",
      "2400\n",
      "2420\n",
      "2440\n",
      "2460\n",
      "2480\n",
      "2500\n",
      "2520\n",
      "2540\n",
      "2560\n",
      "2580\n",
      "2600\n",
      "2620\n",
      "2640\n",
      "2660\n",
      "2680\n",
      "2700\n",
      "2720\n",
      "2740\n",
      "2760\n",
      "2780\n",
      "2800\n",
      "2820\n",
      "2840\n",
      "2860\n",
      "2880\n",
      "2900\n",
      "2920\n",
      "2940\n",
      "2960\n",
      "2980\n",
      "3000\n",
      "3020\n",
      "3040\n",
      "3060\n",
      "3080\n",
      "3100\n",
      "3120\n",
      "3140\n",
      "3160\n",
      "3180\n",
      "3200\n",
      "3220\n",
      "3240\n",
      "3260\n",
      "3280\n",
      "3300\n",
      "3320\n",
      "3340\n",
      "3360\n",
      "3380\n",
      "3400\n",
      "3420\n",
      "3440\n",
      "3460\n",
      "3480\n",
      "3500\n",
      "3520\n",
      "3540\n",
      "3560\n",
      "3580\n",
      "3600\n",
      "3620\n",
      "3640\n",
      "3660\n",
      "3680\n",
      "3700\n",
      "3720\n",
      "3740\n",
      "3760\n",
      "3780\n",
      "3800\n",
      "3820\n",
      "3840\n",
      "3860\n",
      "3880\n",
      "3900\n",
      "3920\n",
      "3940\n",
      "3960\n",
      "3980\n",
      "4000\n",
      "4020\n",
      "4040\n",
      "4060\n",
      "4080\n",
      "4100\n",
      "4120\n",
      "4140\n",
      "4160\n",
      "4180\n",
      "4200\n",
      "4220\n",
      "4240\n",
      "4260\n",
      "4280\n",
      "4300\n",
      "4320\n",
      "4340\n",
      "4360\n",
      "4380\n",
      "4400\n",
      "4420\n",
      "4440\n",
      "4460\n",
      "4480\n",
      "4500\n",
      "4520\n",
      "4540\n",
      "4560\n",
      "4580\n",
      "4600\n",
      "4620\n",
      "4640\n",
      "4660\n",
      "4680\n",
      "4700\n",
      "4720\n",
      "4740\n",
      "4760\n",
      "4780\n",
      "4800\n",
      "4820\n",
      "4840\n",
      "4860\n",
      "4880\n",
      "4900\n",
      "4920\n",
      "4940\n",
      "4960\n",
      "4980\n",
      "5000\n",
      "5020\n",
      "5040\n",
      "5060\n",
      "5080\n",
      "5100\n",
      "5120\n",
      "5140\n",
      "5160\n",
      "5180\n",
      "5200\n",
      "5220\n",
      "5240\n",
      "5260\n",
      "5280\n",
      "5300\n",
      "5320\n",
      "5340\n",
      "5360\n",
      "5380\n",
      "5400\n",
      "5420\n",
      "5440\n",
      "5460\n",
      "5480\n",
      "5500\n",
      "5520\n",
      "5540\n",
      "5560\n",
      "5580\n",
      "5600\n",
      "5620\n",
      "5640\n",
      "5660\n",
      "5680\n",
      "5700\n",
      "5720\n",
      "5740\n",
      "5760\n",
      "5780\n",
      "5800\n",
      "5820\n",
      "5840\n",
      "5860\n",
      "5880\n",
      "5900\n",
      "5920\n",
      "5940\n",
      "5960\n",
      "5980\n",
      "6000\n",
      "6020\n",
      "6040\n",
      "6060\n",
      "6080\n",
      "6100\n",
      "6120\n",
      "6140\n",
      "6160\n",
      "6180\n",
      "6200\n",
      "6220\n",
      "6240\n",
      "6260\n",
      "6280\n",
      "6300\n",
      "6320\n",
      "6340\n",
      "6360\n",
      "6380\n",
      "6400\n",
      "6420\n",
      "6440\n",
      "6460\n",
      "6480\n",
      "6500\n",
      "6520\n",
      "6540\n",
      "6560\n",
      "6580\n",
      "6600\n",
      "6620\n",
      "6640\n",
      "6660\n",
      "6680\n",
      "6700\n",
      "6720\n",
      "6740\n",
      "6760\n",
      "6780\n",
      "6800\n",
      "6820\n",
      "6840\n",
      "6860\n",
      "6880\n",
      "6900\n",
      "6920\n",
      "6940\n",
      "6960\n",
      "6980\n",
      "7000\n",
      "7020\n",
      "7040\n",
      "7060\n",
      "7080\n",
      "7100\n",
      "7120\n",
      "7140\n",
      "7160\n",
      "7180\n",
      "7200\n",
      "7220\n",
      "7240\n",
      "7260\n",
      "7280\n",
      "7300\n",
      "7320\n",
      "7340\n",
      "7360\n",
      "7380\n",
      "7400\n",
      "7420\n",
      "7440\n",
      "7460\n",
      "7480\n",
      "7500\n",
      "7520\n",
      "7540\n",
      "7560\n",
      "7580\n",
      "7600\n",
      "7620\n",
      "7640\n",
      "7660\n",
      "7680\n",
      "7700\n",
      "7720\n",
      "7740\n",
      "7760\n",
      "7780\n",
      "7800\n",
      "7820\n",
      "7840\n",
      "7860\n",
      "7880\n",
      "7900\n",
      "7920\n",
      "7940\n",
      "7960\n",
      "7980\n",
      "8000\n",
      "8020\n",
      "8040\n",
      "8060\n",
      "8080\n",
      "8100\n",
      "8120\n",
      "8140\n",
      "8160\n",
      "8180\n",
      "8200\n",
      "8220\n",
      "8240\n",
      "8260\n",
      "8280\n",
      "8300\n",
      "8320\n",
      "8340\n",
      "8360\n",
      "8380\n",
      "8400\n",
      "8420\n",
      "8440\n",
      "8460\n",
      "8480\n",
      "8500\n",
      "8520\n",
      "8540\n",
      "8560\n",
      "8580\n",
      "8600\n",
      "8620\n",
      "8640\n",
      "8660\n",
      "8680\n",
      "8700\n",
      "8720\n",
      "8740\n",
      "8760\n",
      "8780\n",
      "8800\n",
      "8820\n",
      "8840\n",
      "8860\n",
      "8880\n",
      "8900\n",
      "8920\n",
      "8940\n",
      "8960\n",
      "8980\n",
      "9000\n",
      "9020\n",
      "9040\n",
      "9060\n",
      "9080\n",
      "9100\n",
      "9120\n",
      "9140\n",
      "9160\n",
      "9180\n",
      "9200\n",
      "9220\n",
      "9240\n",
      "9260\n",
      "9280\n",
      "9300\n",
      "9320\n",
      "9340\n",
      "9360\n",
      "9380\n",
      "9400\n",
      "9420\n",
      "9440\n",
      "9460\n",
      "9480\n",
      "9500\n",
      "9520\n",
      "9540\n",
      "9560\n",
      "9580\n",
      "9600\n",
      "9620\n",
      "9640\n",
      "9660\n",
      "9680\n",
      "9700\n",
      "9720\n",
      "9740\n",
      "9760\n",
      "9780\n",
      "9800\n",
      "9820\n",
      "9840\n",
      "9860\n",
      "9880\n",
      "9900\n",
      "9920\n",
      "9940\n",
      "9960\n",
      "9980\n"
     ]
    }
   ],
   "source": [
    "cnts = []\n",
    "\n",
    "for i,pt in enumerate(points):\n",
    "    cnt = -1\n",
    "    for periopt in ext_points:\n",
    "        if np.abs(periopt[2]-pt[2])<10:\n",
    "            if (periopt[0]-pt[0])**2+(periopt[1]-pt[1])**2<4:\n",
    "                cnt += 1\n",
    "    if i%20==0:\n",
    "        print i\n",
    "    cnts.append(cnt)"
   ]
  },
  {
   "cell_type": "code",
   "execution_count": 47,
   "metadata": {
    "collapsed": false
   },
   "outputs": [
    {
     "data": {
      "text/plain": [
       "array([  8.56100000e-01,   1.35600000e-01,   8.10000000e-03,\n",
       "         2.00000000e-04,   0.00000000e+00,   0.00000000e+00,\n",
       "         0.00000000e+00,   0.00000000e+00,   0.00000000e+00,\n",
       "         0.00000000e+00,   0.00000000e+00,   0.00000000e+00,\n",
       "         0.00000000e+00,   0.00000000e+00,   0.00000000e+00,\n",
       "         0.00000000e+00,   0.00000000e+00,   0.00000000e+00,\n",
       "         0.00000000e+00,   0.00000000e+00,   0.00000000e+00,\n",
       "         0.00000000e+00,   0.00000000e+00,   0.00000000e+00,\n",
       "         0.00000000e+00,   0.00000000e+00,   0.00000000e+00,\n",
       "         0.00000000e+00,   0.00000000e+00,   0.00000000e+00,\n",
       "         0.00000000e+00,   0.00000000e+00,   0.00000000e+00,\n",
       "         0.00000000e+00,   0.00000000e+00,   0.00000000e+00,\n",
       "         0.00000000e+00,   0.00000000e+00,   0.00000000e+00,\n",
       "         0.00000000e+00,   0.00000000e+00,   0.00000000e+00,\n",
       "         0.00000000e+00,   0.00000000e+00,   0.00000000e+00,\n",
       "         0.00000000e+00,   0.00000000e+00,   0.00000000e+00,\n",
       "         0.00000000e+00,   0.00000000e+00,   0.00000000e+00,\n",
       "         0.00000000e+00,   0.00000000e+00,   0.00000000e+00,\n",
       "         0.00000000e+00,   0.00000000e+00,   0.00000000e+00,\n",
       "         0.00000000e+00,   0.00000000e+00,   0.00000000e+00,\n",
       "         0.00000000e+00,   0.00000000e+00,   0.00000000e+00,\n",
       "         0.00000000e+00,   0.00000000e+00,   0.00000000e+00,\n",
       "         0.00000000e+00,   0.00000000e+00,   0.00000000e+00,\n",
       "         0.00000000e+00])"
      ]
     },
     "execution_count": 47,
     "metadata": {},
     "output_type": "execute_result"
    }
   ],
   "source": [
    "np.bincount(cnts, minlength=100)[:70]/float(points.shape[0])"
   ]
  },
  {
   "cell_type": "code",
   "execution_count": 58,
   "metadata": {
    "collapsed": false
   },
   "outputs": [
    {
     "data": {
      "text/plain": [
       "<matplotlib.legend.Legend at 0x7efbe3d5e7d0>"
      ]
     },
     "execution_count": 58,
     "metadata": {},
     "output_type": "execute_result"
    },
    {
     "data": {
      "image/png": "[encoded data removed]",
      "text/plain": [
       "<matplotlib.figure.Figure at 0x7efbe3c3dd90>"
      ]
     },
     "metadata": {
      "image/png": {
       "height": 250,
       "width": 395
      }
     },
     "output_type": "display_data"
    }
   ],
   "source": [
    "#plt.plot(np.arange(3),a[:3],label='halotools')\n",
    "plt.plot(np.arange(3)+0.1,b[:3]-a[:3],'.',label='fast3tree')\n",
    "plt.plot(np.arange(3)+0.2,np.bincount(cnts, minlength=100)[:3]/float(points.shape[0])-a[:3],'.',label='brute force')\n",
    "plt.legend()"
   ]
  },
  {
   "cell_type": "code",
   "execution_count": 60,
   "metadata": {
    "collapsed": false
   },
   "outputs": [
    {
     "name": "stdout",
     "output_type": "stream",
     "text": [
      "toy model, 250^3 box, 10000 random points\n",
      "halotools\n",
      "[  8.59400000e-01   1.32400000e-01   8.00000000e-03   2.00000000e-04\n",
      "   0.00000000e+00]\n",
      "fast3tree count\n",
      "[  8.56100000e-01   1.35600000e-01   8.10000000e-03   2.00000000e-04\n",
      "   0.00000000e+00]\n",
      "scipy kd tree count\n",
      "[  8.56100000e-01   1.35600000e-01   8.10000000e-03   2.00000000e-04\n",
      "   0.00000000e+00]\n",
      "brute force\n",
      "[  8.56100000e-01   1.35600000e-01   8.10000000e-03   2.00000000e-04\n",
      "   0.00000000e+00]\n"
     ]
    }
   ],
   "source": [
    "print 'toy model, 250^3 box, 10000 random points'\n",
    "print 'counts in cylinders, r=2, half length=10'\n",
    "print 'halotools'\n",
    "print a[:5]\n",
    "print 'fast3tree count'\n",
    "print b[:5]\n",
    "print 'scipy kd tree count'\n",
    "print c[:5]\n",
    "print 'brute force'\n",
    "print np.bincount(cnts, minlength=100)[:5]/float(points.shape[0])"
   ]
  },
  {
   "cell_type": "code",
   "execution_count": null,
   "metadata": {
    "collapsed": true
   },
   "outputs": [],
   "source": []
  },
  {
   "cell_type": "code",
   "execution_count": 7,
   "metadata": {
    "collapsed": false
   },
   "outputs": [
    {
     "data": {
      "text/plain": [
       "<matplotlib.colorbar.Colorbar at 0x7f71b49ac710>"
      ]
     },
     "execution_count": 7,
     "metadata": {},
     "output_type": "execute_result"
    },
    {
     "data": {
      "image/png": "[encoded data removed]",
      "text/plain": [
       "<matplotlib.figure.Figure at 0x7f71b719f190>"
      ]
     },
     "metadata": {
      "image/png": {
       "height": 252,
       "width": 317
      }
     },
     "output_type": "display_data"
    }
   ],
   "source": [
    "plt.imshow((funccov_zp[0]/np.sqrt(funccov_zp[0].diagonal())).T/np.sqrt(funccov_zp[0].diagonal()),cmap='bwr')\n",
    "plt.colorbar()"
   ]
  },
  {
   "cell_type": "code",
   "execution_count": 8,
   "metadata": {
    "collapsed": false
   },
   "outputs": [
    {
     "data": {
      "text/plain": [
       "<matplotlib.colorbar.Colorbar at 0x7f71b472a690>"
      ]
     },
     "execution_count": 8,
     "metadata": {},
     "output_type": "execute_result"
    },
    {
     "data": {
      "image/png": "[encoded data removed]",
      "text/plain": [
       "<matplotlib.figure.Figure at 0x7f71b48b17d0>"
      ]
     },
     "metadata": {
      "image/png": {
       "height": 252,
       "width": 317
      }
     },
     "output_type": "display_data"
    }
   ],
   "source": [
    "plt.imshow((np.mean(funccov_zp,axis=0)/np.sqrt(np.mean(funccov_zp,axis=0).diagonal())).T\\\n",
    "           /np.sqrt(np.mean(funccov_zp,axis=0).diagonal()),cmap='bwr')\n",
    "plt.colorbar()"
   ]
  },
  {
   "cell_type": "code",
   "execution_count": 9,
   "metadata": {
    "collapsed": true
   },
   "outputs": [],
   "source": [
    "covar_real = np.cov(func_zp.T)\n",
    "\n",
    "covar_cosmic = np.mean(funccov_zp,axis=0)   ##mean?\n",
    "\n",
    "covar_tot = covar_cosmic+covar_real"
   ]
  },
  {
   "cell_type": "code",
   "execution_count": 10,
   "metadata": {
    "collapsed": true
   },
   "outputs": [],
   "source": [
    "pert = np.load('012318_fisher_pert_whole.npz')"
   ]
  },
  {
   "cell_type": "code",
   "execution_count": 11,
   "metadata": {
    "collapsed": false
   },
   "outputs": [
    {
     "data": {
      "text/plain": [
       "['i', 'func_all', 'param']"
      ]
     },
     "execution_count": 11,
     "metadata": {},
     "output_type": "execute_result"
    }
   ],
   "source": [
    "pert.files"
   ]
  },
  {
   "cell_type": "code",
   "execution_count": 12,
   "metadata": {
    "collapsed": true
   },
   "outputs": [],
   "source": [
    "func = pert['func_all']\n",
    "param = pert['param']\n",
    "ip = pert['i']"
   ]
  },
  {
   "cell_type": "code",
   "execution_count": 13,
   "metadata": {
    "collapsed": true
   },
   "outputs": [],
   "source": [
    "dfdp = np.zeros((7,100))\n",
    "\n",
    "def dfdpi(i_p,i_f):\n",
    "    return np.linalg.lstsq((param[2000*i_p:2000*(i_p+1),i_p]-param_median[i_p])[:,np.newaxis],\\\n",
    "                           func[2000*i_p:2000*(i_p+1),i_f]-np.mean(func_zp[:,i_f],axis=0))[0]"
   ]
  },
  {
   "cell_type": "code",
   "execution_count": 14,
   "metadata": {
    "collapsed": true
   },
   "outputs": [],
   "source": [
    "for i in range(7):\n",
    "    for j in range(100):\n",
    "        dfdp[i,j] = dfdpi(i,j)"
   ]
  },
  {
   "cell_type": "code",
   "execution_count": 33,
   "metadata": {
    "collapsed": false
   },
   "outputs": [
    {
     "name": "stdout",
     "output_type": "stream",
     "text": [
      "Using matplotlib backend: TkAgg\n"
     ]
    }
   ],
   "source": [
    "%matplotlib auto\n",
    "plt.ioff()"
   ]
  },
  {
   "cell_type": "code",
   "execution_count": 35,
   "metadata": {
    "collapsed": false
   },
   "outputs": [],
   "source": [
    "def plot_dfdp(i_p,i_f):\n",
    "    plt.figure()\n",
    "    plt.plot(param[2000*i_p:2000*(i_p+1),i_p]-param_median[i_p],func[2000*i_p:2000*(i_p+1),i_f]-np.mean(func_zp[:,i_f],axis=0),'.')\n",
    "    plt.plot(np.zeros(100),func_zp[:,i_f]-np.mean(func_zp[:,i_f],axis=0),'r^')\n",
    "    plt.xlabel('dp'+str(i_p))\n",
    "    plt.ylabel('df'+str(i_f))\n",
    "    plt.axhline(0,c='k',linestyle='--')\n",
    "    plt.axvline(0,c='k',linestyle='--')\n",
    "    plt.plot(np.array((min(param[2000*i_p:2000*(i_p+1),i_p]-param_median[i_p]),\\\n",
    "                       max(param[2000*i_p:2000*(i_p+1),i_p]-param_median[i_p]))),\\\n",
    "             np.array((min(param[2000*i_p:2000*(i_p+1),i_p]-param_median[i_p]),\\\n",
    "                       max(param[2000*i_p:2000*(i_p+1),i_p]-param_median[i_p])))*dfdp[i_p,i_f])\n",
    "    plt.savefig('012518_dfdp_plots/p{}f{}'.format(i_p,i_f))\n",
    "            \n",
    "    plt.close()"
   ]
  },
  {
   "cell_type": "code",
   "execution_count": 36,
   "metadata": {
    "collapsed": false,
    "scrolled": true
   },
   "outputs": [],
   "source": [
    "for i in range(7):\n",
    "    for j in range(100):\n",
    "        plot_dfdp(i,j)"
   ]
  },
  {
   "cell_type": "code",
   "execution_count": 37,
   "metadata": {
    "collapsed": false
   },
   "outputs": [],
   "source": [
    "fmatrix = np.zeros((7,7))\n",
    "for i in range(7):\n",
    "    for j in range(7):\n",
    "        fmatrix[i,j] = np.dot(dfdp[i],np.dot(np.linalg.inv(covar_tot),dfdp[j]))"
   ]
  },
  {
   "cell_type": "code",
   "execution_count": 38,
   "metadata": {
    "collapsed": false
   },
   "outputs": [
    {
     "name": "stdout",
     "output_type": "stream",
     "text": [
      "[ 0.03378135  0.0343035   0.03572509  0.21006868  0.0328081   0.11688056\n",
      "  0.23506694]\n"
     ]
    }
   ],
   "source": [
    "print np.sqrt(np.linalg.inv(fmatrix).diagonal())"
   ]
  },
  {
   "cell_type": "code",
   "execution_count": 40,
   "metadata": {
    "collapsed": false
   },
   "outputs": [
    {
     "data": {
      "text/plain": [
       "array([[  6.79883890e+03,  -5.93660052e+03,  -3.55256502e+03,\n",
       "          1.61312583e+02,   5.15339376e+03,  -1.57481424e+02,\n",
       "          2.89682474e+02],\n",
       "       [ -5.93660052e+03,   8.53160921e+03,   5.60259166e+03,\n",
       "          3.29359292e+02,  -6.32845214e+03,  -8.72979747e+01,\n",
       "         -5.31926104e+02],\n",
       "       [ -3.55256502e+03,   5.60259166e+03,   1.36737774e+04,\n",
       "          8.90604248e+01,  -1.44199823e+04,  -5.17178131e+02,\n",
       "         -4.92400723e+02],\n",
       "       [  1.61312583e+02,   3.29359292e+02,   8.90604248e+01,\n",
       "          1.14776504e+02,   1.48533135e+02,  -7.63607588e+00,\n",
       "         -4.58649901e+01],\n",
       "       [  5.15339376e+03,  -6.32845214e+03,  -1.44199823e+04,\n",
       "          1.48533135e+02,   1.72267733e+04,   3.09256487e+02,\n",
       "          5.41386965e+02],\n",
       "       [ -1.57481424e+02,  -8.72979747e+01,  -5.17178131e+02,\n",
       "         -7.63607588e+00,   3.09256487e+02,   1.56624348e+02,\n",
       "         -1.30452052e+01],\n",
       "       [  2.89682474e+02,  -5.31926104e+02,  -4.92400723e+02,\n",
       "         -4.58649901e+01,   5.41386965e+02,  -1.30452052e+01,\n",
       "          6.72738119e+01]])"
      ]
     },
     "execution_count": 40,
     "metadata": {},
     "output_type": "execute_result"
    }
   ],
   "source": [
    "fmatrix"
   ]
  },
  {
   "cell_type": "code",
   "execution_count": 82,
   "metadata": {
    "collapsed": true
   },
   "outputs": [],
   "source": [
    "fmatrix = np.zeros((7,7))\n",
    "for i in range(7):\n",
    "    for j in range(7):\n",
    "        fmatrix[i,j] = np.dot(dfdp[i][:30],np.dot(np.linalg.inv(covar_tot[:30,:30]),dfdp[j][:30]))"
   ]
  },
  {
   "cell_type": "code",
   "execution_count": 83,
   "metadata": {
    "collapsed": false
   },
   "outputs": [
    {
     "name": "stdout",
     "output_type": "stream",
     "text": [
      "[ 0.07888709  0.07714318  0.08930724  0.50086518  0.08061363  0.25806708\n",
      "  0.43857351]\n"
     ]
    }
   ],
   "source": [
    "print np.sqrt(np.linalg.inv(fmatrix).diagonal())"
   ]
  },
  {
   "cell_type": "code",
   "execution_count": 84,
   "metadata": {
    "collapsed": true
   },
   "outputs": [],
   "source": [
    "fmatrix = np.zeros((7,7))\n",
    "for i in range(7):\n",
    "    for j in range(7):\n",
    "        fmatrix[i,j] = np.dot(dfdp[i][:15],np.dot(np.linalg.inv(covar_tot[:15,:15]),dfdp[j][:15]))"
   ]
  },
  {
   "cell_type": "code",
   "execution_count": 85,
   "metadata": {
    "collapsed": false
   },
   "outputs": [
    {
     "name": "stdout",
     "output_type": "stream",
     "text": [
      "[ 0.09759052  0.09526944  0.2069452   0.69434051  0.15988057  0.3975981\n",
      "  0.69025109]\n"
     ]
    }
   ],
   "source": [
    "print np.sqrt(np.linalg.inv(fmatrix).diagonal())"
   ]
  },
  {
   "cell_type": "code",
   "execution_count": null,
   "metadata": {
    "collapsed": true
   },
   "outputs": [],
   "source": []
  }
 ],
 "metadata": {
  "kernelspec": {
   "display_name": "Python 2",
   "language": "python",
   "name": "python2"
  },
  "language_info": {
   "codemirror_mode": {
    "name": "ipython",
    "version": 2
   },
   "file_extension": ".py",
   "mimetype": "text/x-python",
   "name": "python",
   "nbconvert_exporter": "python",
   "pygments_lexer": "ipython2",
   "version": "2.7.12"
  }
 },
 "nbformat": 4,
 "nbformat_minor": 0
}
