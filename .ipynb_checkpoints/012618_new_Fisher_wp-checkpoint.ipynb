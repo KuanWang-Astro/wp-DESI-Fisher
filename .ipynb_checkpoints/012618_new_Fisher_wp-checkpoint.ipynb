{
 "cells": [
  {
   "cell_type": "code",
   "execution_count": 1,
   "metadata": {
    "collapsed": true
   },
   "outputs": [],
   "source": [
    "import numpy as np\n",
    "import matplotlib.pyplot as plt\n",
    "%matplotlib inline\n",
    "%config InlineBackend.figure_format='retina'"
   ]
  },
  {
   "cell_type": "code",
   "execution_count": 3,
   "metadata": {
    "collapsed": false
   },
   "outputs": [
    {
     "name": "stdout",
     "output_type": "stream",
     "text": [
      "[  0.11769381   0.15934284   0.21573048   0.29207236   0.39542981\n",
      "   0.535363     0.72481522   0.98131006   1.32857231   1.79872241\n",
      "   2.43524742   3.29702348   4.46376155   6.04338043   8.18198882\n",
      "  11.07739976  14.99742768  20.3046601   27.48999565]\n",
      "[  1.           1.17876863   1.38949549   1.63789371   1.93069773\n",
      "   2.27584593   2.6826958    3.16227766   3.72759372   4.39397056\n",
      "   5.17947468   6.1054023    7.19685673   8.48342898  10.        ]\n"
     ]
    }
   ],
   "source": [
    "r_wp = np.logspace(-1, 1.5, 20)\n",
    "r_wp = (r_wp[:-1]+r_wp[1:])/2.\n",
    "print r_wp\n",
    "r_vpf = np.logspace(0,1.,15)\n",
    "print r_vpf"
   ]
  },
  {
   "cell_type": "code",
   "execution_count": 4,
   "metadata": {
    "collapsed": false
   },
   "outputs": [],
   "source": [
    "zeropoint = np.load('012618_test_fisher_median.npz')"
   ]
  },
  {
   "cell_type": "code",
   "execution_count": 5,
   "metadata": {
    "collapsed": false
   },
   "outputs": [
    {
     "data": {
      "text/plain": [
       "['func_all', 'param', 'func_all_cov']"
      ]
     },
     "execution_count": 5,
     "metadata": {},
     "output_type": "execute_result"
    }
   ],
   "source": [
    "zeropoint.files"
   ]
  },
  {
   "cell_type": "code",
   "execution_count": 6,
   "metadata": {
    "collapsed": false
   },
   "outputs": [],
   "source": [
    "func_zp = zeropoint['func_all']\n",
    "funccov_zp = zeropoint['func_all_cov']\n",
    "param_zp = zeropoint['param']"
   ]
  },
  {
   "cell_type": "code",
   "execution_count": 7,
   "metadata": {
    "collapsed": false
   },
   "outputs": [
    {
     "data": {
      "text/plain": [
       "array([  1.02654941,  13.1879107 ,   0.87818971,  12.10313919,\n",
       "        12.26929428,   0.91596941,   0.02586083])"
      ]
     },
     "execution_count": 7,
     "metadata": {},
     "output_type": "execute_result"
    }
   ],
   "source": [
    "param_median = param_zp[0]\n",
    "param_median"
   ]
  },
  {
   "cell_type": "markdown",
   "metadata": {},
   "source": [
    "\n",
    "Out[4]:\n",
    "array([  1.02654941,  13.1879107 ,   0.87818971,  12.10313919,\n",
    "        12.26929428,   0.91596941,   0.02586083])"
   ]
  },
  {
   "cell_type": "code",
   "execution_count": 59,
   "metadata": {
    "collapsed": true
   },
   "outputs": [],
   "source": [
    "points = np.random.random((10000,3))*250"
   ]
  },
  {
   "cell_type": "code",
   "execution_count": 60,
   "metadata": {
    "collapsed": true
   },
   "outputs": [],
   "source": [
    "from helpers.CorrelationFunction import ngal_wp_vpf_Pcic_jk\n",
    "from halotools.mock_observables import counts_in_cylinders"
   ]
  },
  {
   "cell_type": "code",
   "execution_count": 78,
   "metadata": {
    "collapsed": true
   },
   "outputs": [],
   "source": [
    "a = np.bincount(counts_in_cylinders(points, points, 2, \\\n",
    "            10), minlength=100)[1:71]/float(points.shape[0])"
   ]
  },
  {
   "cell_type": "code",
   "execution_count": 80,
   "metadata": {
    "collapsed": true
   },
   "outputs": [],
   "source": [
    "b = ngal_wp_vpf_Pcic_jk(points, r_wp, 60, r_vpf, np.random.random((10,3))*250, 2, 10, 250, 2)[0][29:]"
   ]
  },
  {
   "cell_type": "code",
   "execution_count": 79,
   "metadata": {
    "collapsed": false
   },
   "outputs": [
    {
     "data": {
      "text/plain": [
       "array([ 0.8574,  0.1351,  0.0066,  0.0009,  0.    ,  0.    ,  0.    ,\n",
       "        0.    ,  0.    ,  0.    ,  0.    ,  0.    ,  0.    ,  0.    ,\n",
       "        0.    ,  0.    ,  0.    ,  0.    ,  0.    ,  0.    ,  0.    ,\n",
       "        0.    ,  0.    ,  0.    ,  0.    ,  0.    ,  0.    ,  0.    ,\n",
       "        0.    ,  0.    ,  0.    ,  0.    ,  0.    ,  0.    ,  0.    ,\n",
       "        0.    ,  0.    ,  0.    ,  0.    ,  0.    ,  0.    ,  0.    ,\n",
       "        0.    ,  0.    ,  0.    ,  0.    ,  0.    ,  0.    ,  0.    ,\n",
       "        0.    ,  0.    ,  0.    ,  0.    ,  0.    ,  0.    ,  0.    ,\n",
       "        0.    ,  0.    ,  0.    ,  0.    ,  0.    ,  0.    ,  0.    ,\n",
       "        0.    ,  0.    ,  0.    ,  0.    ,  0.    ,  0.    ,  0.    ])"
      ]
     },
     "execution_count": 79,
     "metadata": {},
     "output_type": "execute_result"
    }
   ],
   "source": [
    "a"
   ]
  },
  {
   "cell_type": "code",
   "execution_count": 81,
   "metadata": {
    "collapsed": false
   },
   "outputs": [
    {
     "data": {
      "text/plain": [
       "array([ 0.8538,  0.1383,  0.007 ,  0.0009,  0.    ,  0.    ,  0.    ,\n",
       "        0.    ,  0.    ,  0.    ,  0.    ,  0.    ,  0.    ,  0.    ,\n",
       "        0.    ,  0.    ,  0.    ,  0.    ,  0.    ,  0.    ,  0.    ,\n",
       "        0.    ,  0.    ,  0.    ,  0.    ,  0.    ,  0.    ,  0.    ,\n",
       "        0.    ,  0.    ,  0.    ,  0.    ,  0.    ,  0.    ,  0.    ,\n",
       "        0.    ,  0.    ,  0.    ,  0.    ,  0.    ,  0.    ,  0.    ,\n",
       "        0.    ,  0.    ,  0.    ,  0.    ,  0.    ,  0.    ,  0.    ,\n",
       "        0.    ,  0.    ,  0.    ,  0.    ,  0.    ,  0.    ,  0.    ,\n",
       "        0.    ,  0.    ,  0.    ,  0.    ,  0.    ,  0.    ,  0.    ,\n",
       "        0.    ,  0.    ,  0.    ,  0.    ,  0.    ,  0.    ,  0.    ])"
      ]
     },
     "execution_count": 81,
     "metadata": {},
     "output_type": "execute_result"
    }
   ],
   "source": [
    "b"
   ]
  },
  {
   "cell_type": "code",
   "execution_count": 10,
   "metadata": {
    "collapsed": false
   },
   "outputs": [
    {
     "data": {
      "text/plain": [
       "<matplotlib.colorbar.Colorbar at 0x7f2993110850>"
      ]
     },
     "execution_count": 10,
     "metadata": {},
     "output_type": "execute_result"
    },
    {
     "data": {
      "image/png": "[encoded data removed]",
      "text/plain": [
       "<matplotlib.figure.Figure at 0x7f2995a54dd0>"
      ]
     },
     "metadata": {
      "image/png": {
       "height": 252,
       "width": 311
      }
     },
     "output_type": "display_data"
    }
   ],
   "source": [
    "plt.imshow((funccov_zp[0]/np.sqrt(funccov_zp[0].diagonal())).T/np.sqrt(funccov_zp[0].diagonal()),cmap='Reds')\n",
    "plt.colorbar()"
   ]
  },
  {
   "cell_type": "code",
   "execution_count": 11,
   "metadata": {
    "collapsed": false
   },
   "outputs": [
    {
     "data": {
      "text/plain": [
       "<matplotlib.colorbar.Colorbar at 0x7f2993044710>"
      ]
     },
     "execution_count": 11,
     "metadata": {},
     "output_type": "execute_result"
    },
    {
     "data": {
      "image/png": "[encoded data removed]",
      "text/plain": [
       "<matplotlib.figure.Figure at 0x7f29931b9290>"
      ]
     },
     "metadata": {
      "image/png": {
       "height": 252,
       "width": 311
      }
     },
     "output_type": "display_data"
    }
   ],
   "source": [
    "plt.imshow((np.mean(funccov_zp,axis=0)/np.sqrt(np.mean(funccov_zp,axis=0).diagonal())).T\\\n",
    "           /np.sqrt(np.mean(funccov_zp,axis=0).diagonal()),cmap='Reds')\n",
    "plt.colorbar()"
   ]
  },
  {
   "cell_type": "code",
   "execution_count": 12,
   "metadata": {
    "collapsed": true
   },
   "outputs": [],
   "source": [
    "covar_real = np.cov(func_zp.T)\n",
    "\n",
    "covar_cosmic = np.mean(funccov_zp,axis=0)   ##mean?\n",
    "\n",
    "covar_tot = covar_cosmic+covar_real"
   ]
  },
  {
   "cell_type": "code",
   "execution_count": 33,
   "metadata": {
    "collapsed": false,
    "scrolled": false
   },
   "outputs": [
    {
     "data": {
      "text/plain": [
       "array([[  3.00629637e+02,   1.42975067e+02,   1.08557170e+02,\n",
       "          9.71868032e+01,   7.41053311e+01,   5.86555100e+01,\n",
       "          4.64715869e+01,   3.55229860e+01,   2.68052052e+01,\n",
       "          2.00475552e+01,   1.42875209e+01,   1.05019491e+01,\n",
       "          9.03890664e+00,   7.89339274e+00,   7.15330482e+00,\n",
       "          5.24439357e+00,   2.52010078e+00,   1.23926482e+00,\n",
       "         -3.20963717e-01],\n",
       "       [  1.42975067e+02,   1.85110858e+02,   1.06198775e+02,\n",
       "          9.14174230e+01,   7.31718631e+01,   5.93279753e+01,\n",
       "          4.72860488e+01,   3.51353373e+01,   2.74894452e+01,\n",
       "          1.95930678e+01,   1.35443315e+01,   1.04877738e+01,\n",
       "          8.98050037e+00,   7.56347572e+00,   7.12085641e+00,\n",
       "          5.67304580e+00,   2.99867951e+00,   1.97887560e+00,\n",
       "          2.46775765e-01],\n",
       "       [  1.08557170e+02,   1.06198775e+02,   1.22278236e+02,\n",
       "          8.44824401e+01,   6.88470805e+01,   5.67796485e+01,\n",
       "          4.53572592e+01,   3.43825235e+01,   2.67744992e+01,\n",
       "          1.95173697e+01,   1.40761492e+01,   1.07378690e+01,\n",
       "          9.65107967e+00,   8.39361577e+00,   7.90851035e+00,\n",
       "          6.45666258e+00,   3.95577502e+00,   2.99500583e+00,\n",
       "          1.29866648e+00],\n",
       "       [  9.71868032e+01,   9.14174230e+01,   8.44824401e+01,\n",
       "          9.02140308e+01,   6.40429750e+01,   5.31195858e+01,\n",
       "          4.24664381e+01,   3.27180560e+01,   2.54979420e+01,\n",
       "          1.85378398e+01,   1.32432068e+01,   1.01982877e+01,\n",
       "          9.01235497e+00,   7.82821212e+00,   7.40540986e+00,\n",
       "          6.14697547e+00,   3.84165610e+00,   3.16351812e+00,\n",
       "          1.44735390e+00],\n",
       "       [  7.41053311e+01,   7.31718631e+01,   6.88470805e+01,\n",
       "          6.40429750e+01,   5.97906323e+01,   4.46350603e+01,\n",
       "          3.67590340e+01,   2.82271095e+01,   2.22776760e+01,\n",
       "          1.61193182e+01,   1.16646185e+01,   9.07373255e+00,\n",
       "          8.08626064e+00,   7.15160542e+00,   6.78587907e+00,\n",
       "          5.70941864e+00,   3.77504365e+00,   3.03890709e+00,\n",
       "          1.37380472e+00],\n",
       "       [  5.86555100e+01,   5.93279753e+01,   5.67796485e+01,\n",
       "          5.31195858e+01,   4.46350603e+01,   4.21811260e+01,\n",
       "          3.27247489e+01,   2.55214591e+01,   2.01017194e+01,\n",
       "          1.47592827e+01,   1.07039128e+01,   8.32499261e+00,\n",
       "          7.49258658e+00,   6.58347630e+00,   6.26244645e+00,\n",
       "          5.35794303e+00,   3.60495585e+00,   3.08967437e+00,\n",
       "          1.74861428e+00],\n",
       "       [  4.64715869e+01,   4.72860488e+01,   4.53572592e+01,\n",
       "          4.24664381e+01,   3.67590340e+01,   3.27247489e+01,\n",
       "          2.98663428e+01,   2.28023018e+01,   1.82634112e+01,\n",
       "          1.35084715e+01,   9.85169131e+00,   7.71574671e+00,\n",
       "          6.87604047e+00,   5.99830118e+00,   5.55902358e+00,\n",
       "          4.56330122e+00,   2.93795515e+00,   2.41862317e+00,\n",
       "          1.41340027e+00],\n",
       "       [  3.55229860e+01,   3.51353373e+01,   3.43825235e+01,\n",
       "          3.27180560e+01,   2.82271095e+01,   2.55214591e+01,\n",
       "          2.28023018e+01,   2.01323836e+01,   1.57813119e+01,\n",
       "          1.17748615e+01,   8.61016644e+00,   6.78992546e+00,\n",
       "          6.01566005e+00,   5.16963040e+00,   4.66301473e+00,\n",
       "          3.65186399e+00,   2.17320515e+00,   1.56802595e+00,\n",
       "          8.39140221e-01],\n",
       "       [  2.68052052e+01,   2.74894452e+01,   2.67744992e+01,\n",
       "          2.54979420e+01,   2.22776760e+01,   2.01017194e+01,\n",
       "          1.82634112e+01,   1.57813119e+01,   1.40263687e+01,\n",
       "          1.03800048e+01,   7.58967668e+00,   6.10096505e+00,\n",
       "          5.37817990e+00,   4.56219502e+00,   4.03583233e+00,\n",
       "          3.10099560e+00,   1.81157886e+00,   1.23848226e+00,\n",
       "          6.76603187e-01],\n",
       "       [  2.00475552e+01,   1.95930678e+01,   1.95173697e+01,\n",
       "          1.85378398e+01,   1.61193182e+01,   1.47592827e+01,\n",
       "          1.35084715e+01,   1.17748615e+01,   1.03800048e+01,\n",
       "          8.54728981e+00,   6.30710137e+00,   5.04877478e+00,\n",
       "          4.45391859e+00,   3.84103457e+00,   3.42085464e+00,\n",
       "          2.64937913e+00,   1.61744698e+00,   1.08685563e+00,\n",
       "          5.39655166e-01],\n",
       "       [  1.42875209e+01,   1.35443315e+01,   1.40761492e+01,\n",
       "          1.32432068e+01,   1.16646185e+01,   1.07039128e+01,\n",
       "          9.85169131e+00,   8.61016644e+00,   7.58967668e+00,\n",
       "          6.30710137e+00,   5.33561554e+00,   4.30778546e+00,\n",
       "          3.88723406e+00,   3.41013964e+00,   3.09019658e+00,\n",
       "          2.49074995e+00,   1.65740076e+00,   1.18675477e+00,\n",
       "          6.28535840e-01],\n",
       "       [  1.05019491e+01,   1.04877738e+01,   1.07378690e+01,\n",
       "          1.01982877e+01,   9.07373255e+00,   8.32499261e+00,\n",
       "          7.71574671e+00,   6.78992546e+00,   6.10096505e+00,\n",
       "          5.04877478e+00,   4.30778546e+00,   4.02627582e+00,\n",
       "          3.65888967e+00,   3.18979114e+00,   2.92327105e+00,\n",
       "          2.42592668e+00,   1.75845168e+00,   1.33329477e+00,\n",
       "          7.83042521e-01],\n",
       "       [  9.03890664e+00,   8.98050037e+00,   9.65107967e+00,\n",
       "          9.01235497e+00,   8.08626064e+00,   7.49258658e+00,\n",
       "          6.87604047e+00,   6.01566005e+00,   5.37817990e+00,\n",
       "          4.45391859e+00,   3.88723406e+00,   3.65888967e+00,\n",
       "          3.69144046e+00,   3.31907439e+00,   3.13708287e+00,\n",
       "          2.75957066e+00,   2.24684894e+00,   1.90115141e+00,\n",
       "          1.29637587e+00],\n",
       "       [  7.89339274e+00,   7.56347572e+00,   8.39361577e+00,\n",
       "          7.82821212e+00,   7.15160542e+00,   6.58347630e+00,\n",
       "          5.99830118e+00,   5.16963040e+00,   4.56219502e+00,\n",
       "          3.84103457e+00,   3.41013964e+00,   3.18979114e+00,\n",
       "          3.31907439e+00,   3.39772581e+00,   3.37696915e+00,\n",
       "          3.07242385e+00,   2.67543250e+00,   2.32991197e+00,\n",
       "          1.63649848e+00],\n",
       "       [  7.15330482e+00,   7.12085641e+00,   7.90851035e+00,\n",
       "          7.40540986e+00,   6.78587907e+00,   6.26244645e+00,\n",
       "          5.55902358e+00,   4.66301473e+00,   4.03583233e+00,\n",
       "          3.42085464e+00,   3.09019658e+00,   2.92327105e+00,\n",
       "          3.13708287e+00,   3.37696915e+00,   3.70923237e+00,\n",
       "          3.59554958e+00,   3.37540005e+00,   3.10593903e+00,\n",
       "          2.34736260e+00],\n",
       "       [  5.24439357e+00,   5.67304580e+00,   6.45666258e+00,\n",
       "          6.14697547e+00,   5.70941864e+00,   5.35794303e+00,\n",
       "          4.56330122e+00,   3.65186399e+00,   3.10099560e+00,\n",
       "          2.64937913e+00,   2.49074995e+00,   2.42592668e+00,\n",
       "          2.75957066e+00,   3.07242385e+00,   3.59554958e+00,\n",
       "          4.07579577e+00,   4.19957291e+00,   4.12294480e+00,\n",
       "          3.24498594e+00],\n",
       "       [  2.52010078e+00,   2.99867951e+00,   3.95577502e+00,\n",
       "          3.84165610e+00,   3.77504365e+00,   3.60495585e+00,\n",
       "          2.93795515e+00,   2.17320515e+00,   1.81157886e+00,\n",
       "          1.61744698e+00,   1.65740076e+00,   1.75845168e+00,\n",
       "          2.24684894e+00,   2.67543250e+00,   3.37540005e+00,\n",
       "          4.19957291e+00,   4.99962011e+00,   5.30233711e+00,\n",
       "          4.52886195e+00],\n",
       "       [  1.23926482e+00,   1.97887560e+00,   2.99500583e+00,\n",
       "          3.16351812e+00,   3.03890709e+00,   3.08967437e+00,\n",
       "          2.41862317e+00,   1.56802595e+00,   1.23848226e+00,\n",
       "          1.08685563e+00,   1.18675477e+00,   1.33329477e+00,\n",
       "          1.90115141e+00,   2.32991197e+00,   3.10593903e+00,\n",
       "          4.12294480e+00,   5.30233711e+00,   6.37004098e+00,\n",
       "          5.98530692e+00],\n",
       "       [ -3.20963717e-01,   2.46775765e-01,   1.29866648e+00,\n",
       "          1.44735390e+00,   1.37380472e+00,   1.74861428e+00,\n",
       "          1.41340027e+00,   8.39140221e-01,   6.76603187e-01,\n",
       "          5.39655166e-01,   6.28535840e-01,   7.83042521e-01,\n",
       "          1.29637587e+00,   1.63649848e+00,   2.34736260e+00,\n",
       "          3.24498594e+00,   4.52886195e+00,   5.98530692e+00,\n",
       "          6.58629127e+00]])"
      ]
     },
     "execution_count": 33,
     "metadata": {},
     "output_type": "execute_result"
    }
   ],
   "source": [
    "covar_tot"
   ]
  },
  {
   "cell_type": "code",
   "execution_count": 32,
   "metadata": {
    "collapsed": false
   },
   "outputs": [
    {
     "data": {
      "text/plain": [
       "array([[ 196.48278496,  111.35221693,   97.63252245,   82.46588661,\n",
       "          66.62874066,   55.85987341,   45.23202055,   34.52901141,\n",
       "          27.02626599,   19.77421568,   13.99292094,   10.25600548,\n",
       "           8.82978379,    7.76957558,    7.13701189,    5.34997673,\n",
       "           2.50360832,    1.19919005,   -0.39201871],\n",
       "       [ 111.35221693,  136.36366616,   92.82546121,   79.74299135,\n",
       "          64.52589448,   54.16084958,   43.74000961,   33.29578815,\n",
       "          25.73436947,   18.70894568,   13.11686337,    9.83390082,\n",
       "           8.43632309,    7.32613786,    6.82712608,    5.39844071,\n",
       "           2.82652536,    1.79368764,    0.23125957],\n",
       "       [  97.63252245,   92.82546121,  101.03656586,   75.60036552,\n",
       "          61.59822547,   52.15214836,   42.79797178,   33.08271479,\n",
       "          25.94228926,   19.17918284,   13.68954456,   10.54284355,\n",
       "           9.28642928,    8.22935361,    7.83396605,    6.34064598,\n",
       "           3.86095191,    2.86910392,    1.23440122],\n",
       "       [  82.46588661,   79.74299135,   75.60036552,   75.92885615,\n",
       "          56.85658619,   48.44976945,   39.82344815,   30.89233259,\n",
       "          24.25673884,   17.80499782,   12.64717581,    9.83178483,\n",
       "           8.66250815,    7.67789004,    7.24727452,    5.98960078,\n",
       "           3.73547259,    3.0295992 ,    1.43662054],\n",
       "       [  66.62874066,   64.52589448,   61.59822547,   56.85658619,\n",
       "          51.77809408,   41.75583816,   34.52872916,   26.96405016,\n",
       "          21.28917525,   15.72067001,   11.28430948,    8.81319964,\n",
       "           7.84132871,    7.02356887,    6.68853584,    5.61194461,\n",
       "           3.71984586,    2.9511275 ,    1.37222927],\n",
       "       [  55.85987341,   54.16084958,   52.15214836,   48.44976945,\n",
       "          41.75583816,   38.59397312,   31.0494349 ,   24.30514871,\n",
       "          19.32496366,   14.37397187,   10.42055874,    8.15963116,\n",
       "           7.3244525 ,    6.50965635,    6.19688865,    5.2627379 ,\n",
       "           3.54482017,    3.0324591 ,    1.74399181],\n",
       "       [  45.23202055,   43.74000961,   42.79797178,   39.82344815,\n",
       "          34.52872916,   31.0494349 ,   27.91444754,   21.80073967,\n",
       "          17.64549978,   13.17775356,    9.56874352,    7.518646  ,\n",
       "           6.72073125,    5.90220749,    5.4820823 ,    4.48440783,\n",
       "           2.87918796,    2.35653575,    1.38251603],\n",
       "       [  34.52901141,   33.29578815,   33.08271479,   30.89233259,\n",
       "          26.96405016,   24.30514871,   21.80073967,   18.74501638,\n",
       "          15.20222728,   11.41833548,    8.33744935,    6.62644355,\n",
       "           5.85783304,    5.0583182 ,    4.57132889,    3.56419166,\n",
       "           2.11007979,    1.50513969,    0.80347093],\n",
       "       [  27.02626599,   25.73436947,   25.94228926,   24.25673884,\n",
       "          21.28917525,   19.32496366,   17.64549978,   15.20222728,\n",
       "          13.31731077,   10.01638598,    7.38409656,    5.92817387,\n",
       "           5.24818215,    4.47480963,    3.96917236,    3.02759751,\n",
       "           1.75623918,    1.20196816,    0.66545144],\n",
       "       [  19.77421568,   18.70894568,   19.17918284,   17.80499782,\n",
       "          15.72067001,   14.37397187,   13.17775356,   11.41833548,\n",
       "          10.01638598,    8.1112518 ,    6.06079043,    4.87606324,\n",
       "           4.35856161,    3.76943596,    3.36411992,    2.60204877,\n",
       "           1.5822611 ,    1.05547297,    0.52425232],\n",
       "       [  13.99292094,   13.11686337,   13.68954456,   12.64717581,\n",
       "          11.28430948,   10.42055874,    9.56874352,    8.33744935,\n",
       "           7.38409656,    6.06079043,    5.06616814,    4.17695154,\n",
       "           3.81039401,    3.3404713 ,    3.03957162,    2.44325107,\n",
       "           1.62678379,    1.16104085,    0.61994271],\n",
       "       [  10.25600548,    9.83390082,   10.54284355,    9.83178483,\n",
       "           8.81319964,    8.15963116,    7.518646  ,    6.62644355,\n",
       "           5.92817387,    4.87606324,    4.17695154,    3.855228  ,\n",
       "           3.56467715,    3.12985092,    2.8737573 ,    2.38424769,\n",
       "           1.73066951,    1.31364121,    0.77381622],\n",
       "       [   8.82978379,    8.43632309,    9.28642928,    8.66250815,\n",
       "           7.84132871,    7.3244525 ,    6.72073125,    5.85783304,\n",
       "           5.24818215,    4.35856161,    3.81039401,    3.56467715,\n",
       "           3.59015068,    3.26445396,    3.09591717,    2.7228401 ,\n",
       "           2.22221776,    1.88254433,    1.28738467],\n",
       "       [   7.76957558,    7.32613786,    8.22935361,    7.67789004,\n",
       "           7.02356887,    6.50965635,    5.90220749,    5.0583182 ,\n",
       "           4.47480963,    3.76943596,    3.3404713 ,    3.12985092,\n",
       "           3.26445396,    3.33358636,    3.33780616,    3.03785166,\n",
       "           2.65673738,    2.31740373,    1.63096005],\n",
       "       [   7.13701189,    6.82712608,    7.83396605,    7.24727452,\n",
       "           6.68853584,    6.19688865,    5.4820823 ,    4.57132889,\n",
       "           3.96917236,    3.36411992,    3.03957162,    2.8737573 ,\n",
       "           3.09591717,    3.33780616,    3.66528119,    3.5638105 ,\n",
       "           3.3575109 ,    3.09420986,    2.34211334],\n",
       "       [   5.34997673,    5.39844071,    6.34064598,    5.98960078,\n",
       "           5.61194461,    5.2627379 ,    4.48440783,    3.56419166,\n",
       "           3.02759751,    2.60204877,    2.44325107,    2.38424769,\n",
       "           2.7228401 ,    3.03785166,    3.5638105 ,    4.03286735,\n",
       "           4.17551919,    4.1069067 ,    3.23798491],\n",
       "       [   2.50360832,    2.82652536,    3.86095191,    3.73547259,\n",
       "           3.71984586,    3.54482017,    2.87918796,    2.11007979,\n",
       "           1.75623918,    1.5822611 ,    1.62678379,    1.73066951,\n",
       "           2.22221776,    2.65673738,    3.3575109 ,    4.17551919,\n",
       "           4.97693347,    5.28685283,    4.52156815],\n",
       "       [   1.19919005,    1.79368764,    2.86910392,    3.0295992 ,\n",
       "           2.9511275 ,    3.0324591 ,    2.35653575,    1.50513969,\n",
       "           1.20196816,    1.05547297,    1.16104085,    1.31364121,\n",
       "           1.88254433,    2.31740373,    3.09420986,    4.1069067 ,\n",
       "           5.28685283,    6.3487815 ,    5.97356231],\n",
       "       [  -0.39201871,    0.23125957,    1.23440122,    1.43662054,\n",
       "           1.37222927,    1.74399181,    1.38251603,    0.80347093,\n",
       "           0.66545144,    0.52425232,    0.61994271,    0.77381622,\n",
       "           1.28738467,    1.63096005,    2.34211334,    3.23798491,\n",
       "           4.52156815,    5.97356231,    6.57358086]])"
      ]
     },
     "execution_count": 32,
     "metadata": {},
     "output_type": "execute_result"
    }
   ],
   "source": [
    "covar_cosmic"
   ]
  },
  {
   "cell_type": "code",
   "execution_count": 13,
   "metadata": {
    "collapsed": true
   },
   "outputs": [],
   "source": [
    "pert = np.load('012518_fisher_pert_whole.npz')"
   ]
  },
  {
   "cell_type": "code",
   "execution_count": 14,
   "metadata": {
    "collapsed": false
   },
   "outputs": [
    {
     "data": {
      "text/plain": [
       "['i', 'func_all', 'param']"
      ]
     },
     "execution_count": 14,
     "metadata": {},
     "output_type": "execute_result"
    }
   ],
   "source": [
    "pert.files"
   ]
  },
  {
   "cell_type": "code",
   "execution_count": 23,
   "metadata": {
    "collapsed": true
   },
   "outputs": [],
   "source": [
    "func = pert['func_all'][:,1:20]\n",
    "param = pert['param']\n",
    "ip = pert['i']"
   ]
  },
  {
   "cell_type": "code",
   "execution_count": 23,
   "metadata": {
    "collapsed": false
   },
   "outputs": [
    {
     "data": {
      "text/plain": [
       "[]"
      ]
     },
     "execution_count": 23,
     "metadata": {},
     "output_type": "execute_result"
    },
    {
     "data": {
      "image/png": "[encoded data removed]",
      "text/plain": [
       "<matplotlib.figure.Figure at 0x7f21d578f1d0>"
      ]
     },
     "metadata": {
      "image/png": {
       "height": 250,
       "width": 381
      }
     },
     "output_type": "display_data"
    }
   ],
   "source": [
    "plt.plot(func[2000,35:])\n",
    "plt.plot(func[4001,35:])\n",
    "plt.plot(func[8002,35:])\n",
    "plt.plot(func[3,35:])\n",
    "plt.plot(func_zp[0,35:],'k.')\n",
    "plt.semilogy()"
   ]
  },
  {
   "cell_type": "code",
   "execution_count": 24,
   "metadata": {
    "collapsed": true
   },
   "outputs": [],
   "source": [
    "dfdp = np.zeros((7,19))\n",
    "\n",
    "def dfdpi(i_p,i_f):\n",
    "    return np.linalg.lstsq((param[2000*i_p:2000*(i_p+1),i_p]-param_median[i_p])[:,np.newaxis],\\\n",
    "                           func[2000*i_p:2000*(i_p+1),i_f]-np.mean(func_zp[:,i_f],axis=0))[0]"
   ]
  },
  {
   "cell_type": "code",
   "execution_count": 25,
   "metadata": {
    "collapsed": false
   },
   "outputs": [],
   "source": [
    "for i in range(7):\n",
    "    for j in range(19):\n",
    "        dfdp[i,j] = dfdpi(i,j)"
   ]
  },
  {
   "cell_type": "code",
   "execution_count": 26,
   "metadata": {
    "collapsed": false
   },
   "outputs": [
    {
     "name": "stdout",
     "output_type": "stream",
     "text": [
      "Using matplotlib backend: TkAgg\n"
     ]
    }
   ],
   "source": [
    "%matplotlib auto\n",
    "plt.ioff()"
   ]
  },
  {
   "cell_type": "code",
   "execution_count": 27,
   "metadata": {
    "collapsed": false
   },
   "outputs": [],
   "source": [
    "def plot_dfdp(i_p,i_f):\n",
    "    plt.figure()\n",
    "    plt.plot(param[2000*i_p:2000*(i_p+1),i_p]-param_median[i_p],func[2000*i_p:2000*(i_p+1),i_f]-np.mean(func_zp[:,i_f],axis=0),'.')\n",
    "    plt.plot(np.zeros(100),func_zp[:,i_f]-np.mean(func_zp[:,i_f],axis=0),'r^')\n",
    "    plt.xlabel('dp'+str(i_p))\n",
    "    plt.ylabel('df'+str(i_f))\n",
    "    plt.axhline(0,c='k',linestyle='--')\n",
    "    plt.axvline(0,c='k',linestyle='--')\n",
    "    plt.plot(np.array((min(param[2000*i_p:2000*(i_p+1),i_p]-param_median[i_p]),\\\n",
    "                       max(param[2000*i_p:2000*(i_p+1),i_p]-param_median[i_p]))),\\\n",
    "             np.array((min(param[2000*i_p:2000*(i_p+1),i_p]-param_median[i_p]),\\\n",
    "                       max(param[2000*i_p:2000*(i_p+1),i_p]-param_median[i_p])))*dfdp[i_p,i_f])\n",
    "    plt.savefig('012618_dfdp_plots/p{}f{}'.format(i_p,i_f))\n",
    "            \n",
    "    plt.close()"
   ]
  },
  {
   "cell_type": "code",
   "execution_count": 28,
   "metadata": {
    "collapsed": false,
    "scrolled": true
   },
   "outputs": [],
   "source": [
    "for i in range(7):\n",
    "    for j in range(105):\n",
    "        plot_dfdp(i,j)"
   ]
  },
  {
   "cell_type": "code",
   "execution_count": 34,
   "metadata": {
    "collapsed": false
   },
   "outputs": [],
   "source": [
    "fmatrix = np.zeros((7,7))\n",
    "for i in range(7):\n",
    "    for j in range(7):\n",
    "        fmatrix[i,j] = np.dot(dfdp[i],np.dot(np.linalg.inv(covar_tot),dfdp[j]))"
   ]
  },
  {
   "cell_type": "code",
   "execution_count": 35,
   "metadata": {
    "collapsed": false
   },
   "outputs": [
    {
     "name": "stdout",
     "output_type": "stream",
     "text": [
      "[ 0.11530196  0.41089729  0.33174301  0.698955    0.25383457  0.43568175\n",
      "  0.4603763 ]\n"
     ]
    }
   ],
   "source": [
    "print np.sqrt(np.linalg.inv(fmatrix).diagonal())"
   ]
  },
  {
   "cell_type": "code",
   "execution_count": 36,
   "metadata": {
    "collapsed": false
   },
   "outputs": [
    {
     "data": {
      "text/plain": [
       "array([[  5.75489805e+03,  -5.57036404e+03,  -4.17691884e+03,\n",
       "          9.73360686e+01,   5.52241761e+03,   2.82229981e+01,\n",
       "          3.72940477e+02],\n",
       "       [ -5.57036404e+03,   6.75015617e+03,   5.59078394e+03,\n",
       "          7.74938113e+01,  -7.22187555e+03,   5.10505450e+01,\n",
       "         -5.28187958e+02],\n",
       "       [ -4.17691884e+03,   5.59078394e+03,   4.82461213e+03,\n",
       "          1.34288718e+02,  -6.16906391e+03,   5.83390263e+01,\n",
       "         -4.67586627e+02],\n",
       "       [  9.73360686e+01,   7.74938113e+01,   1.34288718e+02,\n",
       "          2.91772210e+01,  -1.52580450e+02,   7.99049425e+00,\n",
       "         -1.83573147e+01],\n",
       "       [  5.52241761e+03,  -7.22187555e+03,  -6.16906391e+03,\n",
       "         -1.52580450e+02,   7.92765964e+03,  -7.05012767e+01,\n",
       "          5.93699923e+02],\n",
       "       [  2.82229981e+01,   5.10505450e+01,   5.83390263e+01,\n",
       "          7.99049425e+00,  -7.05012767e+01,   1.50388421e+01,\n",
       "         -4.49524460e+00],\n",
       "       [  3.72940477e+02,  -5.28187958e+02,  -4.67586627e+02,\n",
       "         -1.83573147e+01,   5.93699923e+02,  -4.49524460e+00,\n",
       "          5.21853189e+01]])"
      ]
     },
     "execution_count": 36,
     "metadata": {},
     "output_type": "execute_result"
    }
   ],
   "source": [
    "fmatrix"
   ]
  },
  {
   "cell_type": "code",
   "execution_count": 32,
   "metadata": {
    "collapsed": true
   },
   "outputs": [],
   "source": [
    "fmatrix = np.zeros((7,7))\n",
    "for i in range(7):\n",
    "    for j in range(7):\n",
    "        fmatrix[i,j] = np.dot(dfdp[i][:35],np.dot(np.linalg.inv(covar_tot[:35,:35]),dfdp[j][:35]))"
   ]
  },
  {
   "cell_type": "code",
   "execution_count": 33,
   "metadata": {
    "collapsed": false
   },
   "outputs": [
    {
     "name": "stdout",
     "output_type": "stream",
     "text": [
      "[ 0.07135284  0.07050692  0.08085176  0.43007627  0.07267367  0.20219238\n",
      "  0.32181445]\n"
     ]
    }
   ],
   "source": [
    "print np.sqrt(np.linalg.inv(fmatrix).diagonal())"
   ]
  },
  {
   "cell_type": "code",
   "execution_count": 34,
   "metadata": {
    "collapsed": true
   },
   "outputs": [],
   "source": [
    "fmatrix = np.zeros((7,7))\n",
    "for i in range(7):\n",
    "    for j in range(7):\n",
    "        fmatrix[i,j] = np.dot(dfdp[i][:20],np.dot(np.linalg.inv(covar_tot[:20,:20]),dfdp[j][:20]))"
   ]
  },
  {
   "cell_type": "code",
   "execution_count": 35,
   "metadata": {
    "collapsed": false
   },
   "outputs": [
    {
     "name": "stdout",
     "output_type": "stream",
     "text": [
      "[ 0.07962911  0.07773792  0.26019894  0.48198755  0.20329132  0.33141164\n",
      "  0.45355251]\n"
     ]
    }
   ],
   "source": [
    "print np.sqrt(np.linalg.inv(fmatrix).diagonal())"
   ]
  },
  {
   "cell_type": "code",
   "execution_count": null,
   "metadata": {
    "collapsed": true
   },
   "outputs": [],
   "source": []
  }
 ],
 "metadata": {
  "kernelspec": {
   "display_name": "Python 2",
   "language": "python",
   "name": "python2"
  },
  "language_info": {
   "codemirror_mode": {
    "name": "ipython",
    "version": 2
   },
   "file_extension": ".py",
   "mimetype": "text/x-python",
   "name": "python",
   "nbconvert_exporter": "python",
   "pygments_lexer": "ipython2",
   "version": "2.7.12"
  }
 },
 "nbformat": 4,
 "nbformat_minor": 0
}
